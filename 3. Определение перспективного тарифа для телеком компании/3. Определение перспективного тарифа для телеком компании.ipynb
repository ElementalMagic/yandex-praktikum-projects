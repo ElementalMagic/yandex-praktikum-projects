{
 "cells": [
  {
   "cell_type": "markdown",
   "metadata": {},
   "source": [
    "# Определение перспективного тарифа для телеком компании"
   ]
  },
  {
   "cell_type": "markdown",
   "metadata": {
    "toc": true
   },
   "source": [
    "<h1>Содержание<span class=\"tocSkip\"></span></h1>\n",
    "<div class=\"toc\"><ul class=\"toc-item\"><li><span><a href=\"#Задача-и-описание-данных\" data-toc-modified-id=\"Задача-и-описание-данных-1\"><span class=\"toc-item-num\">1&nbsp;&nbsp;</span>Задача и описание данных</a></span><ul class=\"toc-item\"><li><span><a href=\"#Задача\" data-toc-modified-id=\"Задача-1.1\"><span class=\"toc-item-num\">1.1&nbsp;&nbsp;</span>Задача</a></span></li><li><span><a href=\"#Описание-данных\" data-toc-modified-id=\"Описание-данных-1.2\"><span class=\"toc-item-num\">1.2&nbsp;&nbsp;</span>Описание данных</a></span></li></ul></li><li><span><a href=\"#Импорт-данных\" data-toc-modified-id=\"Импорт-данных-2\"><span class=\"toc-item-num\">2&nbsp;&nbsp;</span>Импорт данных</a></span><ul class=\"toc-item\"><li><span><a href=\"#Вывод\" data-toc-modified-id=\"Вывод-2.1\"><span class=\"toc-item-num\">2.1&nbsp;&nbsp;</span>Вывод</a></span></li></ul></li><li><span><a href=\"#Предобработка-данных\" data-toc-modified-id=\"Предобработка-данных-3\"><span class=\"toc-item-num\">3&nbsp;&nbsp;</span>Предобработка данных</a></span><ul class=\"toc-item\"><li><span><a href=\"#Вывод\" data-toc-modified-id=\"Вывод-3.1\"><span class=\"toc-item-num\">3.1&nbsp;&nbsp;</span>Вывод</a></span></li></ul></li><li><span><a href=\"#Анализ-поведения-клиента\" data-toc-modified-id=\"Анализ-поведения-клиента-4\"><span class=\"toc-item-num\">4&nbsp;&nbsp;</span>Анализ поведения клиента</a></span><ul class=\"toc-item\"><li><span><a href=\"#Интернет-трафик\" data-toc-modified-id=\"Интернет-трафик-4.1\"><span class=\"toc-item-num\">4.1&nbsp;&nbsp;</span>Интернет-трафик</a></span></li><li><span><a href=\"#Звонки\" data-toc-modified-id=\"Звонки-4.2\"><span class=\"toc-item-num\">4.2&nbsp;&nbsp;</span>Звонки</a></span></li><li><span><a href=\"#Сообщения\" data-toc-modified-id=\"Сообщения-4.3\"><span class=\"toc-item-num\">4.3&nbsp;&nbsp;</span>Сообщения</a></span></li><li><span><a href=\"#Сравним-доходность-двух-тарифов\" data-toc-modified-id=\"Сравним-доходность-двух-тарифов-4.4\"><span class=\"toc-item-num\">4.4&nbsp;&nbsp;</span>Сравним доходность двух тарифов</a></span></li><li><span><a href=\"#Вывод\" data-toc-modified-id=\"Вывод-4.5\"><span class=\"toc-item-num\">4.5&nbsp;&nbsp;</span>Вывод</a></span></li></ul></li><li><span><a href=\"#Проверка-гипотез\" data-toc-modified-id=\"Проверка-гипотез-5\"><span class=\"toc-item-num\">5&nbsp;&nbsp;</span>Проверка гипотез</a></span><ul class=\"toc-item\"><li><span><a href=\"#Гипотеза:-средняя-выручка-пользователей-тарифов-«Ультра»-и-«Смарт»-различается\" data-toc-modified-id=\"Гипотеза:-средняя-выручка-пользователей-тарифов-«Ультра»-и-«Смарт»-различается-5.1\"><span class=\"toc-item-num\">5.1&nbsp;&nbsp;</span>Гипотеза: средняя выручка пользователей тарифов «Ультра» и «Смарт» различается</a></span><ul class=\"toc-item\"><li><span><a href=\"#Вывод\" data-toc-modified-id=\"Вывод-5.1.1\"><span class=\"toc-item-num\">5.1.1&nbsp;&nbsp;</span>Вывод</a></span></li></ul></li><li><span><a href=\"#Гипотеза:-средняя-выручка-пользователей-из-Москвы-отличается-от-выручки-пользователей-из-других-регионов\" data-toc-modified-id=\"Гипотеза:-средняя-выручка-пользователей-из-Москвы-отличается-от-выручки-пользователей-из-других-регионов-5.2\"><span class=\"toc-item-num\">5.2&nbsp;&nbsp;</span>Гипотеза: средняя выручка пользователей из Москвы отличается от выручки пользователей из других регионов</a></span><ul class=\"toc-item\"><li><span><a href=\"#Вывод\" data-toc-modified-id=\"Вывод-5.2.1\"><span class=\"toc-item-num\">5.2.1&nbsp;&nbsp;</span>Вывод</a></span></li></ul></li></ul></li><li><span><a href=\"#Общий-вывод:\" data-toc-modified-id=\"Общий-вывод:-6\"><span class=\"toc-item-num\">6&nbsp;&nbsp;</span>Общий вывод:</a></span></li></ul></div>"
   ]
  },
  {
   "cell_type": "markdown",
   "metadata": {},
   "source": [
    "## Задача и описание данных"
   ]
  },
  {
   "cell_type": "markdown",
   "metadata": {},
   "source": [
    "### Задача"
   ]
  },
  {
   "cell_type": "markdown",
   "metadata": {},
   "source": [
    "На основе данных клиентов оператора сотовой связи проанализировать поведение клиентов и поиск оптимального тарифа."
   ]
  },
  {
   "cell_type": "markdown",
   "metadata": {},
   "source": [
    "### Описание данных"
   ]
  },
  {
   "cell_type": "markdown",
   "metadata": {},
   "source": [
    "* Таблица users (информация о пользователях):\n",
    "    * user_id — уникальный идентификатор пользователя\n",
    "    * first_name — имя пользователя\n",
    "    * last_name — фамилия пользователя\n",
    "    * age — возраст пользователя (годы)\n",
    "    * reg_date — дата подключения тарифа (день, месяц, год)\n",
    "    * churn_date — дата прекращения пользования тарифом (если значение пропущено, то тариф ещё действовал на момент выгрузки данных)\n",
    "    * city — город проживания пользователя\n",
    "    * tarif — название тарифного плана\n",
    "* Таблица calls (информация о звонках):\n",
    "    * id — уникальный номер звонка\n",
    "    * call_date — дата звонка\n",
    "    * duration — длительность звонка в минутах\n",
    "    * user_id — идентификатор пользователя, сделавшего звонок\n",
    "* Таблица messages (информация о сообщениях):\n",
    "    * id — уникальный номер сообщения\n",
    "    * message_date — дата сообщения\n",
    "    * user_id — идентификатор пользователя, отправившего сообщение\n",
    "* Таблица internet (информация об интернет-сессиях):\n",
    "    * id — уникальный номер сессии\n",
    "    * mb_used — объём потраченного за сессию интернет-трафика (в мегабайтах)\n",
    "    * session_date — дата интернет-сессии\n",
    "    * user_id — идентификатор пользователя\n",
    "    * Таблица tariffs (информация о тарифах):\n",
    "    * tariff_name — название тарифа\n",
    "    * rub_monthly_fee — ежемесячная абонентская плата в рублях\n",
    "    * minutes_included — количество минут разговора в месяц, включённых в абонентскую плату\n",
    "    * messages_included — количество сообщений в месяц, включённых в абонентскую плату\n",
    "    * mb_per_month_included — объём интернет-трафика, включённого в абонентскую плату (в мегабайтах)\n",
    "    * rub_per_minute — стоимость минуты разговора сверх тарифного пакета (например, если в тарифе 100 минут разговора в месяц, то со 101 минуты будет взиматься плата)\n",
    "    * rub_per_message — стоимость отправки сообщения сверх тарифного пакета\n",
    "    * rub_per_gb — стоимость дополнительного гигабайта интернет-трафика сверх тарифного пакета (1 гигабайт = 1024 мегабайта)"
   ]
  },
  {
   "cell_type": "markdown",
   "metadata": {},
   "source": [
    "<a id=\"start\"></a>\n",
    "## Импорт данных"
   ]
  },
  {
   "cell_type": "code",
   "execution_count": 1,
   "metadata": {},
   "outputs": [],
   "source": [
    "import pandas as pd\n",
    "import numpy as np\n",
    "import math\n",
    "import matplotlib.pyplot as plt\n",
    "from scipy import stats as st"
   ]
  },
  {
   "cell_type": "code",
   "execution_count": 2,
   "metadata": {},
   "outputs": [],
   "source": [
    "try:\n",
    "    calls = pd.read_csv('./datasets/calls.csv')\n",
    "    internet = pd.read_csv('./datasets/internet.csv')\n",
    "    users = pd.read_csv('./datasets/users.csv')\n",
    "    tariffs = pd.read_csv('./datasets/tariffs.csv')\n",
    "    messages = pd.read_csv('./datasets/messages.csv')\n",
    "    \n",
    "except:\n",
    "    \n",
    "    calls = pd.read_csv('/datasets/calls.csv')\n",
    "    internet = pd.read_csv('/datasets/internet.csv')\n",
    "    users = pd.read_csv('/datasets/users.csv')\n",
    "    tariffs = pd.read_csv('/datasets/tariffs.csv')\n",
    "    messages = pd.read_csv('/datasets/messages.csv')"
   ]
  },
  {
   "cell_type": "code",
   "execution_count": 3,
   "metadata": {
    "scrolled": true
   },
   "outputs": [
    {
     "data": {
      "text/html": [
       "<div>\n",
       "<style scoped>\n",
       "    .dataframe tbody tr th:only-of-type {\n",
       "        vertical-align: middle;\n",
       "    }\n",
       "\n",
       "    .dataframe tbody tr th {\n",
       "        vertical-align: top;\n",
       "    }\n",
       "\n",
       "    .dataframe thead th {\n",
       "        text-align: right;\n",
       "    }\n",
       "</style>\n",
       "<table border=\"1\" class=\"dataframe\">\n",
       "  <thead>\n",
       "    <tr style=\"text-align: right;\">\n",
       "      <th></th>\n",
       "      <th>messages_included</th>\n",
       "      <th>mb_per_month_included</th>\n",
       "      <th>minutes_included</th>\n",
       "      <th>rub_monthly_fee</th>\n",
       "      <th>rub_per_gb</th>\n",
       "      <th>rub_per_message</th>\n",
       "      <th>rub_per_minute</th>\n",
       "      <th>tariff_name</th>\n",
       "    </tr>\n",
       "  </thead>\n",
       "  <tbody>\n",
       "    <tr>\n",
       "      <td>0</td>\n",
       "      <td>50</td>\n",
       "      <td>15360</td>\n",
       "      <td>500</td>\n",
       "      <td>550</td>\n",
       "      <td>200</td>\n",
       "      <td>3</td>\n",
       "      <td>3</td>\n",
       "      <td>smart</td>\n",
       "    </tr>\n",
       "    <tr>\n",
       "      <td>1</td>\n",
       "      <td>1000</td>\n",
       "      <td>30720</td>\n",
       "      <td>3000</td>\n",
       "      <td>1950</td>\n",
       "      <td>150</td>\n",
       "      <td>1</td>\n",
       "      <td>1</td>\n",
       "      <td>ultra</td>\n",
       "    </tr>\n",
       "  </tbody>\n",
       "</table>\n",
       "</div>"
      ],
      "text/plain": [
       "   messages_included  mb_per_month_included  minutes_included  \\\n",
       "0                 50                  15360               500   \n",
       "1               1000                  30720              3000   \n",
       "\n",
       "   rub_monthly_fee  rub_per_gb  rub_per_message  rub_per_minute tariff_name  \n",
       "0              550         200                3               3       smart  \n",
       "1             1950         150                1               1       ultra  "
      ]
     },
     "execution_count": 3,
     "metadata": {},
     "output_type": "execute_result"
    }
   ],
   "source": [
    "tariffs.head()"
   ]
  },
  {
   "cell_type": "code",
   "execution_count": 4,
   "metadata": {
    "scrolled": true
   },
   "outputs": [
    {
     "name": "stdout",
     "output_type": "stream",
     "text": [
      "\n",
      "Таблица: users\n"
     ]
    },
    {
     "data": {
      "text/html": [
       "<div>\n",
       "<style scoped>\n",
       "    .dataframe tbody tr th:only-of-type {\n",
       "        vertical-align: middle;\n",
       "    }\n",
       "\n",
       "    .dataframe tbody tr th {\n",
       "        vertical-align: top;\n",
       "    }\n",
       "\n",
       "    .dataframe thead th {\n",
       "        text-align: right;\n",
       "    }\n",
       "</style>\n",
       "<table border=\"1\" class=\"dataframe\">\n",
       "  <thead>\n",
       "    <tr style=\"text-align: right;\">\n",
       "      <th></th>\n",
       "      <th>user_id</th>\n",
       "      <th>age</th>\n",
       "      <th>churn_date</th>\n",
       "      <th>city</th>\n",
       "      <th>first_name</th>\n",
       "      <th>last_name</th>\n",
       "      <th>reg_date</th>\n",
       "      <th>tariff</th>\n",
       "    </tr>\n",
       "  </thead>\n",
       "  <tbody>\n",
       "    <tr>\n",
       "      <td>0</td>\n",
       "      <td>1000</td>\n",
       "      <td>52</td>\n",
       "      <td>NaN</td>\n",
       "      <td>Краснодар</td>\n",
       "      <td>Рафаил</td>\n",
       "      <td>Верещагин</td>\n",
       "      <td>2018-05-25</td>\n",
       "      <td>ultra</td>\n",
       "    </tr>\n",
       "    <tr>\n",
       "      <td>1</td>\n",
       "      <td>1001</td>\n",
       "      <td>41</td>\n",
       "      <td>NaN</td>\n",
       "      <td>Москва</td>\n",
       "      <td>Иван</td>\n",
       "      <td>Ежов</td>\n",
       "      <td>2018-11-01</td>\n",
       "      <td>smart</td>\n",
       "    </tr>\n",
       "    <tr>\n",
       "      <td>2</td>\n",
       "      <td>1002</td>\n",
       "      <td>59</td>\n",
       "      <td>NaN</td>\n",
       "      <td>Стерлитамак</td>\n",
       "      <td>Евгений</td>\n",
       "      <td>Абрамович</td>\n",
       "      <td>2018-06-17</td>\n",
       "      <td>smart</td>\n",
       "    </tr>\n",
       "    <tr>\n",
       "      <td>3</td>\n",
       "      <td>1003</td>\n",
       "      <td>23</td>\n",
       "      <td>NaN</td>\n",
       "      <td>Москва</td>\n",
       "      <td>Белла</td>\n",
       "      <td>Белякова</td>\n",
       "      <td>2018-08-17</td>\n",
       "      <td>ultra</td>\n",
       "    </tr>\n",
       "    <tr>\n",
       "      <td>4</td>\n",
       "      <td>1004</td>\n",
       "      <td>68</td>\n",
       "      <td>NaN</td>\n",
       "      <td>Новокузнецк</td>\n",
       "      <td>Татьяна</td>\n",
       "      <td>Авдеенко</td>\n",
       "      <td>2018-05-14</td>\n",
       "      <td>ultra</td>\n",
       "    </tr>\n",
       "  </tbody>\n",
       "</table>\n",
       "</div>"
      ],
      "text/plain": [
       "   user_id  age churn_date         city first_name  last_name    reg_date  \\\n",
       "0     1000   52        NaN    Краснодар     Рафаил  Верещагин  2018-05-25   \n",
       "1     1001   41        NaN       Москва       Иван       Ежов  2018-11-01   \n",
       "2     1002   59        NaN  Стерлитамак    Евгений  Абрамович  2018-06-17   \n",
       "3     1003   23        NaN       Москва      Белла   Белякова  2018-08-17   \n",
       "4     1004   68        NaN  Новокузнецк    Татьяна   Авдеенко  2018-05-14   \n",
       "\n",
       "  tariff  \n",
       "0  ultra  \n",
       "1  smart  \n",
       "2  smart  \n",
       "3  ultra  \n",
       "4  ultra  "
      ]
     },
     "metadata": {},
     "output_type": "display_data"
    },
    {
     "name": "stdout",
     "output_type": "stream",
     "text": [
      "<class 'pandas.core.frame.DataFrame'>\n",
      "RangeIndex: 500 entries, 0 to 499\n",
      "Data columns (total 8 columns):\n",
      "user_id       500 non-null int64\n",
      "age           500 non-null int64\n",
      "churn_date    38 non-null object\n",
      "city          500 non-null object\n",
      "first_name    500 non-null object\n",
      "last_name     500 non-null object\n",
      "reg_date      500 non-null object\n",
      "tariff        500 non-null object\n",
      "dtypes: int64(2), object(6)\n",
      "memory usage: 31.4+ KB\n",
      "None \n",
      "\n",
      "           user_id        age\n",
      "count   500.000000  500.00000\n",
      "mean   1249.500000   46.58800\n",
      "std     144.481833   16.66763\n",
      "min    1000.000000   18.00000\n",
      "25%    1124.750000   32.00000\n",
      "50%    1249.500000   46.00000\n",
      "75%    1374.250000   62.00000\n",
      "max    1499.000000   75.00000 \n",
      "\n",
      "Количество дубликатов в таблице users = 0\n",
      "\n",
      "*******************************************\n",
      "\n",
      "Таблица: calls\n"
     ]
    },
    {
     "data": {
      "text/html": [
       "<div>\n",
       "<style scoped>\n",
       "    .dataframe tbody tr th:only-of-type {\n",
       "        vertical-align: middle;\n",
       "    }\n",
       "\n",
       "    .dataframe tbody tr th {\n",
       "        vertical-align: top;\n",
       "    }\n",
       "\n",
       "    .dataframe thead th {\n",
       "        text-align: right;\n",
       "    }\n",
       "</style>\n",
       "<table border=\"1\" class=\"dataframe\">\n",
       "  <thead>\n",
       "    <tr style=\"text-align: right;\">\n",
       "      <th></th>\n",
       "      <th>id</th>\n",
       "      <th>call_date</th>\n",
       "      <th>duration</th>\n",
       "      <th>user_id</th>\n",
       "    </tr>\n",
       "  </thead>\n",
       "  <tbody>\n",
       "    <tr>\n",
       "      <td>0</td>\n",
       "      <td>1000_0</td>\n",
       "      <td>2018-07-25</td>\n",
       "      <td>0.00</td>\n",
       "      <td>1000</td>\n",
       "    </tr>\n",
       "    <tr>\n",
       "      <td>1</td>\n",
       "      <td>1000_1</td>\n",
       "      <td>2018-08-17</td>\n",
       "      <td>0.00</td>\n",
       "      <td>1000</td>\n",
       "    </tr>\n",
       "    <tr>\n",
       "      <td>2</td>\n",
       "      <td>1000_2</td>\n",
       "      <td>2018-06-11</td>\n",
       "      <td>2.85</td>\n",
       "      <td>1000</td>\n",
       "    </tr>\n",
       "    <tr>\n",
       "      <td>3</td>\n",
       "      <td>1000_3</td>\n",
       "      <td>2018-09-21</td>\n",
       "      <td>13.80</td>\n",
       "      <td>1000</td>\n",
       "    </tr>\n",
       "    <tr>\n",
       "      <td>4</td>\n",
       "      <td>1000_4</td>\n",
       "      <td>2018-12-15</td>\n",
       "      <td>5.18</td>\n",
       "      <td>1000</td>\n",
       "    </tr>\n",
       "  </tbody>\n",
       "</table>\n",
       "</div>"
      ],
      "text/plain": [
       "       id   call_date  duration  user_id\n",
       "0  1000_0  2018-07-25      0.00     1000\n",
       "1  1000_1  2018-08-17      0.00     1000\n",
       "2  1000_2  2018-06-11      2.85     1000\n",
       "3  1000_3  2018-09-21     13.80     1000\n",
       "4  1000_4  2018-12-15      5.18     1000"
      ]
     },
     "metadata": {},
     "output_type": "display_data"
    },
    {
     "name": "stdout",
     "output_type": "stream",
     "text": [
      "<class 'pandas.core.frame.DataFrame'>\n",
      "RangeIndex: 202607 entries, 0 to 202606\n",
      "Data columns (total 4 columns):\n",
      "id           202607 non-null object\n",
      "call_date    202607 non-null object\n",
      "duration     202607 non-null float64\n",
      "user_id      202607 non-null int64\n",
      "dtypes: float64(1), int64(1), object(2)\n",
      "memory usage: 6.2+ MB\n",
      "None \n",
      "\n",
      "            duration        user_id\n",
      "count  202607.000000  202607.000000\n",
      "mean        6.755887    1253.940619\n",
      "std         5.843365     144.722751\n",
      "min         0.000000    1000.000000\n",
      "25%         1.300000    1126.000000\n",
      "50%         6.000000    1260.000000\n",
      "75%        10.700000    1379.000000\n",
      "max        38.000000    1499.000000 \n",
      "\n",
      "Количество дубликатов в таблице calls = 0\n",
      "\n",
      "*******************************************\n",
      "\n",
      "Таблица: internet\n"
     ]
    },
    {
     "data": {
      "text/html": [
       "<div>\n",
       "<style scoped>\n",
       "    .dataframe tbody tr th:only-of-type {\n",
       "        vertical-align: middle;\n",
       "    }\n",
       "\n",
       "    .dataframe tbody tr th {\n",
       "        vertical-align: top;\n",
       "    }\n",
       "\n",
       "    .dataframe thead th {\n",
       "        text-align: right;\n",
       "    }\n",
       "</style>\n",
       "<table border=\"1\" class=\"dataframe\">\n",
       "  <thead>\n",
       "    <tr style=\"text-align: right;\">\n",
       "      <th></th>\n",
       "      <th>Unnamed: 0</th>\n",
       "      <th>id</th>\n",
       "      <th>mb_used</th>\n",
       "      <th>session_date</th>\n",
       "      <th>user_id</th>\n",
       "    </tr>\n",
       "  </thead>\n",
       "  <tbody>\n",
       "    <tr>\n",
       "      <td>0</td>\n",
       "      <td>0</td>\n",
       "      <td>1000_0</td>\n",
       "      <td>112.95</td>\n",
       "      <td>2018-11-25</td>\n",
       "      <td>1000</td>\n",
       "    </tr>\n",
       "    <tr>\n",
       "      <td>1</td>\n",
       "      <td>1</td>\n",
       "      <td>1000_1</td>\n",
       "      <td>1052.81</td>\n",
       "      <td>2018-09-07</td>\n",
       "      <td>1000</td>\n",
       "    </tr>\n",
       "    <tr>\n",
       "      <td>2</td>\n",
       "      <td>2</td>\n",
       "      <td>1000_2</td>\n",
       "      <td>1197.26</td>\n",
       "      <td>2018-06-25</td>\n",
       "      <td>1000</td>\n",
       "    </tr>\n",
       "    <tr>\n",
       "      <td>3</td>\n",
       "      <td>3</td>\n",
       "      <td>1000_3</td>\n",
       "      <td>550.27</td>\n",
       "      <td>2018-08-22</td>\n",
       "      <td>1000</td>\n",
       "    </tr>\n",
       "    <tr>\n",
       "      <td>4</td>\n",
       "      <td>4</td>\n",
       "      <td>1000_4</td>\n",
       "      <td>302.56</td>\n",
       "      <td>2018-09-24</td>\n",
       "      <td>1000</td>\n",
       "    </tr>\n",
       "  </tbody>\n",
       "</table>\n",
       "</div>"
      ],
      "text/plain": [
       "   Unnamed: 0      id  mb_used session_date  user_id\n",
       "0           0  1000_0   112.95   2018-11-25     1000\n",
       "1           1  1000_1  1052.81   2018-09-07     1000\n",
       "2           2  1000_2  1197.26   2018-06-25     1000\n",
       "3           3  1000_3   550.27   2018-08-22     1000\n",
       "4           4  1000_4   302.56   2018-09-24     1000"
      ]
     },
     "metadata": {},
     "output_type": "display_data"
    },
    {
     "name": "stdout",
     "output_type": "stream",
     "text": [
      "<class 'pandas.core.frame.DataFrame'>\n",
      "RangeIndex: 149396 entries, 0 to 149395\n",
      "Data columns (total 5 columns):\n",
      "Unnamed: 0      149396 non-null int64\n",
      "id              149396 non-null object\n",
      "mb_used         149396 non-null float64\n",
      "session_date    149396 non-null object\n",
      "user_id         149396 non-null int64\n",
      "dtypes: float64(1), int64(2), object(2)\n",
      "memory usage: 5.7+ MB\n",
      "None \n",
      "\n",
      "          Unnamed: 0        mb_used        user_id\n",
      "count  149396.000000  149396.000000  149396.000000\n",
      "mean    74697.500000     370.192426    1252.099842\n",
      "std     43127.054745     278.300951     144.050823\n",
      "min         0.000000       0.000000    1000.000000\n",
      "25%     37348.750000     138.187500    1130.000000\n",
      "50%     74697.500000     348.015000    1251.000000\n",
      "75%    112046.250000     559.552500    1380.000000\n",
      "max    149395.000000    1724.830000    1499.000000 \n",
      "\n",
      "Количество дубликатов в таблице internet = 0\n",
      "\n",
      "*******************************************\n",
      "\n",
      "Таблица: messages\n"
     ]
    },
    {
     "data": {
      "text/html": [
       "<div>\n",
       "<style scoped>\n",
       "    .dataframe tbody tr th:only-of-type {\n",
       "        vertical-align: middle;\n",
       "    }\n",
       "\n",
       "    .dataframe tbody tr th {\n",
       "        vertical-align: top;\n",
       "    }\n",
       "\n",
       "    .dataframe thead th {\n",
       "        text-align: right;\n",
       "    }\n",
       "</style>\n",
       "<table border=\"1\" class=\"dataframe\">\n",
       "  <thead>\n",
       "    <tr style=\"text-align: right;\">\n",
       "      <th></th>\n",
       "      <th>id</th>\n",
       "      <th>message_date</th>\n",
       "      <th>user_id</th>\n",
       "    </tr>\n",
       "  </thead>\n",
       "  <tbody>\n",
       "    <tr>\n",
       "      <td>0</td>\n",
       "      <td>1000_0</td>\n",
       "      <td>2018-06-27</td>\n",
       "      <td>1000</td>\n",
       "    </tr>\n",
       "    <tr>\n",
       "      <td>1</td>\n",
       "      <td>1000_1</td>\n",
       "      <td>2018-10-08</td>\n",
       "      <td>1000</td>\n",
       "    </tr>\n",
       "    <tr>\n",
       "      <td>2</td>\n",
       "      <td>1000_2</td>\n",
       "      <td>2018-08-04</td>\n",
       "      <td>1000</td>\n",
       "    </tr>\n",
       "    <tr>\n",
       "      <td>3</td>\n",
       "      <td>1000_3</td>\n",
       "      <td>2018-06-16</td>\n",
       "      <td>1000</td>\n",
       "    </tr>\n",
       "    <tr>\n",
       "      <td>4</td>\n",
       "      <td>1000_4</td>\n",
       "      <td>2018-12-05</td>\n",
       "      <td>1000</td>\n",
       "    </tr>\n",
       "  </tbody>\n",
       "</table>\n",
       "</div>"
      ],
      "text/plain": [
       "       id message_date  user_id\n",
       "0  1000_0   2018-06-27     1000\n",
       "1  1000_1   2018-10-08     1000\n",
       "2  1000_2   2018-08-04     1000\n",
       "3  1000_3   2018-06-16     1000\n",
       "4  1000_4   2018-12-05     1000"
      ]
     },
     "metadata": {},
     "output_type": "display_data"
    },
    {
     "name": "stdout",
     "output_type": "stream",
     "text": [
      "<class 'pandas.core.frame.DataFrame'>\n",
      "RangeIndex: 123036 entries, 0 to 123035\n",
      "Data columns (total 3 columns):\n",
      "id              123036 non-null object\n",
      "message_date    123036 non-null object\n",
      "user_id         123036 non-null int64\n",
      "dtypes: int64(1), object(2)\n",
      "memory usage: 2.8+ MB\n",
      "None \n",
      "\n",
      "             user_id\n",
      "count  123036.000000\n",
      "mean     1256.989410\n",
      "std       143.523967\n",
      "min      1000.000000\n",
      "25%      1134.000000\n",
      "50%      1271.000000\n",
      "75%      1381.000000\n",
      "max      1499.000000 \n",
      "\n",
      "Количество дубликатов в таблице messages = 0\n",
      "\n",
      "*******************************************\n"
     ]
    }
   ],
   "source": [
    "data_voc = {\n",
    "    'users': users,\n",
    "    'calls': calls,\n",
    "    'internet': internet,\n",
    "    'messages': messages\n",
    "}\n",
    "\n",
    "hr = '*******************************************'\n",
    "nl = '\\n'\n",
    "for data_name in data_voc:\n",
    "    tbl = data_voc[data_name]\n",
    "    print(nl + 'Таблица:', data_name)\n",
    "    display(tbl.head())\n",
    "    print(tbl.info(), nl)\n",
    "    print(tbl.describe(), nl)\n",
    "    print('Количество дубликатов в таблице {} ='.format(data_name), tbl.duplicated().sum())\n",
    "    print(nl + hr)"
   ]
  },
  {
   "cell_type": "markdown",
   "metadata": {},
   "source": [
    "### Вывод"
   ]
  },
  {
   "cell_type": "markdown",
   "metadata": {},
   "source": [
    "* В данных нет дубликатов\n",
    "* Есть пропуски в столбце `churn_date` таблице `users`\n",
    "* Есть нули в столбце `duration` в таблице `calls`\n",
    "* Нужно привести столбцы с датами к нужному типу"
   ]
  },
  {
   "cell_type": "markdown",
   "metadata": {},
   "source": [
    "<a id=\"preprocessing\"></a>\n",
    "## Предобработка данных"
   ]
  },
  {
   "cell_type": "code",
   "execution_count": 5,
   "metadata": {},
   "outputs": [
    {
     "name": "stdout",
     "output_type": "stream",
     "text": [
      "Доля неотвеченных (с нулевой длительностью) звонков: 19.55%\n"
     ]
    }
   ],
   "source": [
    "print('Доля неотвеченных (с нулевой длительностью) звонков: {:.2%}'.format(\n",
    "    calls.query('duration == 0')['duration'].count() /\n",
    "    calls['duration'].count()))"
   ]
  },
  {
   "cell_type": "markdown",
   "metadata": {},
   "source": [
    "Несмотря на то, что доля неотвеченных звонков составляет 19.55% от общего числа звонков, их наличие или отсутсвие не повлияет на результаты анализа средней продолжительности звонков ввиду методики подсчета. Сначала будет вычислено суммарное количество минут разговора в месяц для каждого пользователя, затем будет найдено общее среднее количество использованных минут за весь период наблюдений для пользователя. И только потом будет рассчитываться средние показатели для тарифа."
   ]
  },
  {
   "cell_type": "markdown",
   "metadata": {},
   "source": [
    "Избавимся от ненужного столбца в таблице `internet`."
   ]
  },
  {
   "cell_type": "code",
   "execution_count": 6,
   "metadata": {},
   "outputs": [
    {
     "data": {
      "text/html": [
       "<div>\n",
       "<style scoped>\n",
       "    .dataframe tbody tr th:only-of-type {\n",
       "        vertical-align: middle;\n",
       "    }\n",
       "\n",
       "    .dataframe tbody tr th {\n",
       "        vertical-align: top;\n",
       "    }\n",
       "\n",
       "    .dataframe thead th {\n",
       "        text-align: right;\n",
       "    }\n",
       "</style>\n",
       "<table border=\"1\" class=\"dataframe\">\n",
       "  <thead>\n",
       "    <tr style=\"text-align: right;\">\n",
       "      <th></th>\n",
       "      <th>id</th>\n",
       "      <th>mb_used</th>\n",
       "      <th>session_date</th>\n",
       "      <th>user_id</th>\n",
       "    </tr>\n",
       "  </thead>\n",
       "  <tbody>\n",
       "    <tr>\n",
       "      <td>0</td>\n",
       "      <td>1000_0</td>\n",
       "      <td>112.95</td>\n",
       "      <td>2018-11-25</td>\n",
       "      <td>1000</td>\n",
       "    </tr>\n",
       "    <tr>\n",
       "      <td>1</td>\n",
       "      <td>1000_1</td>\n",
       "      <td>1052.81</td>\n",
       "      <td>2018-09-07</td>\n",
       "      <td>1000</td>\n",
       "    </tr>\n",
       "    <tr>\n",
       "      <td>2</td>\n",
       "      <td>1000_2</td>\n",
       "      <td>1197.26</td>\n",
       "      <td>2018-06-25</td>\n",
       "      <td>1000</td>\n",
       "    </tr>\n",
       "    <tr>\n",
       "      <td>3</td>\n",
       "      <td>1000_3</td>\n",
       "      <td>550.27</td>\n",
       "      <td>2018-08-22</td>\n",
       "      <td>1000</td>\n",
       "    </tr>\n",
       "    <tr>\n",
       "      <td>4</td>\n",
       "      <td>1000_4</td>\n",
       "      <td>302.56</td>\n",
       "      <td>2018-09-24</td>\n",
       "      <td>1000</td>\n",
       "    </tr>\n",
       "  </tbody>\n",
       "</table>\n",
       "</div>"
      ],
      "text/plain": [
       "       id  mb_used session_date  user_id\n",
       "0  1000_0   112.95   2018-11-25     1000\n",
       "1  1000_1  1052.81   2018-09-07     1000\n",
       "2  1000_2  1197.26   2018-06-25     1000\n",
       "3  1000_3   550.27   2018-08-22     1000\n",
       "4  1000_4   302.56   2018-09-24     1000"
      ]
     },
     "execution_count": 6,
     "metadata": {},
     "output_type": "execute_result"
    }
   ],
   "source": [
    "internet = internet.drop(axis=1, labels=['Unnamed: 0'])\n",
    "internet.head()"
   ]
  },
  {
   "cell_type": "markdown",
   "metadata": {},
   "source": [
    "<a id=\"new_class\"></a>\n",
    "Для удобства обращения к данным тарифов создадим новый класс `Tariff`, поля которого будет содержать параметры тарифа."
   ]
  },
  {
   "cell_type": "code",
   "execution_count": 7,
   "metadata": {},
   "outputs": [],
   "source": [
    "class SimpleObject(object):\n",
    "    pass\n",
    "\n",
    "\n",
    "class Tariff(object):\n",
    "    def __init__(self, msg_inc, mb_inc, mins_inc, fee, rub_per_gb, rub_per_msg,\n",
    "                 rub_per_min, tariff_name):\n",
    "        included = SimpleObject()\n",
    "        included.msg = msg_inc\n",
    "        included.mb = mb_inc\n",
    "        included.mins = mins_inc\n",
    "        self.included = included\n",
    "        self.fee = fee\n",
    "        self.name = tariff_name\n",
    "        over_price = SimpleObject()\n",
    "        over_price.gb = rub_per_gb\n",
    "        over_price.min = rub_per_min\n",
    "        over_price.msg = rub_per_msg\n",
    "        self.over_price = over_price\n",
    "\n",
    "    def monthly_cost(self, mins, mbs, msgs):\n",
    "        mins_over = mins - self.included.mins\n",
    "        mbs_over = mbs - self.included.mb\n",
    "        msgs_over = msgs - self.included.msg\n",
    "\n",
    "        mins_over = math.ceil((0, mins_over)[mins_over > 0])\n",
    "        mbs_over = math.ceil((0, mbs_over)[mbs_over > 0])\n",
    "        msgs_over = math.ceil((0, msgs_over)[msgs_over > 0])\n",
    "\n",
    "        cost = self.fee + mins_over * self.over_price.min + math.ceil(\n",
    "            mbs_over / 1024) * self.over_price.gb + msgs_over*self.over_price.msg\n",
    "        \n",
    "        return cost\n",
    "\n",
    "\n",
    "temp = tariffs.loc[0]\n",
    "smart = Tariff(temp['messages_included'], temp['mb_per_month_included'],\n",
    "               temp['minutes_included'], temp['rub_monthly_fee'],\n",
    "               temp['rub_per_gb'], temp['rub_per_message'],\n",
    "               temp['rub_per_minute'], temp['tariff_name'])\n",
    "\n",
    "temp = tariffs.loc[1]\n",
    "ultra = Tariff(temp['messages_included'], temp['mb_per_month_included'],\n",
    "               temp['minutes_included'], temp['rub_monthly_fee'],\n",
    "               temp['rub_per_gb'], temp['rub_per_message'],\n",
    "               temp['rub_per_minute'], temp['tariff_name'])"
   ]
  },
  {
   "cell_type": "markdown",
   "metadata": {},
   "source": [
    "<a id=\"fix_type\"></a>\n",
    "Во всех таблицах столбец с датой нужно привести к типу `Datetime`."
   ]
  },
  {
   "cell_type": "markdown",
   "metadata": {},
   "source": [
    "Заполним пропущенные значения (которые означают дату прекращения действия тарифа) в столбце `churn_date` таблицы `users`на любую далёкую дату, например, 1 января 2030 года.  "
   ]
  },
  {
   "cell_type": "code",
   "execution_count": 8,
   "metadata": {},
   "outputs": [],
   "source": [
    "CHURN_DATE_NA = '2030-1-1'\n",
    "\n",
    "users['churn_date'].fillna(CHURN_DATE_NA, inplace=True)"
   ]
  },
  {
   "cell_type": "code",
   "execution_count": 9,
   "metadata": {},
   "outputs": [],
   "source": [
    "messages.loc[:, 'message_date'] = pd.to_datetime(messages['message_date'],\n",
    "                                          format='%Y-%m-%d')\n",
    "calls.loc[:, 'call_date'] = pd.to_datetime(calls['call_date'], format='%Y-%m-%d')\n",
    "internet.loc[:, 'session_date'] = pd.to_datetime(internet['session_date'],\n",
    "                                          format='%Y-%m-%d')\n",
    "users.loc[:, 'reg_date'] = pd.to_datetime(users['reg_date'], format='%Y-%m-%d')\n",
    "users.loc[:, 'churn_date'] = pd.to_datetime(\n",
    "  users['churn_date'], format='%Y-%m-%d')"
   ]
  },
  {
   "cell_type": "markdown",
   "metadata": {},
   "source": [
    "<a id=\"construct_pivots\"></a>\n",
    "Рассчитаем количество сделанных звонков и израсходованных минут разговора по месяцам для каждого пользователя."
   ]
  },
  {
   "cell_type": "code",
   "execution_count": 10,
   "metadata": {},
   "outputs": [
    {
     "data": {
      "text/html": [
       "<div>\n",
       "<style scoped>\n",
       "    .dataframe tbody tr th:only-of-type {\n",
       "        vertical-align: middle;\n",
       "    }\n",
       "\n",
       "    .dataframe tbody tr th {\n",
       "        vertical-align: top;\n",
       "    }\n",
       "\n",
       "    .dataframe thead th {\n",
       "        text-align: right;\n",
       "    }\n",
       "</style>\n",
       "<table border=\"1\" class=\"dataframe\">\n",
       "  <thead>\n",
       "    <tr style=\"text-align: right;\">\n",
       "      <th></th>\n",
       "      <th>id</th>\n",
       "      <th>call_date</th>\n",
       "      <th>duration</th>\n",
       "      <th>user_id</th>\n",
       "      <th>call_period</th>\n",
       "    </tr>\n",
       "  </thead>\n",
       "  <tbody>\n",
       "    <tr>\n",
       "      <td>0</td>\n",
       "      <td>1000_0</td>\n",
       "      <td>2018-07-25</td>\n",
       "      <td>0.0</td>\n",
       "      <td>1000</td>\n",
       "      <td>7</td>\n",
       "    </tr>\n",
       "    <tr>\n",
       "      <td>1</td>\n",
       "      <td>1000_1</td>\n",
       "      <td>2018-08-17</td>\n",
       "      <td>0.0</td>\n",
       "      <td>1000</td>\n",
       "      <td>8</td>\n",
       "    </tr>\n",
       "    <tr>\n",
       "      <td>2</td>\n",
       "      <td>1000_2</td>\n",
       "      <td>2018-06-11</td>\n",
       "      <td>3.0</td>\n",
       "      <td>1000</td>\n",
       "      <td>6</td>\n",
       "    </tr>\n",
       "    <tr>\n",
       "      <td>3</td>\n",
       "      <td>1000_3</td>\n",
       "      <td>2018-09-21</td>\n",
       "      <td>14.0</td>\n",
       "      <td>1000</td>\n",
       "      <td>9</td>\n",
       "    </tr>\n",
       "    <tr>\n",
       "      <td>4</td>\n",
       "      <td>1000_4</td>\n",
       "      <td>2018-12-15</td>\n",
       "      <td>6.0</td>\n",
       "      <td>1000</td>\n",
       "      <td>12</td>\n",
       "    </tr>\n",
       "  </tbody>\n",
       "</table>\n",
       "</div>"
      ],
      "text/plain": [
       "       id  call_date  duration  user_id  call_period\n",
       "0  1000_0 2018-07-25       0.0     1000            7\n",
       "1  1000_1 2018-08-17       0.0     1000            8\n",
       "2  1000_2 2018-06-11       3.0     1000            6\n",
       "3  1000_3 2018-09-21      14.0     1000            9\n",
       "4  1000_4 2018-12-15       6.0     1000           12"
      ]
     },
     "execution_count": 10,
     "metadata": {},
     "output_type": "execute_result"
    }
   ],
   "source": [
    "calls['call_period'] = calls['call_date'].dt.month\n",
    "calls['duration'] = np.ceil(calls['duration'])\n",
    "calls.head()"
   ]
  },
  {
   "cell_type": "code",
   "execution_count": 11,
   "metadata": {},
   "outputs": [
    {
     "data": {
      "text/html": [
       "<div>\n",
       "<style scoped>\n",
       "    .dataframe tbody tr th:only-of-type {\n",
       "        vertical-align: middle;\n",
       "    }\n",
       "\n",
       "    .dataframe tbody tr th {\n",
       "        vertical-align: top;\n",
       "    }\n",
       "\n",
       "    .dataframe thead th {\n",
       "        text-align: right;\n",
       "    }\n",
       "</style>\n",
       "<table border=\"1\" class=\"dataframe\">\n",
       "  <thead>\n",
       "    <tr style=\"text-align: right;\">\n",
       "      <th></th>\n",
       "      <th></th>\n",
       "      <th>minutes</th>\n",
       "      <th>calls_count</th>\n",
       "    </tr>\n",
       "    <tr>\n",
       "      <th>user_id</th>\n",
       "      <th>call_period</th>\n",
       "      <th></th>\n",
       "      <th></th>\n",
       "    </tr>\n",
       "  </thead>\n",
       "  <tbody>\n",
       "    <tr>\n",
       "      <td rowspan=\"8\" valign=\"top\">1000</td>\n",
       "      <td>5</td>\n",
       "      <td>159.0</td>\n",
       "      <td>22</td>\n",
       "    </tr>\n",
       "    <tr>\n",
       "      <td>6</td>\n",
       "      <td>172.0</td>\n",
       "      <td>43</td>\n",
       "    </tr>\n",
       "    <tr>\n",
       "      <td>7</td>\n",
       "      <td>340.0</td>\n",
       "      <td>47</td>\n",
       "    </tr>\n",
       "    <tr>\n",
       "      <td>8</td>\n",
       "      <td>408.0</td>\n",
       "      <td>52</td>\n",
       "    </tr>\n",
       "    <tr>\n",
       "      <td>9</td>\n",
       "      <td>466.0</td>\n",
       "      <td>58</td>\n",
       "    </tr>\n",
       "    <tr>\n",
       "      <td>10</td>\n",
       "      <td>350.0</td>\n",
       "      <td>57</td>\n",
       "    </tr>\n",
       "    <tr>\n",
       "      <td>11</td>\n",
       "      <td>338.0</td>\n",
       "      <td>43</td>\n",
       "    </tr>\n",
       "    <tr>\n",
       "      <td>12</td>\n",
       "      <td>333.0</td>\n",
       "      <td>46</td>\n",
       "    </tr>\n",
       "    <tr>\n",
       "      <td rowspan=\"2\" valign=\"top\">1001</td>\n",
       "      <td>11</td>\n",
       "      <td>430.0</td>\n",
       "      <td>59</td>\n",
       "    </tr>\n",
       "    <tr>\n",
       "      <td>12</td>\n",
       "      <td>414.0</td>\n",
       "      <td>63</td>\n",
       "    </tr>\n",
       "  </tbody>\n",
       "</table>\n",
       "</div>"
      ],
      "text/plain": [
       "                     minutes  calls_count\n",
       "user_id call_period                      \n",
       "1000    5              159.0           22\n",
       "        6              172.0           43\n",
       "        7              340.0           47\n",
       "        8              408.0           52\n",
       "        9              466.0           58\n",
       "        10             350.0           57\n",
       "        11             338.0           43\n",
       "        12             333.0           46\n",
       "1001    11             430.0           59\n",
       "        12             414.0           63"
      ]
     },
     "execution_count": 11,
     "metadata": {},
     "output_type": "execute_result"
    }
   ],
   "source": [
    "user_calls_per_month = calls.pivot_table(index=['user_id', 'call_period'], values=['duration'], aggfunc=['sum', 'count'])\n",
    "user_calls_per_month.columns = ['minutes', 'calls_count']\n",
    "user_calls_per_month.head(10)"
   ]
  },
  {
   "cell_type": "markdown",
   "metadata": {},
   "source": [
    "Рассчитаем количество отправленных сообщений по месяцам."
   ]
  },
  {
   "cell_type": "code",
   "execution_count": 12,
   "metadata": {},
   "outputs": [],
   "source": [
    "messages['message_period'] = messages['message_date'].dt.month"
   ]
  },
  {
   "cell_type": "code",
   "execution_count": 13,
   "metadata": {},
   "outputs": [
    {
     "data": {
      "text/html": [
       "<div>\n",
       "<style scoped>\n",
       "    .dataframe tbody tr th:only-of-type {\n",
       "        vertical-align: middle;\n",
       "    }\n",
       "\n",
       "    .dataframe tbody tr th {\n",
       "        vertical-align: top;\n",
       "    }\n",
       "\n",
       "    .dataframe thead th {\n",
       "        text-align: right;\n",
       "    }\n",
       "</style>\n",
       "<table border=\"1\" class=\"dataframe\">\n",
       "  <thead>\n",
       "    <tr style=\"text-align: right;\">\n",
       "      <th></th>\n",
       "      <th></th>\n",
       "      <th>messages_count</th>\n",
       "    </tr>\n",
       "    <tr>\n",
       "      <th>user_id</th>\n",
       "      <th>message_period</th>\n",
       "      <th></th>\n",
       "    </tr>\n",
       "  </thead>\n",
       "  <tbody>\n",
       "    <tr>\n",
       "      <td rowspan=\"8\" valign=\"top\">1000</td>\n",
       "      <td>5</td>\n",
       "      <td>22</td>\n",
       "    </tr>\n",
       "    <tr>\n",
       "      <td>6</td>\n",
       "      <td>60</td>\n",
       "    </tr>\n",
       "    <tr>\n",
       "      <td>7</td>\n",
       "      <td>75</td>\n",
       "    </tr>\n",
       "    <tr>\n",
       "      <td>8</td>\n",
       "      <td>81</td>\n",
       "    </tr>\n",
       "    <tr>\n",
       "      <td>9</td>\n",
       "      <td>57</td>\n",
       "    </tr>\n",
       "    <tr>\n",
       "      <td>10</td>\n",
       "      <td>73</td>\n",
       "    </tr>\n",
       "    <tr>\n",
       "      <td>11</td>\n",
       "      <td>58</td>\n",
       "    </tr>\n",
       "    <tr>\n",
       "      <td>12</td>\n",
       "      <td>70</td>\n",
       "    </tr>\n",
       "    <tr>\n",
       "      <td rowspan=\"2\" valign=\"top\">1002</td>\n",
       "      <td>6</td>\n",
       "      <td>4</td>\n",
       "    </tr>\n",
       "    <tr>\n",
       "      <td>7</td>\n",
       "      <td>11</td>\n",
       "    </tr>\n",
       "  </tbody>\n",
       "</table>\n",
       "</div>"
      ],
      "text/plain": [
       "                        messages_count\n",
       "user_id message_period                \n",
       "1000    5                           22\n",
       "        6                           60\n",
       "        7                           75\n",
       "        8                           81\n",
       "        9                           57\n",
       "        10                          73\n",
       "        11                          58\n",
       "        12                          70\n",
       "1002    6                            4\n",
       "        7                           11"
      ]
     },
     "execution_count": 13,
     "metadata": {},
     "output_type": "execute_result"
    }
   ],
   "source": [
    "user_messages_per_month = messages.pivot_table(index=['user_id', 'message_period'], values=['id'], aggfunc=['count'])\n",
    "user_messages_per_month.columns = ['messages_count']\n",
    "user_messages_per_month.head(10)"
   ]
  },
  {
   "cell_type": "markdown",
   "metadata": {},
   "source": [
    "Рассчитаем объем израсходованного интернет-трафика по месяцам."
   ]
  },
  {
   "cell_type": "code",
   "execution_count": 14,
   "metadata": {},
   "outputs": [],
   "source": [
    "internet['session_period'] = internet['session_date'].dt.month\n",
    "internet['mb_used'] = np.ceil(internet['mb_used'])"
   ]
  },
  {
   "cell_type": "code",
   "execution_count": 15,
   "metadata": {},
   "outputs": [
    {
     "data": {
      "text/html": [
       "<div>\n",
       "<style scoped>\n",
       "    .dataframe tbody tr th:only-of-type {\n",
       "        vertical-align: middle;\n",
       "    }\n",
       "\n",
       "    .dataframe tbody tr th {\n",
       "        vertical-align: top;\n",
       "    }\n",
       "\n",
       "    .dataframe thead th {\n",
       "        text-align: right;\n",
       "    }\n",
       "</style>\n",
       "<table border=\"1\" class=\"dataframe\">\n",
       "  <thead>\n",
       "    <tr style=\"text-align: right;\">\n",
       "      <th></th>\n",
       "      <th></th>\n",
       "      <th>mb_used</th>\n",
       "    </tr>\n",
       "    <tr>\n",
       "      <th>user_id</th>\n",
       "      <th>session_period</th>\n",
       "      <th></th>\n",
       "    </tr>\n",
       "  </thead>\n",
       "  <tbody>\n",
       "    <tr>\n",
       "      <td rowspan=\"8\" valign=\"top\">1000</td>\n",
       "      <td>5</td>\n",
       "      <td>2256.0</td>\n",
       "    </tr>\n",
       "    <tr>\n",
       "      <td>6</td>\n",
       "      <td>23257.0</td>\n",
       "    </tr>\n",
       "    <tr>\n",
       "      <td>7</td>\n",
       "      <td>14016.0</td>\n",
       "    </tr>\n",
       "    <tr>\n",
       "      <td>8</td>\n",
       "      <td>14070.0</td>\n",
       "    </tr>\n",
       "    <tr>\n",
       "      <td>9</td>\n",
       "      <td>14581.0</td>\n",
       "    </tr>\n",
       "    <tr>\n",
       "      <td>10</td>\n",
       "      <td>14717.0</td>\n",
       "    </tr>\n",
       "    <tr>\n",
       "      <td>11</td>\n",
       "      <td>14768.0</td>\n",
       "    </tr>\n",
       "    <tr>\n",
       "      <td>12</td>\n",
       "      <td>9827.0</td>\n",
       "    </tr>\n",
       "    <tr>\n",
       "      <td rowspan=\"2\" valign=\"top\">1001</td>\n",
       "      <td>11</td>\n",
       "      <td>18452.0</td>\n",
       "    </tr>\n",
       "    <tr>\n",
       "      <td>12</td>\n",
       "      <td>14053.0</td>\n",
       "    </tr>\n",
       "  </tbody>\n",
       "</table>\n",
       "</div>"
      ],
      "text/plain": [
       "                        mb_used\n",
       "user_id session_period         \n",
       "1000    5                2256.0\n",
       "        6               23257.0\n",
       "        7               14016.0\n",
       "        8               14070.0\n",
       "        9               14581.0\n",
       "        10              14717.0\n",
       "        11              14768.0\n",
       "        12               9827.0\n",
       "1001    11              18452.0\n",
       "        12              14053.0"
      ]
     },
     "execution_count": 15,
     "metadata": {},
     "output_type": "execute_result"
    }
   ],
   "source": [
    "user_internet_per_month = internet.pivot_table(index=['user_id', 'session_period'], values=['mb_used'], aggfunc=['sum'])\n",
    "user_internet_per_month.columns = ['mb_used']\n",
    "user_internet_per_month.head(10)"
   ]
  },
  {
   "cell_type": "markdown",
   "metadata": {},
   "source": [
    "Сведем все данные в одну таблицу и посчитаем затраты каждого из пользователей по месяцам."
   ]
  },
  {
   "cell_type": "code",
   "execution_count": 16,
   "metadata": {},
   "outputs": [],
   "source": [
    "def compute_monthly_cost(row):\n",
    "    mins = row['minutes']\n",
    "    msgs = row['messages']\n",
    "    mbs = row['mb_used']\n",
    "    user_id = row['user_id']\n",
    "    tariff = row['tariff']\n",
    "    \n",
    "    if(tariff == 'smart'):\n",
    "        return smart.monthly_cost(mins, mbs, msgs)\n",
    "    else:\n",
    "        return ultra.monthly_cost(mins, mbs, msgs)"
   ]
  },
  {
   "cell_type": "code",
   "execution_count": 17,
   "metadata": {
    "scrolled": false
   },
   "outputs": [
    {
     "name": "stderr",
     "output_type": "stream",
     "text": [
      "/opt/conda/lib/python3.7/site-packages/ipykernel_launcher.py:26: DeprecationWarning: In future, it will be an error for 'np.bool_' scalars to be interpreted as an index\n",
      "/opt/conda/lib/python3.7/site-packages/ipykernel_launcher.py:27: DeprecationWarning: In future, it will be an error for 'np.bool_' scalars to be interpreted as an index\n",
      "/opt/conda/lib/python3.7/site-packages/ipykernel_launcher.py:28: DeprecationWarning: In future, it will be an error for 'np.bool_' scalars to be interpreted as an index\n"
     ]
    },
    {
     "data": {
      "text/html": [
       "<div>\n",
       "<style scoped>\n",
       "    .dataframe tbody tr th:only-of-type {\n",
       "        vertical-align: middle;\n",
       "    }\n",
       "\n",
       "    .dataframe tbody tr th {\n",
       "        vertical-align: top;\n",
       "    }\n",
       "\n",
       "    .dataframe thead th {\n",
       "        text-align: right;\n",
       "    }\n",
       "</style>\n",
       "<table border=\"1\" class=\"dataframe\">\n",
       "  <thead>\n",
       "    <tr style=\"text-align: right;\">\n",
       "      <th></th>\n",
       "      <th></th>\n",
       "      <th>mb_used</th>\n",
       "      <th>minutes</th>\n",
       "      <th>messages</th>\n",
       "      <th>tariff</th>\n",
       "      <th>cost</th>\n",
       "    </tr>\n",
       "    <tr>\n",
       "      <th>user_id</th>\n",
       "      <th>session_period</th>\n",
       "      <th></th>\n",
       "      <th></th>\n",
       "      <th></th>\n",
       "      <th></th>\n",
       "      <th></th>\n",
       "    </tr>\n",
       "  </thead>\n",
       "  <tbody>\n",
       "    <tr>\n",
       "      <td rowspan=\"5\" valign=\"top\">1000</td>\n",
       "      <td>5</td>\n",
       "      <td>2256</td>\n",
       "      <td>159</td>\n",
       "      <td>22</td>\n",
       "      <td>ultra</td>\n",
       "      <td>1950</td>\n",
       "    </tr>\n",
       "    <tr>\n",
       "      <td>6</td>\n",
       "      <td>23257</td>\n",
       "      <td>172</td>\n",
       "      <td>60</td>\n",
       "      <td>ultra</td>\n",
       "      <td>1950</td>\n",
       "    </tr>\n",
       "    <tr>\n",
       "      <td>7</td>\n",
       "      <td>14016</td>\n",
       "      <td>340</td>\n",
       "      <td>75</td>\n",
       "      <td>ultra</td>\n",
       "      <td>1950</td>\n",
       "    </tr>\n",
       "    <tr>\n",
       "      <td>8</td>\n",
       "      <td>14070</td>\n",
       "      <td>408</td>\n",
       "      <td>81</td>\n",
       "      <td>ultra</td>\n",
       "      <td>1950</td>\n",
       "    </tr>\n",
       "    <tr>\n",
       "      <td>9</td>\n",
       "      <td>14581</td>\n",
       "      <td>466</td>\n",
       "      <td>57</td>\n",
       "      <td>ultra</td>\n",
       "      <td>1950</td>\n",
       "    </tr>\n",
       "    <tr>\n",
       "      <td>...</td>\n",
       "      <td>...</td>\n",
       "      <td>...</td>\n",
       "      <td>...</td>\n",
       "      <td>...</td>\n",
       "      <td>...</td>\n",
       "      <td>...</td>\n",
       "    </tr>\n",
       "    <tr>\n",
       "      <td>1498</td>\n",
       "      <td>10</td>\n",
       "      <td>20604</td>\n",
       "      <td>247</td>\n",
       "      <td>42</td>\n",
       "      <td>smart</td>\n",
       "      <td>1750</td>\n",
       "    </tr>\n",
       "    <tr>\n",
       "      <td rowspan=\"4\" valign=\"top\">1499</td>\n",
       "      <td>9</td>\n",
       "      <td>1848</td>\n",
       "      <td>70</td>\n",
       "      <td>11</td>\n",
       "      <td>smart</td>\n",
       "      <td>550</td>\n",
       "    </tr>\n",
       "    <tr>\n",
       "      <td>10</td>\n",
       "      <td>17809</td>\n",
       "      <td>449</td>\n",
       "      <td>48</td>\n",
       "      <td>smart</td>\n",
       "      <td>1150</td>\n",
       "    </tr>\n",
       "    <tr>\n",
       "      <td>11</td>\n",
       "      <td>17984</td>\n",
       "      <td>612</td>\n",
       "      <td>59</td>\n",
       "      <td>smart</td>\n",
       "      <td>1513</td>\n",
       "    </tr>\n",
       "    <tr>\n",
       "      <td>12</td>\n",
       "      <td>13077</td>\n",
       "      <td>492</td>\n",
       "      <td>66</td>\n",
       "      <td>smart</td>\n",
       "      <td>598</td>\n",
       "    </tr>\n",
       "  </tbody>\n",
       "</table>\n",
       "<p>3203 rows × 5 columns</p>\n",
       "</div>"
      ],
      "text/plain": [
       "                        mb_used  minutes  messages tariff  cost\n",
       "user_id session_period                                         \n",
       "1000    5                  2256      159        22  ultra  1950\n",
       "        6                 23257      172        60  ultra  1950\n",
       "        7                 14016      340        75  ultra  1950\n",
       "        8                 14070      408        81  ultra  1950\n",
       "        9                 14581      466        57  ultra  1950\n",
       "...                         ...      ...       ...    ...   ...\n",
       "1498    10                20604      247        42  smart  1750\n",
       "1499    9                  1848       70        11  smart   550\n",
       "        10                17809      449        48  smart  1150\n",
       "        11                17984      612        59  smart  1513\n",
       "        12                13077      492        66  smart   598\n",
       "\n",
       "[3203 rows x 5 columns]"
      ]
     },
     "execution_count": 17,
     "metadata": {},
     "output_type": "execute_result"
    }
   ],
   "source": [
    "user_summary = user_internet_per_month.copy(deep=True)\n",
    "user_summary['minutes'] = user_calls_per_month['minutes']\n",
    "user_summary['messages'] = user_messages_per_month['messages_count']\n",
    "user_summary['user_id'] = user_internet_per_month.index.get_level_values('user_id') \n",
    "user_summary['tariff'] = user_summary['user_id'].apply(lambda x: users[users['user_id'] == x]['tariff'].values[0])\n",
    "user_summary['cost'] = user_summary.apply(compute_monthly_cost, axis=1)\n",
    "user_summary = user_summary.drop(axis=1, labels=['user_id'])\n",
    "user_summary = user_summary.fillna(0)\n",
    "user_summary = user_summary.astype({'minutes': int, 'mb_used': int, 'messages': int})\n",
    "user_summary"
   ]
  },
  {
   "cell_type": "markdown",
   "metadata": {},
   "source": [
    "### Вывод"
   ]
  },
  {
   "cell_type": "markdown",
   "metadata": {},
   "source": [
    "* Был удален лишний столбец в таблице `internet`;\n",
    "* Столбцы с датами приведены к типу `datetime`;\n",
    "* Были созданы сводные таблицы по использованию интернета, минут связи и сообщений;\n",
    "* Была создана общая сводная таблица испольвания услуг по месяцам для каждого пользователя;\n",
    "* Была посчитаная помесячная выручка с каждого пользователя"
   ]
  },
  {
   "cell_type": "markdown",
   "metadata": {},
   "source": [
    "<a id='data_analytics'></a>\n",
    "## Анализ поведения клиента"
   ]
  },
  {
   "cell_type": "code",
   "execution_count": 19,
   "metadata": {
    "scrolled": false
   },
   "outputs": [
    {
     "data": {
      "text/html": [
       "<div>\n",
       "<style scoped>\n",
       "    .dataframe tbody tr th:only-of-type {\n",
       "        vertical-align: middle;\n",
       "    }\n",
       "\n",
       "    .dataframe tbody tr th {\n",
       "        vertical-align: top;\n",
       "    }\n",
       "\n",
       "    .dataframe thead th {\n",
       "        text-align: right;\n",
       "    }\n",
       "</style>\n",
       "<table border=\"1\" class=\"dataframe\">\n",
       "  <thead>\n",
       "    <tr style=\"text-align: right;\">\n",
       "      <th></th>\n",
       "      <th></th>\n",
       "      <th>mean_cost</th>\n",
       "      <th>mean_internet</th>\n",
       "      <th>mean_messages</th>\n",
       "      <th>mean_mins</th>\n",
       "    </tr>\n",
       "    <tr>\n",
       "      <th>tariff</th>\n",
       "      <th>user_id</th>\n",
       "      <th></th>\n",
       "      <th></th>\n",
       "      <th></th>\n",
       "      <th></th>\n",
       "    </tr>\n",
       "  </thead>\n",
       "  <tbody>\n",
       "    <tr>\n",
       "      <td rowspan=\"5\" valign=\"top\">smart</td>\n",
       "      <td>1001</td>\n",
       "      <td>950.000000</td>\n",
       "      <td>16252.500000</td>\n",
       "      <td>0.0</td>\n",
       "      <td>422.000000</td>\n",
       "    </tr>\n",
       "    <tr>\n",
       "      <td>1002</td>\n",
       "      <td>1035.714286</td>\n",
       "      <td>16597.571429</td>\n",
       "      <td>10.0</td>\n",
       "      <td>216.714286</td>\n",
       "    </tr>\n",
       "    <tr>\n",
       "      <td>1005</td>\n",
       "      <td>827.000000</td>\n",
       "      <td>8317.750000</td>\n",
       "      <td>46.0</td>\n",
       "      <td>550.416667</td>\n",
       "    </tr>\n",
       "    <tr>\n",
       "      <td>1006</td>\n",
       "      <td>931.818182</td>\n",
       "      <td>14945.000000</td>\n",
       "      <td>0.0</td>\n",
       "      <td>318.272727</td>\n",
       "    </tr>\n",
       "    <tr>\n",
       "      <td>1007</td>\n",
       "      <td>935.666667</td>\n",
       "      <td>14643.555556</td>\n",
       "      <td>25.0</td>\n",
       "      <td>486.555556</td>\n",
       "    </tr>\n",
       "    <tr>\n",
       "      <td>...</td>\n",
       "      <td>...</td>\n",
       "      <td>...</td>\n",
       "      <td>...</td>\n",
       "      <td>...</td>\n",
       "      <td>...</td>\n",
       "    </tr>\n",
       "    <tr>\n",
       "      <td rowspan=\"5\" valign=\"top\">ultra</td>\n",
       "      <td>1476</td>\n",
       "      <td>1950.000000</td>\n",
       "      <td>16714.333333</td>\n",
       "      <td>5.0</td>\n",
       "      <td>467.111111</td>\n",
       "    </tr>\n",
       "    <tr>\n",
       "      <td>1485</td>\n",
       "      <td>1950.000000</td>\n",
       "      <td>23447.000000</td>\n",
       "      <td>155.0</td>\n",
       "      <td>584.000000</td>\n",
       "    </tr>\n",
       "    <tr>\n",
       "      <td>1491</td>\n",
       "      <td>1950.000000</td>\n",
       "      <td>17956.888889</td>\n",
       "      <td>48.0</td>\n",
       "      <td>513.333333</td>\n",
       "    </tr>\n",
       "    <tr>\n",
       "      <td>1493</td>\n",
       "      <td>2850.000000</td>\n",
       "      <td>27233.500000</td>\n",
       "      <td>47.0</td>\n",
       "      <td>372.000000</td>\n",
       "    </tr>\n",
       "    <tr>\n",
       "      <td>1495</td>\n",
       "      <td>2310.000000</td>\n",
       "      <td>25507.200000</td>\n",
       "      <td>68.0</td>\n",
       "      <td>784.000000</td>\n",
       "    </tr>\n",
       "  </tbody>\n",
       "</table>\n",
       "<p>497 rows × 4 columns</p>\n",
       "</div>"
      ],
      "text/plain": [
       "                  mean_cost  mean_internet  mean_messages   mean_mins\n",
       "tariff user_id                                                       \n",
       "smart  1001      950.000000   16252.500000            0.0  422.000000\n",
       "       1002     1035.714286   16597.571429           10.0  216.714286\n",
       "       1005      827.000000    8317.750000           46.0  550.416667\n",
       "       1006      931.818182   14945.000000            0.0  318.272727\n",
       "       1007      935.666667   14643.555556           25.0  486.555556\n",
       "...                     ...            ...            ...         ...\n",
       "ultra  1476     1950.000000   16714.333333            5.0  467.111111\n",
       "       1485     1950.000000   23447.000000          155.0  584.000000\n",
       "       1491     1950.000000   17956.888889           48.0  513.333333\n",
       "       1493     2850.000000   27233.500000           47.0  372.000000\n",
       "       1495     2310.000000   25507.200000           68.0  784.000000\n",
       "\n",
       "[497 rows x 4 columns]"
      ]
     },
     "execution_count": 19,
     "metadata": {},
     "output_type": "execute_result"
    }
   ],
   "source": [
    "ss = user_summary.pivot_table(\n",
    "    index=['tariff', 'user_id'],\n",
    "    values=['mb_used', 'minutes', 'messages','cost'],\n",
    "    aggfunc=['mean'])\n",
    "ss.columns = ['mean_cost', 'mean_internet','mean_messages',  'mean_mins']\n",
    "ss = ss.fillna(0)\n",
    "ss"
   ]
  },
  {
   "cell_type": "markdown",
   "metadata": {},
   "source": [
    "Посмотрим на пользователей тарифа `smart`:\n"
   ]
  },
  {
   "cell_type": "code",
   "execution_count": 20,
   "metadata": {},
   "outputs": [
    {
     "data": {
      "text/html": [
       "<div>\n",
       "<style scoped>\n",
       "    .dataframe tbody tr th:only-of-type {\n",
       "        vertical-align: middle;\n",
       "    }\n",
       "\n",
       "    .dataframe tbody tr th {\n",
       "        vertical-align: top;\n",
       "    }\n",
       "\n",
       "    .dataframe thead th {\n",
       "        text-align: right;\n",
       "    }\n",
       "</style>\n",
       "<table border=\"1\" class=\"dataframe\">\n",
       "  <thead>\n",
       "    <tr style=\"text-align: right;\">\n",
       "      <th></th>\n",
       "      <th>mean_cost</th>\n",
       "      <th>mean_internet</th>\n",
       "      <th>mean_messages</th>\n",
       "      <th>mean_mins</th>\n",
       "    </tr>\n",
       "  </thead>\n",
       "  <tbody>\n",
       "    <tr>\n",
       "      <td>count</td>\n",
       "      <td>350.000000</td>\n",
       "      <td>350.000000</td>\n",
       "      <td>350.000000</td>\n",
       "      <td>350.000000</td>\n",
       "    </tr>\n",
       "    <tr>\n",
       "      <td>mean</td>\n",
       "      <td>1330.044499</td>\n",
       "      <td>16211.213491</td>\n",
       "      <td>32.372078</td>\n",
       "      <td>419.859946</td>\n",
       "    </tr>\n",
       "    <tr>\n",
       "      <td>std</td>\n",
       "      <td>606.705295</td>\n",
       "      <td>3581.630188</td>\n",
       "      <td>26.512553</td>\n",
       "      <td>145.007960</td>\n",
       "    </tr>\n",
       "    <tr>\n",
       "      <td>min</td>\n",
       "      <td>550.000000</td>\n",
       "      <td>5391.181818</td>\n",
       "      <td>0.000000</td>\n",
       "      <td>0.000000</td>\n",
       "    </tr>\n",
       "    <tr>\n",
       "      <td>25%</td>\n",
       "      <td>878.541667</td>\n",
       "      <td>13962.392857</td>\n",
       "      <td>11.000000</td>\n",
       "      <td>316.886364</td>\n",
       "    </tr>\n",
       "    <tr>\n",
       "      <td>50%</td>\n",
       "      <td>1183.100000</td>\n",
       "      <td>16289.300000</td>\n",
       "      <td>27.750000</td>\n",
       "      <td>426.125000</td>\n",
       "    </tr>\n",
       "    <tr>\n",
       "      <td>75%</td>\n",
       "      <td>1682.694444</td>\n",
       "      <td>18620.263889</td>\n",
       "      <td>48.000000</td>\n",
       "      <td>519.508333</td>\n",
       "    </tr>\n",
       "    <tr>\n",
       "      <td>max</td>\n",
       "      <td>4333.333333</td>\n",
       "      <td>27321.000000</td>\n",
       "      <td>118.000000</td>\n",
       "      <td>891.500000</td>\n",
       "    </tr>\n",
       "  </tbody>\n",
       "</table>\n",
       "</div>"
      ],
      "text/plain": [
       "         mean_cost  mean_internet  mean_messages   mean_mins\n",
       "count   350.000000     350.000000     350.000000  350.000000\n",
       "mean   1330.044499   16211.213491      32.372078  419.859946\n",
       "std     606.705295    3581.630188      26.512553  145.007960\n",
       "min     550.000000    5391.181818       0.000000    0.000000\n",
       "25%     878.541667   13962.392857      11.000000  316.886364\n",
       "50%    1183.100000   16289.300000      27.750000  426.125000\n",
       "75%    1682.694444   18620.263889      48.000000  519.508333\n",
       "max    4333.333333   27321.000000     118.000000  891.500000"
      ]
     },
     "execution_count": 20,
     "metadata": {},
     "output_type": "execute_result"
    }
   ],
   "source": [
    "ss.loc['smart'].describe()"
   ]
  },
  {
   "cell_type": "markdown",
   "metadata": {},
   "source": [
    "Посмотрим на пользователей тарифа `ultra`:"
   ]
  },
  {
   "cell_type": "code",
   "execution_count": 21,
   "metadata": {},
   "outputs": [
    {
     "data": {
      "text/html": [
       "<div>\n",
       "<style scoped>\n",
       "    .dataframe tbody tr th:only-of-type {\n",
       "        vertical-align: middle;\n",
       "    }\n",
       "\n",
       "    .dataframe tbody tr th {\n",
       "        vertical-align: top;\n",
       "    }\n",
       "\n",
       "    .dataframe thead th {\n",
       "        text-align: right;\n",
       "    }\n",
       "</style>\n",
       "<table border=\"1\" class=\"dataframe\">\n",
       "  <thead>\n",
       "    <tr style=\"text-align: right;\">\n",
       "      <th></th>\n",
       "      <th>mean_cost</th>\n",
       "      <th>mean_internet</th>\n",
       "      <th>mean_messages</th>\n",
       "      <th>mean_mins</th>\n",
       "    </tr>\n",
       "  </thead>\n",
       "  <tbody>\n",
       "    <tr>\n",
       "      <td>count</td>\n",
       "      <td>147.000000</td>\n",
       "      <td>147.000000</td>\n",
       "      <td>147.000000</td>\n",
       "      <td>147.000000</td>\n",
       "    </tr>\n",
       "    <tr>\n",
       "      <td>mean</td>\n",
       "      <td>2088.352254</td>\n",
       "      <td>19744.885918</td>\n",
       "      <td>54.204568</td>\n",
       "      <td>530.724402</td>\n",
       "    </tr>\n",
       "    <tr>\n",
       "      <td>std</td>\n",
       "      <td>301.660233</td>\n",
       "      <td>8178.259984</td>\n",
       "      <td>46.476065</td>\n",
       "      <td>283.364249</td>\n",
       "    </tr>\n",
       "    <tr>\n",
       "      <td>min</td>\n",
       "      <td>1950.000000</td>\n",
       "      <td>2304.000000</td>\n",
       "      <td>0.000000</td>\n",
       "      <td>0.000000</td>\n",
       "    </tr>\n",
       "    <tr>\n",
       "      <td>25%</td>\n",
       "      <td>1950.000000</td>\n",
       "      <td>14821.292857</td>\n",
       "      <td>16.600000</td>\n",
       "      <td>327.400000</td>\n",
       "    </tr>\n",
       "    <tr>\n",
       "      <td>50%</td>\n",
       "      <td>1950.000000</td>\n",
       "      <td>18846.333333</td>\n",
       "      <td>46.000000</td>\n",
       "      <td>515.750000</td>\n",
       "    </tr>\n",
       "    <tr>\n",
       "      <td>75%</td>\n",
       "      <td>1993.750000</td>\n",
       "      <td>25988.505952</td>\n",
       "      <td>84.500000</td>\n",
       "      <td>747.611111</td>\n",
       "    </tr>\n",
       "    <tr>\n",
       "      <td>max</td>\n",
       "      <td>3262.500000</td>\n",
       "      <td>38502.000000</td>\n",
       "      <td>192.000000</td>\n",
       "      <td>1279.400000</td>\n",
       "    </tr>\n",
       "  </tbody>\n",
       "</table>\n",
       "</div>"
      ],
      "text/plain": [
       "         mean_cost  mean_internet  mean_messages    mean_mins\n",
       "count   147.000000     147.000000     147.000000   147.000000\n",
       "mean   2088.352254   19744.885918      54.204568   530.724402\n",
       "std     301.660233    8178.259984      46.476065   283.364249\n",
       "min    1950.000000    2304.000000       0.000000     0.000000\n",
       "25%    1950.000000   14821.292857      16.600000   327.400000\n",
       "50%    1950.000000   18846.333333      46.000000   515.750000\n",
       "75%    1993.750000   25988.505952      84.500000   747.611111\n",
       "max    3262.500000   38502.000000     192.000000  1279.400000"
      ]
     },
     "execution_count": 21,
     "metadata": {},
     "output_type": "execute_result"
    }
   ],
   "source": [
    "ss.loc['ultra'].describe()"
   ]
  },
  {
   "cell_type": "markdown",
   "metadata": {},
   "source": [
    "\n",
    "---\n",
    "\n",
    "Теперь сравним пользователей двух тарифов по каждому из параметров:"
   ]
  },
  {
   "cell_type": "markdown",
   "metadata": {},
   "source": [
    "<a id='internet'></a>\n",
    "### Интернет-трафик\n",
    "\n",
    "\n",
    "Тариф | Среднее, МБ | Стандартное отклонение, МБ | Медианное, МБ | Квартиль 75%, МБ | Квартиль 25%, МБ\n",
    "---- | ----- | ------ | ---- | ----- | -----\n",
    "Smart | 16211 | 3581 | 16289 | 18620 | 13962 \n",
    "Ultra | 19744 | 8178 | 18846 | 25988 | 14821\n",
    "\n",
    "Пользователи тарифа `Smart` в среднем превышают включенный объем трафика на *851 МБ*. Стандартное отклонение в 2.3 раза меньше, чем у пользователей тарифа `Ultra`. Медианное значение практически совпало со средним.   \n",
    "\n",
    "\n",
    "В свою очередь, владельцы тарифа `Ultra`, в среднем используют лишь 64% от доступного им по тарифу трафика. Стандартное отклонение в *8178 МБ* говорит о большем разбросе в потребляемом интернет-трафике. Об этом также говорит большой межквартильный размах: *11167 МБ* и отстающая практически на *1 ГБ* медиана от среднего."
   ]
  },
  {
   "cell_type": "code",
   "execution_count": 23,
   "metadata": {},
   "outputs": [
    {
     "name": "stdout",
     "output_type": "stream",
     "text": [
      "[Smart] Выборочная несмещенная дисперсия: 12828074.80 МБ\n",
      "[Ultra] Выборочная несмещенная дисперсия: 66883936.37 МБ\n"
     ]
    }
   ],
   "source": [
    "print('[Smart] Выборочная несмещенная дисперсия: {:.2f} МБ'.format(np.var(ss.loc['smart', 'mean_internet'], ddof=1)))\n",
    "print('[Ultra] Выборочная несмещенная дисперсия: {:.2f} МБ'.format(np.var(ss.loc['ultra', 'mean_internet'], ddof=1)))"
   ]
  },
  {
   "cell_type": "markdown",
   "metadata": {},
   "source": [
    "Распределение интернет-трафика пользователей тарифа `Smart` похоже на нормальное распределение."
   ]
  },
  {
   "cell_type": "code",
   "execution_count": 24,
   "metadata": {
    "scrolled": false
   },
   "outputs": [
    {
     "data": {
      "image/png": "[encoded data removed]",
      "text/plain": [
       "<Figure size 432x288 with 1 Axes>"
      ]
     },
     "metadata": {
      "needs_background": "light"
     },
     "output_type": "display_data"
    }
   ],
   "source": [
    "ss.loc['smart', 'mean_internet'].hist(bins=30)\n",
    "plt.title('Гистограмма использования интернет-трафика [smart]');\n",
    "plt.xlabel('Объем трафика')\n",
    "plt.ylabel('Частота');"
   ]
  },
  {
   "cell_type": "markdown",
   "metadata": {},
   "source": [
    "А вот распределение интернет-трафика пользователей тарифа `Ultra` было бы похоже на нормальное распределение, но проседает в центре."
   ]
  },
  {
   "cell_type": "code",
   "execution_count": 25,
   "metadata": {},
   "outputs": [
    {
     "data": {
      "image/png": "[encoded data removed]",
      "text/plain": [
       "<Figure size 432x288 with 1 Axes>"
      ]
     },
     "metadata": {
      "needs_background": "light"
     },
     "output_type": "display_data"
    }
   ],
   "source": [
    "ss.loc['ultra', 'mean_internet'].hist(bins=20)\n",
    "plt.title('Гистограмма использования интернет-трафика [ultra]');\n",
    "plt.xlabel('Объем трафика')\n",
    "plt.ylabel('Частота');"
   ]
  },
  {
   "cell_type": "markdown",
   "metadata": {},
   "source": [
    "<a id='calls'></a>\n",
    "### Звонки\n",
    "\n",
    "\n",
    "\n",
    "Тариф | Среднее | Стандартное отклонение | Медианное | 75%| 25%\n",
    "---- | ----- | ------ | ---- | ----- | -----\n",
    "Smart | 419 | 145 | 426 | 519 | 316 \n",
    "Ultra | 530 | 283 | 515 | 747 | 327\n",
    "<div style=\"text-align:center; font-size: 9px;\"><i>* данные указаны в минутах</i></div>\n",
    "\n",
    "Пользователи обоих тарифов в среднем разговаривают в пределах своего месячного лимита. 75% пользователей тарифа `Smart` в среднем превышают допустимый им лимит не больше, чем на 19 минут. При этом все пользователи тарифа `Ultra` в среднем не превышают доступный им по тарифу лимит минут разговоров в месяц.\n",
    "\n",
    "Медианные значения обоих тарифов очень близки к своим средним. Стандартные отклонения говорят о том, что пользователи тарифа `Ultra` больше отличаются друг от друга в суммарном количестве использованных минут, чем владельцы тарифа `Smart`."
   ]
  },
  {
   "cell_type": "code",
   "execution_count": 26,
   "metadata": {},
   "outputs": [
    {
     "name": "stdout",
     "output_type": "stream",
     "text": [
      "[Smart] Выборочная несмещенная дисперсия: 21027.31 минут\n",
      "[Ultra] Выборочная несмещенная дисперсия: 80295.30 минут\n"
     ]
    }
   ],
   "source": [
    "print('[Smart] Выборочная несмещенная дисперсия: {:.2f} минут'.format(np.var(ss.loc['smart', 'mean_mins'], ddof=1)))\n",
    "print('[Ultra] Выборочная несмещенная дисперсия: {:.2f} минут'.format(np.var(ss.loc['ultra', 'mean_mins'], ddof=1)))"
   ]
  },
  {
   "cell_type": "markdown",
   "metadata": {},
   "source": [
    "`Smart`: Из гистограммы видно, что распределение похоже на нормальное, но есть небольшие всплески пользователей с околонулевым количеством минут в месяц и отсутствие пользователей, которые говорят от 700 до 800 минут в месяц в среднем."
   ]
  },
  {
   "cell_type": "code",
   "execution_count": 27,
   "metadata": {},
   "outputs": [
    {
     "data": {
      "image/png": "[encoded data removed]",
      "text/plain": [
       "<Figure size 432x288 with 1 Axes>"
      ]
     },
     "metadata": {
      "needs_background": "light"
     },
     "output_type": "display_data"
    }
   ],
   "source": [
    "ss.loc['smart', 'mean_mins'].hist(bins=20)\n",
    "plt.title('Гистограмма использованных минут разговоров в месяц [smart]');\n",
    "plt.xlabel('Количество минут')\n",
    "plt.ylabel('Частота');"
   ]
  },
  {
   "cell_type": "markdown",
   "metadata": {},
   "source": [
    "`Ultra`: Распределение можно назвать нормальным и скошенным влево. В наборе существует 5 пользователей, которые никогда не совершали звонки."
   ]
  },
  {
   "cell_type": "code",
   "execution_count": 28,
   "metadata": {},
   "outputs": [
    {
     "data": {
      "image/png": "[encoded data removed]",
      "text/plain": [
       "<Figure size 432x288 with 1 Axes>"
      ]
     },
     "metadata": {
      "needs_background": "light"
     },
     "output_type": "display_data"
    }
   ],
   "source": [
    "ss.loc['ultra', 'mean_mins'].hist(bins=10)\n",
    "plt.title('Гистограмма использованных минут разговоров в месяц [ultra]');\n",
    "plt.xlabel('Количество минут')\n",
    "plt.ylabel('Частота');"
   ]
  },
  {
   "cell_type": "code",
   "execution_count": 29,
   "metadata": {},
   "outputs": [
    {
     "data": {
      "text/html": [
       "<div>\n",
       "<style scoped>\n",
       "    .dataframe tbody tr th:only-of-type {\n",
       "        vertical-align: middle;\n",
       "    }\n",
       "\n",
       "    .dataframe tbody tr th {\n",
       "        vertical-align: top;\n",
       "    }\n",
       "\n",
       "    .dataframe thead th {\n",
       "        text-align: right;\n",
       "    }\n",
       "</style>\n",
       "<table border=\"1\" class=\"dataframe\">\n",
       "  <thead>\n",
       "    <tr style=\"text-align: right;\">\n",
       "      <th></th>\n",
       "      <th>mean_cost</th>\n",
       "      <th>mean_internet</th>\n",
       "      <th>mean_messages</th>\n",
       "      <th>mean_mins</th>\n",
       "    </tr>\n",
       "    <tr>\n",
       "      <th>user_id</th>\n",
       "      <th></th>\n",
       "      <th></th>\n",
       "      <th></th>\n",
       "      <th></th>\n",
       "    </tr>\n",
       "  </thead>\n",
       "  <tbody>\n",
       "    <tr>\n",
       "      <td>1091</td>\n",
       "      <td>1950.0</td>\n",
       "      <td>13437.625000</td>\n",
       "      <td>34.0</td>\n",
       "      <td>0.0</td>\n",
       "    </tr>\n",
       "    <tr>\n",
       "      <td>1106</td>\n",
       "      <td>1950.0</td>\n",
       "      <td>17367.888889</td>\n",
       "      <td>25.0</td>\n",
       "      <td>0.0</td>\n",
       "    </tr>\n",
       "    <tr>\n",
       "      <td>1231</td>\n",
       "      <td>2100.0</td>\n",
       "      <td>27841.375000</td>\n",
       "      <td>173.0</td>\n",
       "      <td>0.0</td>\n",
       "    </tr>\n",
       "    <tr>\n",
       "      <td>1328</td>\n",
       "      <td>2650.0</td>\n",
       "      <td>32491.666667</td>\n",
       "      <td>7.0</td>\n",
       "      <td>0.0</td>\n",
       "    </tr>\n",
       "    <tr>\n",
       "      <td>1473</td>\n",
       "      <td>1950.0</td>\n",
       "      <td>16810.200000</td>\n",
       "      <td>18.0</td>\n",
       "      <td>0.0</td>\n",
       "    </tr>\n",
       "  </tbody>\n",
       "</table>\n",
       "</div>"
      ],
      "text/plain": [
       "         mean_cost  mean_internet  mean_messages  mean_mins\n",
       "user_id                                                    \n",
       "1091        1950.0   13437.625000           34.0        0.0\n",
       "1106        1950.0   17367.888889           25.0        0.0\n",
       "1231        2100.0   27841.375000          173.0        0.0\n",
       "1328        2650.0   32491.666667            7.0        0.0\n",
       "1473        1950.0   16810.200000           18.0        0.0"
      ]
     },
     "execution_count": 29,
     "metadata": {},
     "output_type": "execute_result"
    }
   ],
   "source": [
    "ss.loc['ultra'].query('mean_mins == 0')"
   ]
  },
  {
   "cell_type": "markdown",
   "metadata": {},
   "source": [
    "<a id='messages'></a>\n",
    "### Сообщения\n",
    "\n",
    "Тариф | Среднее | Стандартное отклонение | Медианное | 75% | 25%\n",
    "---- | ----- | ------ | ---- | ----- | -----\n",
    "Smart | 32.4 | 26.5 | 27.7 | 48 | 11 \n",
    "Ultra | 54.3 | 46.4 | 46 | 84 | 18\n",
    "<div style=\"text-align:center; font-size: 9px;\"><i>* данные указаны в штуках</i></div>\n",
    "\n",
    "Данные о среднем количестве сообщений в месяц для разных пользователей каждого из тарифов сильно отличаются друг друга. Стандартное отклонение приближается к среднему и практически равно медианному значению. Многие пользователи не пишут сообщений вовсе. При этом пользователь тарифа `Ultra` в среднем отправляет на 60% сообщений, чем пользователь тарифа `Smart`."
   ]
  },
  {
   "cell_type": "code",
   "execution_count": 30,
   "metadata": {},
   "outputs": [
    {
     "name": "stdout",
     "output_type": "stream",
     "text": [
      "[Smart] Выборочная несмещенная дисперсия: 702.92 сообщений\n",
      "[Ultra] Выборочная несмещенная дисперсия: 2160.02 сообщений\n"
     ]
    }
   ],
   "source": [
    "print('[Smart] Выборочная несмещенная дисперсия: {:.2f} сообщений'.format(np.var(ss.loc['smart', 'mean_messages'], ddof=1)))\n",
    "print('[Ultra] Выборочная несмещенная дисперсия: {:.2f} сообщений'.format(np.var(ss.loc['ultra', 'mean_messages'], ddof=1)))"
   ]
  },
  {
   "cell_type": "markdown",
   "metadata": {},
   "source": [
    "`Smart`: Распределение напоминает геометрическое: количество пользователей уменьшается с увеличением количества отправленных сообщений. "
   ]
  },
  {
   "cell_type": "code",
   "execution_count": 31,
   "metadata": {},
   "outputs": [
    {
     "data": {
      "image/png": "[encoded data removed]",
      "text/plain": [
       "<Figure size 432x288 with 1 Axes>"
      ]
     },
     "metadata": {
      "needs_background": "light"
     },
     "output_type": "display_data"
    }
   ],
   "source": [
    "ss.loc['smart', 'mean_messages'].hist(bins=30)\n",
    "plt.title('Гистограмма отправленных сообщений в месяц [smart]');\n",
    "plt.xlabel('Количество сообщений')\n",
    "plt.ylabel('Частота');"
   ]
  },
  {
   "cell_type": "markdown",
   "metadata": {},
   "source": [
    "Аналогичное справедливо и для тарифа `Ultra`. "
   ]
  },
  {
   "cell_type": "code",
   "execution_count": 32,
   "metadata": {},
   "outputs": [
    {
     "data": {
      "image/png": "[encoded data removed]",
      "text/plain": [
       "<Figure size 432x288 with 1 Axes>"
      ]
     },
     "metadata": {
      "needs_background": "light"
     },
     "output_type": "display_data"
    }
   ],
   "source": [
    "ss.loc['ultra', 'mean_messages'].hist(bins=30)\n",
    "plt.title('Гистограмма отправленных сообщений в месяц [ultra]');\n",
    "plt.xlabel('Количество сообщений')\n",
    "plt.ylabel('Частота');"
   ]
  },
  {
   "cell_type": "code",
   "execution_count": 33,
   "metadata": {
    "scrolled": false
   },
   "outputs": [
    {
     "name": "stdout",
     "output_type": "stream",
     "text": [
      "Сводная таблица для двух тарифов:\n"
     ]
    },
    {
     "data": {
      "text/html": [
       "<div>\n",
       "<style scoped>\n",
       "    .dataframe tbody tr th:only-of-type {\n",
       "        vertical-align: middle;\n",
       "    }\n",
       "\n",
       "    .dataframe tbody tr th {\n",
       "        vertical-align: top;\n",
       "    }\n",
       "\n",
       "    .dataframe thead th {\n",
       "        text-align: right;\n",
       "    }\n",
       "</style>\n",
       "<table border=\"1\" class=\"dataframe\">\n",
       "  <thead>\n",
       "    <tr style=\"text-align: right;\">\n",
       "      <th></th>\n",
       "      <th>mean_cost</th>\n",
       "      <th>mean_internet</th>\n",
       "      <th>mean_messages</th>\n",
       "      <th>mean_mins</th>\n",
       "    </tr>\n",
       "    <tr>\n",
       "      <th>tariff</th>\n",
       "      <th></th>\n",
       "      <th></th>\n",
       "      <th></th>\n",
       "      <th></th>\n",
       "    </tr>\n",
       "  </thead>\n",
       "  <tbody>\n",
       "    <tr>\n",
       "      <td>smart</td>\n",
       "      <td>1330.0</td>\n",
       "      <td>16211.0</td>\n",
       "      <td>32.0</td>\n",
       "      <td>420.0</td>\n",
       "    </tr>\n",
       "    <tr>\n",
       "      <td>ultra</td>\n",
       "      <td>2088.0</td>\n",
       "      <td>19745.0</td>\n",
       "      <td>54.0</td>\n",
       "      <td>531.0</td>\n",
       "    </tr>\n",
       "  </tbody>\n",
       "</table>\n",
       "</div>"
      ],
      "text/plain": [
       "        mean_cost  mean_internet  mean_messages  mean_mins\n",
       "tariff                                                    \n",
       "smart      1330.0        16211.0           32.0      420.0\n",
       "ultra      2088.0        19745.0           54.0      531.0"
      ]
     },
     "execution_count": 33,
     "metadata": {},
     "output_type": "execute_result"
    }
   ],
   "source": [
    "print('Сводная таблица для двух тарифов:')\n",
    "np.round(ss.pivot_table(index='tariff', values=['mean_internet', 'mean_mins', 'mean_messages', 'mean_cost'], aggfunc='mean'))"
   ]
  },
  {
   "cell_type": "markdown",
   "metadata": {},
   "source": [
    "<a id=\"cost_analytics\"></a>\n",
    "### Сравним доходность двух тарифов"
   ]
  },
  {
   "cell_type": "markdown",
   "metadata": {},
   "source": [
    "Сперва стоит отметить, что в предоставленной выборке количество пользователей тарифа `Smart` составляет 70.2%, пользователей тарифа `Ultra` 29.8%, соответственно. Я скорее склонен оценить это, как реальное соотношение количества пользователей двух тарифов, а не неравномерность выборки. И это неудивительно, более дорогой тариф вероятнее могут позволить себе меньшее количество людей."
   ]
  },
  {
   "cell_type": "code",
   "execution_count": 34,
   "metadata": {},
   "outputs": [
    {
     "data": {
      "text/html": [
       "<div>\n",
       "<style scoped>\n",
       "    .dataframe tbody tr th:only-of-type {\n",
       "        vertical-align: middle;\n",
       "    }\n",
       "\n",
       "    .dataframe tbody tr th {\n",
       "        vertical-align: top;\n",
       "    }\n",
       "\n",
       "    .dataframe thead th {\n",
       "        text-align: right;\n",
       "    }\n",
       "</style>\n",
       "<table border=\"1\" class=\"dataframe\">\n",
       "  <thead>\n",
       "    <tr style=\"text-align: right;\">\n",
       "      <th></th>\n",
       "      <th>user_id</th>\n",
       "    </tr>\n",
       "    <tr>\n",
       "      <th>tariff</th>\n",
       "      <th></th>\n",
       "    </tr>\n",
       "  </thead>\n",
       "  <tbody>\n",
       "    <tr>\n",
       "      <td>smart</td>\n",
       "      <td>351</td>\n",
       "    </tr>\n",
       "    <tr>\n",
       "      <td>ultra</td>\n",
       "      <td>149</td>\n",
       "    </tr>\n",
       "  </tbody>\n",
       "</table>\n",
       "</div>"
      ],
      "text/plain": [
       "        user_id\n",
       "tariff         \n",
       "smart       351\n",
       "ultra       149"
      ]
     },
     "execution_count": 34,
     "metadata": {},
     "output_type": "execute_result"
    }
   ],
   "source": [
    "users.pivot_table(index='tariff', values='user_id', aggfunc='count')"
   ]
  },
  {
   "cell_type": "markdown",
   "metadata": {},
   "source": [
    "Средняя выручка с клиента тарифа `Ultra` на 60% превышает выручку с клиента тарифа `Smart`. При этом, из-за большего количества пользователей тариф, `Smart` суммарно принес больше годовой выручки - на 42% больше тарифа `Ultra`."
   ]
  },
  {
   "cell_type": "code",
   "execution_count": 35,
   "metadata": {},
   "outputs": [
    {
     "data": {
      "text/html": [
       "<div>\n",
       "<style scoped>\n",
       "    .dataframe tbody tr th:only-of-type {\n",
       "        vertical-align: middle;\n",
       "    }\n",
       "\n",
       "    .dataframe tbody tr th {\n",
       "        vertical-align: top;\n",
       "    }\n",
       "\n",
       "    .dataframe thead tr th {\n",
       "        text-align: left;\n",
       "    }\n",
       "\n",
       "    .dataframe thead tr:last-of-type th {\n",
       "        text-align: right;\n",
       "    }\n",
       "</style>\n",
       "<table border=\"1\" class=\"dataframe\">\n",
       "  <thead>\n",
       "    <tr>\n",
       "      <th></th>\n",
       "      <th>mean</th>\n",
       "      <th>sum</th>\n",
       "    </tr>\n",
       "    <tr>\n",
       "      <th></th>\n",
       "      <th>cost</th>\n",
       "      <th>cost</th>\n",
       "    </tr>\n",
       "    <tr>\n",
       "      <th>tariff</th>\n",
       "      <th></th>\n",
       "      <th></th>\n",
       "    </tr>\n",
       "  </thead>\n",
       "  <tbody>\n",
       "    <tr>\n",
       "      <td>smart</td>\n",
       "      <td>1295.0</td>\n",
       "      <td>2885201.0</td>\n",
       "    </tr>\n",
       "    <tr>\n",
       "      <td>ultra</td>\n",
       "      <td>2073.0</td>\n",
       "      <td>2020500.0</td>\n",
       "    </tr>\n",
       "  </tbody>\n",
       "</table>\n",
       "</div>"
      ],
      "text/plain": [
       "          mean        sum\n",
       "          cost       cost\n",
       "tariff                   \n",
       "smart   1295.0  2885201.0\n",
       "ultra   2073.0  2020500.0"
      ]
     },
     "execution_count": 35,
     "metadata": {},
     "output_type": "execute_result"
    }
   ],
   "source": [
    "np.ceil(user_summary.pivot_table(index=['tariff'], values=['cost'], aggfunc=['mean', 'sum']))"
   ]
  },
  {
   "cell_type": "markdown",
   "metadata": {},
   "source": [
    "Распределение среднемесячной выручки для тарифов выглядит по-разному. Тариф `Ultra` при годовой среднемесячной выручке в 2073 рубля имеет стандартное отклонение 57 рублей. То есть, средняя выручка в течение года почти не меняется, присутсвует два скромных пика средней выручки в сентябре и декабре.\n",
    "\n",
    "В свою очередь, тариф `Smart` демонстрирует скачкообразный рост средней выручки, сильно проседает в апреле, но в целом имеет положительный тренд. Стандартное отклонение равно 241 рублю.\n",
    "\n",
    "Оба тарифа увеличили размер среднемесячной выручки пользователя за 2018 год (процентов роста):\n",
    "* Тариф `Ultra`: 9%\n",
    "* Тариф `Smart`: 119%"
   ]
  },
  {
   "cell_type": "code",
   "execution_count": 36,
   "metadata": {},
   "outputs": [
    {
     "data": {
      "image/png": "[encoded data removed]",
      "text/plain": [
       "<Figure size 432x288 with 1 Axes>"
      ]
     },
     "metadata": {
      "needs_background": "light"
     },
     "output_type": "display_data"
    }
   ],
   "source": [
    "user_summary = user_summary.reset_index()\n",
    "fig, ax = plt.subplots()\n",
    "cost_summary = user_summary.pivot_table(index=['tariff', 'session_period'], values=['cost'], aggfunc=['mean', 'sum', 'count'])\n",
    "cost_summary.columns = ['mean_cost', 'sum_cost', 'users_count']\n",
    "cost_summary.xs('smart').plot(y='mean_cost', ax=ax, label='Тариф Smart')\n",
    "cost_summary.xs('ultra').plot(y='mean_cost', ax=ax, label='Тариф Ultra')\n",
    "plt.title('Средняя помесячная выручка с пользователя')\n",
    "plt.xlabel('Месяц')\n",
    "plt.ylabel('Выручка, руб.');"
   ]
  },
  {
   "cell_type": "markdown",
   "metadata": {},
   "source": [
    "В течение года количество пользователей тарифов было различным. Оба тарифа показали рост количества пользователей:\n",
    "\n",
    "Тариф | На начало периода, чел. | На конец периода, чел. | Рост, %\n",
    "----- | ----------------- | ---------------- | -------\n",
    "`Smart` | 34 | 337 | 891%\n",
    "`Ultra` | 9 | 138 | 1433%\n",
    "\n",
    "И, хотя прирост пользователей тарифа `Ultra` в процентном отношении оказался значительно сильнее, тренд отношения количества пользователей `Ultra` к количеству пользователей `Smart` на конец периода однозначно отрицательный (зеленая пунктирная кривая на графике ниже). Изначально отношение составляло 26.4%, достигло пика на 6 месяц в 50.6%, и с тех пор наблюдается тренд на снижение, завершая период при значении в 40.9% отношения количества пользователей `Ultra` к `Smart`."
   ]
  },
  {
   "cell_type": "code",
   "execution_count": 37,
   "metadata": {},
   "outputs": [],
   "source": [
    "percentage = pd.DataFrame()\n",
    "percentage['%'] = cost_summary.loc['ultra', 'users_count'] / cost_summary.loc['smart', 'users_count']*350"
   ]
  },
  {
   "cell_type": "code",
   "execution_count": 38,
   "metadata": {},
   "outputs": [
    {
     "data": {
      "image/png": "[encoded data removed]",
      "text/plain": [
       "<Figure size 432x288 with 1 Axes>"
      ]
     },
     "metadata": {
      "needs_background": "light"
     },
     "output_type": "display_data"
    }
   ],
   "source": [
    "fig, ax = plt.subplots()\n",
    "cost_summary.xs('smart').plot(y='users_count', ax=ax, label='Тариф Smart')\n",
    "cost_summary.xs('ultra').plot(y='users_count', ax=ax, label='Тариф Ultra')\n",
    "percentage.plot(y='%', ax=ax, ls='--', label='Ultra / Smart', alpha=0.5)\n",
    "\n",
    "plt.title('Количество пользователей в месяц')\n",
    "plt.xlabel('Месяц')\n",
    "plt.ylabel('Пользователей');"
   ]
  },
  {
   "cell_type": "markdown",
   "metadata": {},
   "source": [
    "Анализируя помесячную доходность тарифов, следует отметить, как 3 упомянутых выше параметра влияют на графики:\n",
    "* Разный характер изменения среднемесячной выручки пользователя;\n",
    "* Изменение количества пользователей тарифов;\n",
    "* Изменение отношения количества пользователей тарифов относительно друг друга.\n",
    "\n",
    "Начало периода приходиться на минимальный уровень среднемесячной выручки тарифа `Smart` и большому различию в количестве пользователей двух тарифов. Помесячная выручка в этот период примерно равна. Затем в 4 месяц месячная доходность от пользователей тарифов `Ultra` даже превосходит тариф `Smart`. На это влияет возросшее отношение пользователей `Ultra` / `Smart` и значительное падение среднемесячной выручки пользователей тарифа `Smart`. Начиная с 5 месяца разрыв в месячной доходности начинает увеличиваться в пользу тарифа `Smart`, достигая своего максимума на конец 2018 года."
   ]
  },
  {
   "cell_type": "code",
   "execution_count": 39,
   "metadata": {},
   "outputs": [
    {
     "data": {
      "image/png": "[encoded data removed]",
      "text/plain": [
       "<Figure size 432x288 with 1 Axes>"
      ]
     },
     "metadata": {
      "needs_background": "light"
     },
     "output_type": "display_data"
    }
   ],
   "source": [
    "fig, ax = plt.subplots()\n",
    "cost_summary.xs('smart').plot(y='sum_cost', ax=ax, label='Тариф Smart')\n",
    "cost_summary.xs('ultra').plot(y='sum_cost', ax=ax, label='Тариф Ultra')\n",
    "plt.title('Средняя помесячная выручка со всех пользователей тарифа')\n",
    "plt.xlabel('Месяц')\n",
    "plt.ylabel('Выручка, руб.');"
   ]
  },
  {
   "cell_type": "markdown",
   "metadata": {},
   "source": [
    "### Вывод"
   ]
  },
  {
   "cell_type": "markdown",
   "metadata": {},
   "source": [
    "Пользователи тарифа `Ultra` используют больше интернета, отправляют больше сообщений и больше разговаривают в среднем. Распределения использования интернета и звонков похоже на нормальные, но распределение отправки сообщений выглядит как геометрическое. Видимо, люди предпочитают использовать мессенджеры, социальные сети и электронную почту вместо архаичных sms :)\n",
    "\n",
    "Пользователи тарифа `Smart` часто превышают норму использования интернета и платят дополнительно за 1 ГБ трафика. Напротив, владельца тарифа `Ultra` предпочитают оставаться в рамках того объем интернет-трафика, который обеспечивает их тариф.\n",
    "\n",
    "Во всех 3 параметрах наиболее разнобразными данными обладали пользователи тарифа `Ultra`. Их стандартное отклонение всегда значительно превышало стандартное отклонение пользователей тарифа `Smart`.\n",
    "\n",
    "Несмотря на то, что средний размер месячной выручки пользователя `Ultra` значительно больше в 2018 году, я обратил бы внимание на тренд роста пользователей, среднемесячной и месячной выручки тарифа `Smart`, который, на мой взгляд, является значительно более предпочтительным и обладает большим потенциалом роста. Ставку в будущей маркетинговой стратегии нужно делать на него."
   ]
  },
  {
   "cell_type": "markdown",
   "metadata": {},
   "source": [
    "<a id='hypothesis'></a>\n",
    "##  Проверка гипотез"
   ]
  },
  {
   "cell_type": "markdown",
   "metadata": {},
   "source": [
    "* средняя выручка пользователей тарифов «Ультра» и «Смарт» различается;\n",
    "* средняя выручка пользователей из Москвы отличается от выручки пользователей из других регионов;\n",
    "\n",
    "Для проверки гипотез будет использоваться метод `scipy.stats.ttest_ind()`, так как задача состоит в сравнении средних выборок двух генеральных совокупностей. Для проверки первой гипотезы параметр `equal_var`будет задан как `False`, потому что у нас есть все основания считать, что дисперсии двух выборок разные."
   ]
  },
  {
   "cell_type": "markdown",
   "metadata": {},
   "source": [
    "<a id='hypothesis_1'></a>\n",
    "### Гипотеза: средняя выручка пользователей тарифов «Ультра» и «Смарт» различается\n",
    "\n",
    "Составим гипотезу $H_0$: средняя выручка пользователей тарифов `Ultra` и `Smart` одинаковая.    \n",
    "Гипотеза $H_1$: средняя выручка пользователей тарифов `Ultra` и `Smart` различается.\n",
    "\n",
    "Уровень значимости положим равным 5%."
   ]
  },
  {
   "cell_type": "code",
   "execution_count": 42,
   "metadata": {},
   "outputs": [
    {
     "name": "stdout",
     "output_type": "stream",
     "text": [
      "p-значение: 2.2629771012058756e-58\n"
     ]
    }
   ],
   "source": [
    "results = st.ttest_ind(ss.loc['ultra', 'mean_cost'], ss.loc['smart', 'mean_cost'], equal_var=False)\n",
    "print('p-значение:', results.pvalue)"
   ]
  },
  {
   "cell_type": "markdown",
   "metadata": {},
   "source": [
    "P-значение оказалось совсем малым, что даёт основание отвергнуть гипотезу $H_0$ и принять гипотезу $H_1$.\n",
    "\n",
    "\n",
    "Для проверки этой гипотезы использовался датасет из средних выручек для каждого пользователя за весь его период пользования тарифом. Попробуем проверить эту же гипотезу, но возьмем в этот раз помесячные выручки каждого пользователя."
   ]
  },
  {
   "cell_type": "code",
   "execution_count": 43,
   "metadata": {},
   "outputs": [
    {
     "name": "stdout",
     "output_type": "stream",
     "text": [
      "p-значение: 3.241856051667731e-245\n"
     ]
    }
   ],
   "source": [
    "data1 = user_summary.query('tariff == \"smart\"')['cost']\n",
    "data2 = user_summary.query('tariff == \"ultra\"')['cost']\n",
    "results = st.ttest_ind(data1, data2, equal_var=False)\n",
    "print('p-значение:', results.pvalue)"
   ]
  },
  {
   "cell_type": "markdown",
   "metadata": {},
   "source": [
    "В этот раз p-значение оказалось еще меньше, что еще сильнее укрепит уверенность в том, что нулевую гипотезу можно отвергнуть.\n",
    "\n",
    "#### Вывод\n",
    "Средня выручка пользователей тарифов «Ультра» и «Смарт» вероятнее всего различается."
   ]
  },
  {
   "cell_type": "markdown",
   "metadata": {},
   "source": [
    "<a id='hypothesis_2'></a>\n",
    "### Гипотеза: средняя выручка пользователей из Москвы отличается от выручки пользователей из других регионов\n",
    "\n",
    "Составим гипотезу $H_0$: средняя выручка пользователей из Москвы равна средней выручке пользователей из других регионов.    \n",
    "Гипотеза $H_1$: средняя выручка пользователей из Москвы отличается от выручки пользователей из других регионов.\n",
    "\n",
    "Уровень значимости положим равным 5%."
   ]
  },
  {
   "cell_type": "code",
   "execution_count": 44,
   "metadata": {},
   "outputs": [],
   "source": [
    "ss['user_id'] = ss.index.get_level_values('user_id') \n",
    "ss['city'] = ss['user_id'].apply(lambda x: users[users['user_id'] == x]['city'].values[0])"
   ]
  },
  {
   "cell_type": "code",
   "execution_count": 45,
   "metadata": {},
   "outputs": [
    {
     "name": "stdout",
     "output_type": "stream",
     "text": [
      "p-значение: 0.3797910088568216\n"
     ]
    }
   ],
   "source": [
    "data1 = ss.query('city == \"Москва\"')['mean_cost']\n",
    "data2 = ss.query('city != \"Москва\"')['mean_cost']\n",
    "results = st.ttest_ind(data1, data2)\n",
    "print('p-значение:', results.pvalue)"
   ]
  },
  {
   "cell_type": "markdown",
   "metadata": {},
   "source": [
    "P-значение равно 37.6% и это значит, что с уровнем значимости в 5% мы не можем отвергнуть нулевую гипотезу. Аналогично с предыдущей гипотезой, эту тоже стоит проверить на двух других датасетах: помесячные расходы пользователей."
   ]
  },
  {
   "cell_type": "code",
   "execution_count": 46,
   "metadata": {},
   "outputs": [],
   "source": [
    "user_summary['user_id'] = user_internet_per_month.index.get_level_values('user_id') \n",
    "user_summary['city'] = user_summary['user_id'].apply(lambda x: users[users['user_id'] == x]['city'].values[0])"
   ]
  },
  {
   "cell_type": "code",
   "execution_count": 47,
   "metadata": {},
   "outputs": [
    {
     "name": "stdout",
     "output_type": "stream",
     "text": [
      "p-значение: 0.509732497839103\n"
     ]
    }
   ],
   "source": [
    "data1 = user_summary.query('city == \"Москва\"')['cost']\n",
    "data2 = user_summary.query('city != \"Москва\"')['cost']\n",
    "results = st.ttest_ind(data1, data2)\n",
    "print('p-значение:', results.pvalue)"
   ]
  },
  {
   "cell_type": "markdown",
   "metadata": {},
   "source": [
    "В этот раз p-значение выросло с использованием другого датасета и достигло 46%. Мы не можем отвергнуть нулевую гипотезу.\n",
    "\n",
    "#### Вывод\n",
    "Мы не можем с уверенность говорить о том, что средняя выручка в двух регионах значимо отличается. "
   ]
  },
  {
   "cell_type": "markdown",
   "metadata": {},
   "source": [
    "<a id='summary'></a>\n",
    "## Общий вывод:"
   ]
  },
  {
   "cell_type": "markdown",
   "metadata": {},
   "source": [
    "Удалось выяснить, что пользователи тарифа `Ultra` используют больше интернет трафика, минут разговоров и сообщений. При этом, они, как правило, остаются в рамках своего тарифа и очень редко трятят деньги на дополнительные услуги.\n",
    "\n",
    "Пользователи тарифа `Smart`, несмотря на то, что меньше разговаривают, отправляют сообщений и пользуются интернетом, часто выходят за пределы тарифа и покупают дополнительный интернет-трафик.\n",
    "\n",
    "Удалось выяснить, что с большой вероятностью выручка пользователей двух тарифов значимо различается. Также, не удалось установить, что средняя выручка пользователей Москвы и регионов значимо отличается. \n",
    "\n",
    "Принимая во внимание все факторы и обнаруженнные тренды, в будущих маркетинговых компаниях упор нужно сделать на тариф `Smart`."
   ]
  }
 ],
 "metadata": {
  "kernelspec": {
   "display_name": "Python 3",
   "language": "python",
   "name": "python3"
  },
  "language_info": {
   "codemirror_mode": {
    "name": "ipython",
    "version": 3
   },
   "file_extension": ".py",
   "mimetype": "text/x-python",
   "name": "python",
   "nbconvert_exporter": "python",
   "pygments_lexer": "ipython3",
   "version": "3.8.3"
  },
  "toc": {
   "base_numbering": 1,
   "nav_menu": {},
   "number_sections": true,
   "sideBar": true,
   "skip_h1_title": true,
   "title_cell": "Содержание",
   "title_sidebar": "Содержание",
   "toc_cell": true,
   "toc_position": {},
   "toc_section_display": true,
   "toc_window_display": true
  }
 },
 "nbformat": 4,
 "nbformat_minor": 4
}
