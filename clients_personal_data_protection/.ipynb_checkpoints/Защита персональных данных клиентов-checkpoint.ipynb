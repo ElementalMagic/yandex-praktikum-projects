{
 "cells": [
  {
   "cell_type": "markdown",
   "metadata": {},
   "source": [
    "# Защита персональных данных клиентов"
   ]
  },
  {
   "cell_type": "markdown",
   "metadata": {
    "toc": true
   },
   "source": [
    "<h1>Содержание<span class=\"tocSkip\"></span></h1>\n",
    "<div class=\"toc\"><ul class=\"toc-item\"><li><span><a href=\"#Загрузка-данных\" data-toc-modified-id=\"Загрузка-данных-1\"><span class=\"toc-item-num\">1&nbsp;&nbsp;</span>Загрузка данных</a></span></li><li><span><a href=\"#Умножение-матриц\" data-toc-modified-id=\"Умножение-матриц-2\"><span class=\"toc-item-num\">2&nbsp;&nbsp;</span>Умножение матриц</a></span></li><li><span><a href=\"#Алгоритм-преобразования\" data-toc-modified-id=\"Алгоритм-преобразования-3\"><span class=\"toc-item-num\">3&nbsp;&nbsp;</span>Алгоритм преобразования</a></span></li><li><span><a href=\"#Проверка-алгоритма\" data-toc-modified-id=\"Проверка-алгоритма-4\"><span class=\"toc-item-num\">4&nbsp;&nbsp;</span>Проверка алгоритма</a></span></li></ul></div>"
   ]
  },
  {
   "cell_type": "markdown",
   "metadata": {},
   "source": [
    "Методом преобразования данных защитить личную информацию клиентов страховой компании. "
   ]
  },
  {
   "cell_type": "markdown",
   "metadata": {},
   "source": [
    "## Загрузка данных"
   ]
  },
  {
   "cell_type": "code",
   "execution_count": 1,
   "metadata": {},
   "outputs": [],
   "source": [
    "import numpy as np\n",
    "import pandas as pd\n",
    "from sklearn.linear_model import LinearRegression\n",
    "from sklearn.model_selection import train_test_split\n",
    "from sklearn.metrics import r2_score"
   ]
  },
  {
   "cell_type": "code",
   "execution_count": 2,
   "metadata": {},
   "outputs": [
    {
     "data": {
      "text/html": [
       "<div>\n",
       "<style scoped>\n",
       "    .dataframe tbody tr th:only-of-type {\n",
       "        vertical-align: middle;\n",
       "    }\n",
       "\n",
       "    .dataframe tbody tr th {\n",
       "        vertical-align: top;\n",
       "    }\n",
       "\n",
       "    .dataframe thead th {\n",
       "        text-align: right;\n",
       "    }\n",
       "</style>\n",
       "<table border=\"1\" class=\"dataframe\">\n",
       "  <thead>\n",
       "    <tr style=\"text-align: right;\">\n",
       "      <th></th>\n",
       "      <th>sex</th>\n",
       "      <th>age</th>\n",
       "      <th>salary</th>\n",
       "      <th>family</th>\n",
       "      <th>payments</th>\n",
       "    </tr>\n",
       "  </thead>\n",
       "  <tbody>\n",
       "    <tr>\n",
       "      <td>0</td>\n",
       "      <td>1</td>\n",
       "      <td>41.0</td>\n",
       "      <td>49600.0</td>\n",
       "      <td>1</td>\n",
       "      <td>0</td>\n",
       "    </tr>\n",
       "    <tr>\n",
       "      <td>1</td>\n",
       "      <td>0</td>\n",
       "      <td>46.0</td>\n",
       "      <td>38000.0</td>\n",
       "      <td>1</td>\n",
       "      <td>1</td>\n",
       "    </tr>\n",
       "    <tr>\n",
       "      <td>2</td>\n",
       "      <td>0</td>\n",
       "      <td>29.0</td>\n",
       "      <td>21000.0</td>\n",
       "      <td>0</td>\n",
       "      <td>0</td>\n",
       "    </tr>\n",
       "    <tr>\n",
       "      <td>3</td>\n",
       "      <td>0</td>\n",
       "      <td>21.0</td>\n",
       "      <td>41700.0</td>\n",
       "      <td>2</td>\n",
       "      <td>0</td>\n",
       "    </tr>\n",
       "    <tr>\n",
       "      <td>4</td>\n",
       "      <td>1</td>\n",
       "      <td>28.0</td>\n",
       "      <td>26100.0</td>\n",
       "      <td>0</td>\n",
       "      <td>0</td>\n",
       "    </tr>\n",
       "  </tbody>\n",
       "</table>\n",
       "</div>"
      ],
      "text/plain": [
       "   sex   age   salary  family  payments\n",
       "0    1  41.0  49600.0       1         0\n",
       "1    0  46.0  38000.0       1         1\n",
       "2    0  29.0  21000.0       0         0\n",
       "3    0  21.0  41700.0       2         0\n",
       "4    1  28.0  26100.0       0         0"
      ]
     },
     "execution_count": 2,
     "metadata": {},
     "output_type": "execute_result"
    }
   ],
   "source": [
    "df = pd.read_csv('/datasets/insurance.csv')\n",
    "df.columns = ['sex', 'age','salary', 'family', 'payments']\n",
    "df.head()"
   ]
  },
  {
   "cell_type": "code",
   "execution_count": 3,
   "metadata": {
    "scrolled": false
   },
   "outputs": [
    {
     "data": {
      "text/html": [
       "<div>\n",
       "<style scoped>\n",
       "    .dataframe tbody tr th:only-of-type {\n",
       "        vertical-align: middle;\n",
       "    }\n",
       "\n",
       "    .dataframe tbody tr th {\n",
       "        vertical-align: top;\n",
       "    }\n",
       "\n",
       "    .dataframe thead th {\n",
       "        text-align: right;\n",
       "    }\n",
       "</style>\n",
       "<table border=\"1\" class=\"dataframe\">\n",
       "  <thead>\n",
       "    <tr style=\"text-align: right;\">\n",
       "      <th></th>\n",
       "      <th>sex</th>\n",
       "      <th>age</th>\n",
       "      <th>salary</th>\n",
       "      <th>family</th>\n",
       "      <th>payments</th>\n",
       "    </tr>\n",
       "  </thead>\n",
       "  <tbody>\n",
       "    <tr>\n",
       "      <td>count</td>\n",
       "      <td>5000.000000</td>\n",
       "      <td>5000.000000</td>\n",
       "      <td>5000.000000</td>\n",
       "      <td>5000.000000</td>\n",
       "      <td>5000.000000</td>\n",
       "    </tr>\n",
       "    <tr>\n",
       "      <td>mean</td>\n",
       "      <td>0.499000</td>\n",
       "      <td>30.952800</td>\n",
       "      <td>39916.360000</td>\n",
       "      <td>1.194200</td>\n",
       "      <td>0.148000</td>\n",
       "    </tr>\n",
       "    <tr>\n",
       "      <td>std</td>\n",
       "      <td>0.500049</td>\n",
       "      <td>8.440807</td>\n",
       "      <td>9900.083569</td>\n",
       "      <td>1.091387</td>\n",
       "      <td>0.463183</td>\n",
       "    </tr>\n",
       "    <tr>\n",
       "      <td>min</td>\n",
       "      <td>0.000000</td>\n",
       "      <td>18.000000</td>\n",
       "      <td>5300.000000</td>\n",
       "      <td>0.000000</td>\n",
       "      <td>0.000000</td>\n",
       "    </tr>\n",
       "    <tr>\n",
       "      <td>25%</td>\n",
       "      <td>0.000000</td>\n",
       "      <td>24.000000</td>\n",
       "      <td>33300.000000</td>\n",
       "      <td>0.000000</td>\n",
       "      <td>0.000000</td>\n",
       "    </tr>\n",
       "    <tr>\n",
       "      <td>50%</td>\n",
       "      <td>0.000000</td>\n",
       "      <td>30.000000</td>\n",
       "      <td>40200.000000</td>\n",
       "      <td>1.000000</td>\n",
       "      <td>0.000000</td>\n",
       "    </tr>\n",
       "    <tr>\n",
       "      <td>75%</td>\n",
       "      <td>1.000000</td>\n",
       "      <td>37.000000</td>\n",
       "      <td>46600.000000</td>\n",
       "      <td>2.000000</td>\n",
       "      <td>0.000000</td>\n",
       "    </tr>\n",
       "    <tr>\n",
       "      <td>max</td>\n",
       "      <td>1.000000</td>\n",
       "      <td>65.000000</td>\n",
       "      <td>79000.000000</td>\n",
       "      <td>6.000000</td>\n",
       "      <td>5.000000</td>\n",
       "    </tr>\n",
       "  </tbody>\n",
       "</table>\n",
       "</div>"
      ],
      "text/plain": [
       "               sex          age        salary       family     payments\n",
       "count  5000.000000  5000.000000   5000.000000  5000.000000  5000.000000\n",
       "mean      0.499000    30.952800  39916.360000     1.194200     0.148000\n",
       "std       0.500049     8.440807   9900.083569     1.091387     0.463183\n",
       "min       0.000000    18.000000   5300.000000     0.000000     0.000000\n",
       "25%       0.000000    24.000000  33300.000000     0.000000     0.000000\n",
       "50%       0.000000    30.000000  40200.000000     1.000000     0.000000\n",
       "75%       1.000000    37.000000  46600.000000     2.000000     0.000000\n",
       "max       1.000000    65.000000  79000.000000     6.000000     5.000000"
      ]
     },
     "execution_count": 3,
     "metadata": {},
     "output_type": "execute_result"
    }
   ],
   "source": [
    "df.describe()"
   ]
  },
  {
   "cell_type": "markdown",
   "metadata": {},
   "source": [
    "Пропусокв и ошибок в данных нет."
   ]
  },
  {
   "cell_type": "markdown",
   "metadata": {},
   "source": [
    "## Умножение матриц"
   ]
  },
  {
   "cell_type": "markdown",
   "metadata": {},
   "source": [
    "Обозначения:\n",
    "\n",
    "- $X$ — матрица признаков (нулевой столбец состоит из единиц)\n",
    "\n",
    "- $y$ — вектор целевого признака\n",
    "\n",
    "- $P$ — матрица, на которую умножаются признаки\n",
    "\n",
    "- $w$ — вектор весов линейной регрессии (нулевой элемент равен сдвигу)"
   ]
  },
  {
   "cell_type": "markdown",
   "metadata": {},
   "source": [
    "Предсказания:\n",
    "\n",
    "$$\n",
    "a = Xw\n",
    "$$\n",
    "\n",
    "Задача обучения:\n",
    "\n",
    "$$\n",
    "w = \\arg\\min_w MSE(Xw, y)\n",
    "$$\n",
    "\n",
    "Формула обучения:\n",
    "\n",
    "$$\n",
    "w = (X^T X)^{-1} X^T y\n",
    "$$"
   ]
  },
  {
   "cell_type": "markdown",
   "metadata": {},
   "source": [
    "**Ответ:** При умножении матрицы признаков на какую-либо другую обратимую матрицу, предсказания остаются постоянными и качество линейной регрессии не меняется.\n",
    "\n",
    "**Обоснование:** \n",
    "Перепишем формулу обучения, учитывая умножение матрицы признаков $X$ на обратимую матрицу $B$:   \n",
    "\n",
    "$$\n",
    "w^* = ((XB)^TXB)^{-1}(XB)^Ty\n",
    "$$\n",
    "\n",
    "Задача обучения:\n",
    "\n",
    "\n",
    "$$\n",
    "w^* = \\arg\\min_{w^*} MSE(Xw^*, y)\n",
    "$$\n",
    "\n",
    "Докажем, что\n",
    "\n",
    "$$ \n",
    "X(X^T X)^{-1} X^T = XB((XB)^TXB)^{-1}(XB)^T\n",
    "$$ \n",
    "\n",
    "Доказательство:\n",
    "\n",
    "$$\n",
    "XB((XB)^T XB)^{-1} (XB)^T = XB(B^T X^T XB)^{-1}B^T X^T = XB B^{-1} (X^T X)^{-1} (B^T)^{-1} B^T X^T = XE (X^T X)^{-1} E X^T = X (X^T X)^{-1} X^T\n",
    "$$\n",
    "ч.т.д.\n",
    "\n",
    "Из этого следует, что\n",
    "\n",
    "$$ \n",
    "Xw = Xw^*\n",
    "$$\n"
   ]
  },
  {
   "cell_type": "markdown",
   "metadata": {},
   "source": [
    "Проверка (учитывается погрешность вычислений $10^{-10}$)"
   ]
  },
  {
   "cell_type": "code",
   "execution_count": 4,
   "metadata": {},
   "outputs": [],
   "source": [
    "def check_invertable(matrices):\n",
    "    for matrix in matrices:\n",
    "        try:\n",
    "            np.linalg.inv(matrix)\n",
    "        except:\n",
    "            return False\n",
    "    return True"
   ]
  },
  {
   "cell_type": "code",
   "execution_count": 5,
   "metadata": {},
   "outputs": [],
   "source": [
    "while True:\n",
    "    m = 5000\n",
    "    n = 4\n",
    "    a = np.random.randint(1, 10, size=(m, n))\n",
    "    b = np.random.randint(1, 10, size=(n, n))\n",
    "    c = np.random.randint(1, 10, size=(m, 1))\n",
    "    if check_invertable([b]):\n",
    "        break"
   ]
  },
  {
   "cell_type": "code",
   "execution_count": 6,
   "metadata": {},
   "outputs": [
    {
     "name": "stdout",
     "output_type": "stream",
     "text": [
      "Значения равны\n"
     ]
    }
   ],
   "source": [
    "new_w = (a @ b) @ (np.linalg.inv(b.T @ a.T @ a @ b) @ (b.T @ a.T)) @ c\n",
    "old_w = a @ np.linalg.inv(a.T @ a) @ (a).T @ c\n",
    "\n",
    "new_w = new_w.reshape((m))\n",
    "old_w = old_w.reshape((m))\n",
    "\n",
    "threshold = 1e-10\n",
    "for i in range(m):\n",
    "    if (abs(new_w[i] - old_w[i]) > threshold):\n",
    "        print('Значения значительно различаются')\n",
    "        break\n",
    "print('Значения равны')"
   ]
  },
  {
   "cell_type": "markdown",
   "metadata": {},
   "source": [
    "## Алгоритм преобразования"
   ]
  },
  {
   "cell_type": "markdown",
   "metadata": {},
   "source": [
    "**Алгоритм**\n",
    "\n",
    "Можно умножить матрицу признаков на подходящую по размеру обратимую матрицу.\n",
    "Эту матрицу нужно запомнить и при поступлении новых данных их вначале необходимо умножить на эту матрицу и уже затем предсказывать что-то. Аналогично тому, что делает объекта класса StandardScaller. Тоже преобразования, только без цели нормализации.\n",
    "Восстановить данные можно умножив признаки на обратную матрицу."
   ]
  },
  {
   "cell_type": "markdown",
   "metadata": {},
   "source": [
    "## Проверка алгоритма"
   ]
  },
  {
   "cell_type": "code",
   "execution_count": 7,
   "metadata": {},
   "outputs": [],
   "source": [
    "def combine_two_lists(a, b):\n",
    "    a = np.array(a)\n",
    "    b = np.array(b)\n",
    "    return np.append(np.reshape(a, (len(a), 1)),\n",
    "                     np.reshape(b, (len(b), 1)),\n",
    "                     axis=1)"
   ]
  },
  {
   "cell_type": "code",
   "execution_count": 8,
   "metadata": {},
   "outputs": [],
   "source": [
    "def experiments_history():\n",
    "    results = []\n",
    "    notes = []\n",
    "\n",
    "    def test_model(features, target, note=''):\n",
    "        features_train, features_test, target_train, target_test = train_test_split(\n",
    "            features, target, test_size=0.25, random_state=12345)\n",
    "\n",
    "        model = LinearRegression()\n",
    "        model.fit(features_train, target_train)\n",
    "        predictions = model.predict(features_test)\n",
    "        r2s = r2_score(target_test, predictions)\n",
    "        results.append(r2s)\n",
    "        notes.append(note)\n",
    "        print(f'Experiment #{len(results)}')\n",
    "        print(f'r2_score: {r2s : .4f}')\n",
    "        if (len(results) > 1):\n",
    "            print(f'Deviation from initial: {(r2s - results[0]) : .4f}')\n",
    "        combined = combine_two_lists(results, notes)\n",
    "        return combined\n",
    "\n",
    "    return test_model"
   ]
  },
  {
   "cell_type": "code",
   "execution_count": 9,
   "metadata": {},
   "outputs": [],
   "source": [
    "def modify(df, shape=(4, 4), transform=True):\n",
    "    assert shape[0] == 4, 'Rows in shape must be equal to 4'\n",
    "\n",
    "    features = df.drop(['payments'], axis=1).values\n",
    "    target = df['payments'].values\n",
    "\n",
    "    if (transform):\n",
    "        while True:\n",
    "            trans_matrix = np.random.randint(0, 10, size=shape)\n",
    "            \n",
    "            \"\"\"Из-за того, что в экспериментах используются не только квадратные матрицы,\n",
    "            нужно обработать данный случай отдельно, так как неквадратная матрица всегда будет необратимой\n",
    "            и цикл зависнет\"\"\"\n",
    "            \n",
    "            if(check_invertable([trans_matrix]) or shape[0] != shape[1]):\n",
    "                break\n",
    "                \n",
    "        features = features @ trans_matrix\n",
    "        return features, target, trans_matrix\n",
    "\n",
    "    return features, target"
   ]
  },
  {
   "cell_type": "code",
   "execution_count": 10,
   "metadata": {
    "scrolled": false
   },
   "outputs": [
    {
     "name": "stdout",
     "output_type": "stream",
     "text": [
      "Experiment #1\n",
      "r2_score:  0.4352\n",
      "No changes\n",
      "\n",
      "\n",
      "Experiment #2\n",
      "r2_score: -0.0001\n",
      "Deviation from initial: -0.4353\n",
      "Matmul on matrix:\n",
      "[[0]\n",
      " [1]\n",
      " [7]\n",
      " [8]]\n",
      "\n",
      "\n",
      "Experiment #3\n",
      "r2_score:  0.4186\n",
      "Deviation from initial: -0.0166\n",
      "Matmul on matrix:\n",
      "[[0 1]\n",
      " [7 5]\n",
      " [0 7]\n",
      " [8 8]]\n",
      "\n",
      "\n",
      "Experiment #4\n",
      "r2_score:  0.4363\n",
      "Deviation from initial:  0.0011\n",
      "Matmul on matrix:\n",
      "[[3 0 1]\n",
      " [4 9 7]\n",
      " [0 2 4]\n",
      " [4 0 8]]\n",
      "\n",
      "\n",
      "Experiment #5\n",
      "r2_score:  0.4352\n",
      "Deviation from initial:  0.0000\n",
      "Matmul on matrix:\n",
      "[[7 0 0 0]\n",
      " [9 9 3 0]\n",
      " [3 5 8 3]\n",
      " [4 1 8 2]]\n",
      "\n",
      "\n"
     ]
    }
   ],
   "source": [
    "linreg = experiments_history()\n",
    "linreg(*modify(df, transform=False), note='No changes')\n",
    "print('No changes\\n\\n')\n",
    "for _ in range(0, 4):\n",
    "    features, target, matrix = modify(df, shape=(4, _ + 1))\n",
    "    note = f'Matmul on matrix:\\n{matrix}'\n",
    "    res = linreg(features, target, note=note)\n",
    "    print(note + '\\n\\n')"
   ]
  },
  {
   "cell_type": "markdown",
   "metadata": {},
   "source": [
    "Как видно из экспериментов, при умножении матрицы признаков на обратимую квадратную матрицу:\n",
    "* Метрика $R^2$ не меняется;\n",
    "* Благодаря обратимости у нас остается возможность восстановить данные."
   ]
  }
 ],
 "metadata": {
  "kernelspec": {
   "display_name": "Python 3",
   "language": "python",
   "name": "python3"
  },
  "language_info": {
   "codemirror_mode": {
    "name": "ipython",
    "version": 3
   },
   "file_extension": ".py",
   "mimetype": "text/x-python",
   "name": "python",
   "nbconvert_exporter": "python",
   "pygments_lexer": "ipython3",
   "version": "3.8.3"
  },
  "toc": {
   "base_numbering": 1,
   "nav_menu": {},
   "number_sections": true,
   "sideBar": true,
   "skip_h1_title": true,
   "title_cell": "Содержание",
   "title_sidebar": "Содержание",
   "toc_cell": true,
   "toc_position": {},
   "toc_section_display": true,
   "toc_window_display": false
  }
 },
 "nbformat": 4,
 "nbformat_minor": 4
}
