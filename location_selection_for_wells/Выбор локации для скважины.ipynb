{
 "cells": [
  {
   "cell_type": "markdown",
   "metadata": {},
   "source": [
    "# Выбор локации для скважины"
   ]
  },
  {
   "cell_type": "markdown",
   "metadata": {
    "toc": true
   },
   "source": [
    "<h1>Содержание<span class=\"tocSkip\"></span></h1>\n",
    "<div class=\"toc\"><ul class=\"toc-item\"><li><span><a href=\"#Описание-проекта\" data-toc-modified-id=\"Описание-проекта-1\"><span class=\"toc-item-num\">1&nbsp;&nbsp;</span>Описание проекта</a></span><ul class=\"toc-item\"><li><span><a href=\"#Описание-данных\" data-toc-modified-id=\"Описание-данных-1.1\"><span class=\"toc-item-num\">1.1&nbsp;&nbsp;</span>Описание данных</a></span></li><li><span><a href=\"#Условие-задачи\" data-toc-modified-id=\"Условие-задачи-1.2\"><span class=\"toc-item-num\">1.2&nbsp;&nbsp;</span>Условие задачи</a></span></li></ul></li><li><span><a href=\"#Предобработка-данных\" data-toc-modified-id=\"Предобработка-данных-2\"><span class=\"toc-item-num\">2&nbsp;&nbsp;</span>Предобработка данных</a></span><ul class=\"toc-item\"><li><span><a href=\"#Вывод\" data-toc-modified-id=\"Вывод-2.1\"><span class=\"toc-item-num\">2.1&nbsp;&nbsp;</span>Вывод</a></span></li></ul></li><li><span><a href=\"#Обучение-и-проверка-модели-для-каждого-региона:\" data-toc-modified-id=\"Обучение-и-проверка-модели-для-каждого-региона:-3\"><span class=\"toc-item-num\">3&nbsp;&nbsp;</span>Обучение и проверка модели для каждого региона:</a></span><ul class=\"toc-item\"><li><span><a href=\"#Вывод\" data-toc-modified-id=\"Вывод-3.1\"><span class=\"toc-item-num\">3.1&nbsp;&nbsp;</span>Вывод</a></span></li></ul></li><li><span><a href=\"#Подготовка-к-расчету-прибыли\" data-toc-modified-id=\"Подготовка-к-расчету-прибыли-4\"><span class=\"toc-item-num\">4&nbsp;&nbsp;</span>Подготовка к расчету прибыли</a></span><ul class=\"toc-item\"><li><span><a href=\"#Вывод\" data-toc-modified-id=\"Вывод-4.1\"><span class=\"toc-item-num\">4.1&nbsp;&nbsp;</span>Вывод</a></span></li></ul></li><li><span><a href=\"#Функцию-для-расчёта-прибыли-по-выбранным-скважинам-и-предсказаниям-модели:\" data-toc-modified-id=\"Функцию-для-расчёта-прибыли-по-выбранным-скважинам-и-предсказаниям-модели:-5\"><span class=\"toc-item-num\">5&nbsp;&nbsp;</span>Функцию для расчёта прибыли по выбранным скважинам и предсказаниям модели:</a></span><ul class=\"toc-item\"><li><span><a href=\"#Вывод\" data-toc-modified-id=\"Вывод-5.1\"><span class=\"toc-item-num\">5.1&nbsp;&nbsp;</span>Вывод</a></span></li></ul></li></ul></div>"
   ]
  },
  {
   "cell_type": "markdown",
   "metadata": {},
   "source": [
    "## Описание проекта"
   ]
  },
  {
   "cell_type": "markdown",
   "metadata": {},
   "source": [
    "Предоставлены пробы нефти в трёх регионах. Характеристики для каждой скважины в регионе уже известны. Необходимо построить модель для определения региона, где добыча принесёт наибольшую прибыль."
   ]
  },
  {
   "cell_type": "markdown",
   "metadata": {},
   "source": [
    "### Описание данных"
   ]
  },
  {
   "cell_type": "markdown",
   "metadata": {},
   "source": [
    "* id — уникальный идентификатор скважины;\n",
    "* f0, f1, f2 — три признака точек (неважно, что они означают, но сами признаки значимы);\n",
    "* product — объём запасов в скважине (тыс. баррелей)"
   ]
  },
  {
   "cell_type": "markdown",
   "metadata": {},
   "source": [
    "### Условие задачи"
   ]
  },
  {
   "cell_type": "markdown",
   "metadata": {},
   "source": [
    "* Для обучения модели подходит только линейная регрессия (остальные — недостаточно предсказуемые).\n",
    "* При разведке региона исследуют 500 точек, из которых с помощью машинного обучения выбирают 200 лучших для разработки.\n",
    "* Бюджет на разработку скважин в регионе — 10 млрд рублей.\n",
    "* При нынешних ценах один баррель сырья приносит 450 рублей дохода. Доход с каждой единицы продукта составляет 450 тыс. рублей, поскольку объём указан в тысячах баррелей.\n",
    "* После оценки рисков нужно оставить лишь те регионы, в которых вероятность убытков меньше 2.5%. Среди них выбирают регион с наибольшей средней прибылью."
   ]
  },
  {
   "cell_type": "markdown",
   "metadata": {},
   "source": [
    "##  Предобработка данных"
   ]
  },
  {
   "cell_type": "code",
   "execution_count": 1,
   "metadata": {},
   "outputs": [
    {
     "data": {
      "text/plain": [
       "'en_US.UTF-8'"
      ]
     },
     "execution_count": 1,
     "metadata": {},
     "output_type": "execute_result"
    }
   ],
   "source": [
    "import pandas as pd\n",
    "import numpy as np\n",
    "import math\n",
    "import matplotlib.pyplot as plt\n",
    "from sklearn.model_selection import train_test_split\n",
    "from sklearn.linear_model import LinearRegression\n",
    "from sklearn.preprocessing import StandardScaler\n",
    "from sklearn.metrics import mean_squared_error\n",
    "import locale\n",
    "locale.setlocale(locale.LC_ALL, '')"
   ]
  },
  {
   "cell_type": "code",
   "execution_count": 2,
   "metadata": {},
   "outputs": [],
   "source": [
    "data_1 = pd.read_csv('geo_data_0.csv')\n",
    "data_2 = pd.read_csv('geo_data_1.csv')\n",
    "data_3 = pd.read_csv('geo_data_2.csv')"
   ]
  },
  {
   "cell_type": "markdown",
   "metadata": {},
   "source": [
    "Удалим дубликаты записей с одинаковыми `id` и выведем общую информацию."
   ]
  },
  {
   "cell_type": "code",
   "execution_count": 3,
   "metadata": {},
   "outputs": [
    {
     "data": {
      "text/html": [
       "<div>\n",
       "<style scoped>\n",
       "    .dataframe tbody tr th:only-of-type {\n",
       "        vertical-align: middle;\n",
       "    }\n",
       "\n",
       "    .dataframe tbody tr th {\n",
       "        vertical-align: top;\n",
       "    }\n",
       "\n",
       "    .dataframe thead th {\n",
       "        text-align: right;\n",
       "    }\n",
       "</style>\n",
       "<table border=\"1\" class=\"dataframe\">\n",
       "  <thead>\n",
       "    <tr style=\"text-align: right;\">\n",
       "      <th></th>\n",
       "      <th>f0</th>\n",
       "      <th>f1</th>\n",
       "      <th>f2</th>\n",
       "      <th>product</th>\n",
       "    </tr>\n",
       "  </thead>\n",
       "  <tbody>\n",
       "    <tr>\n",
       "      <td>count</td>\n",
       "      <td>99990.000000</td>\n",
       "      <td>99990.000000</td>\n",
       "      <td>99990.000000</td>\n",
       "      <td>99990.000000</td>\n",
       "    </tr>\n",
       "    <tr>\n",
       "      <td>mean</td>\n",
       "      <td>0.500454</td>\n",
       "      <td>0.250141</td>\n",
       "      <td>2.502629</td>\n",
       "      <td>92.499684</td>\n",
       "    </tr>\n",
       "    <tr>\n",
       "      <td>std</td>\n",
       "      <td>0.871844</td>\n",
       "      <td>0.504430</td>\n",
       "      <td>3.248149</td>\n",
       "      <td>44.288304</td>\n",
       "    </tr>\n",
       "    <tr>\n",
       "      <td>min</td>\n",
       "      <td>-1.408605</td>\n",
       "      <td>-0.848218</td>\n",
       "      <td>-12.088328</td>\n",
       "      <td>0.000000</td>\n",
       "    </tr>\n",
       "    <tr>\n",
       "      <td>25%</td>\n",
       "      <td>-0.072572</td>\n",
       "      <td>-0.200877</td>\n",
       "      <td>0.287784</td>\n",
       "      <td>56.497069</td>\n",
       "    </tr>\n",
       "    <tr>\n",
       "      <td>50%</td>\n",
       "      <td>0.502405</td>\n",
       "      <td>0.250252</td>\n",
       "      <td>2.515969</td>\n",
       "      <td>91.847928</td>\n",
       "    </tr>\n",
       "    <tr>\n",
       "      <td>75%</td>\n",
       "      <td>1.073626</td>\n",
       "      <td>0.700640</td>\n",
       "      <td>4.715035</td>\n",
       "      <td>128.563699</td>\n",
       "    </tr>\n",
       "    <tr>\n",
       "      <td>max</td>\n",
       "      <td>2.362331</td>\n",
       "      <td>1.343769</td>\n",
       "      <td>16.003790</td>\n",
       "      <td>185.364347</td>\n",
       "    </tr>\n",
       "  </tbody>\n",
       "</table>\n",
       "</div>"
      ],
      "text/plain": [
       "                 f0            f1            f2       product\n",
       "count  99990.000000  99990.000000  99990.000000  99990.000000\n",
       "mean       0.500454      0.250141      2.502629     92.499684\n",
       "std        0.871844      0.504430      3.248149     44.288304\n",
       "min       -1.408605     -0.848218    -12.088328      0.000000\n",
       "25%       -0.072572     -0.200877      0.287784     56.497069\n",
       "50%        0.502405      0.250252      2.515969     91.847928\n",
       "75%        1.073626      0.700640      4.715035    128.563699\n",
       "max        2.362331      1.343769     16.003790    185.364347"
      ]
     },
     "metadata": {},
     "output_type": "display_data"
    },
    {
     "name": "stdout",
     "output_type": "stream",
     "text": [
      "<class 'pandas.core.frame.DataFrame'>\n",
      "Int64Index: 99990 entries, 0 to 99999\n",
      "Data columns (total 5 columns):\n",
      "id         99990 non-null object\n",
      "f0         99990 non-null float64\n",
      "f1         99990 non-null float64\n",
      "f2         99990 non-null float64\n",
      "product    99990 non-null float64\n",
      "dtypes: float64(4), object(1)\n",
      "memory usage: 4.6+ MB\n"
     ]
    },
    {
     "data": {
      "text/plain": [
       "None"
      ]
     },
     "metadata": {},
     "output_type": "display_data"
    },
    {
     "data": {
      "text/html": [
       "<div>\n",
       "<style scoped>\n",
       "    .dataframe tbody tr th:only-of-type {\n",
       "        vertical-align: middle;\n",
       "    }\n",
       "\n",
       "    .dataframe tbody tr th {\n",
       "        vertical-align: top;\n",
       "    }\n",
       "\n",
       "    .dataframe thead th {\n",
       "        text-align: right;\n",
       "    }\n",
       "</style>\n",
       "<table border=\"1\" class=\"dataframe\">\n",
       "  <thead>\n",
       "    <tr style=\"text-align: right;\">\n",
       "      <th></th>\n",
       "      <th>f0</th>\n",
       "      <th>f1</th>\n",
       "      <th>f2</th>\n",
       "      <th>product</th>\n",
       "    </tr>\n",
       "  </thead>\n",
       "  <tbody>\n",
       "    <tr>\n",
       "      <td>count</td>\n",
       "      <td>99996.000000</td>\n",
       "      <td>99996.000000</td>\n",
       "      <td>99996.000000</td>\n",
       "      <td>99996.000000</td>\n",
       "    </tr>\n",
       "    <tr>\n",
       "      <td>mean</td>\n",
       "      <td>1.141209</td>\n",
       "      <td>-4.796608</td>\n",
       "      <td>2.494501</td>\n",
       "      <td>68.823916</td>\n",
       "    </tr>\n",
       "    <tr>\n",
       "      <td>std</td>\n",
       "      <td>8.965815</td>\n",
       "      <td>5.119906</td>\n",
       "      <td>1.703579</td>\n",
       "      <td>45.944663</td>\n",
       "    </tr>\n",
       "    <tr>\n",
       "      <td>min</td>\n",
       "      <td>-31.609576</td>\n",
       "      <td>-26.358598</td>\n",
       "      <td>-0.018144</td>\n",
       "      <td>0.000000</td>\n",
       "    </tr>\n",
       "    <tr>\n",
       "      <td>25%</td>\n",
       "      <td>-6.298551</td>\n",
       "      <td>-8.267985</td>\n",
       "      <td>1.000021</td>\n",
       "      <td>26.953261</td>\n",
       "    </tr>\n",
       "    <tr>\n",
       "      <td>50%</td>\n",
       "      <td>1.153055</td>\n",
       "      <td>-4.813172</td>\n",
       "      <td>2.011475</td>\n",
       "      <td>57.085625</td>\n",
       "    </tr>\n",
       "    <tr>\n",
       "      <td>75%</td>\n",
       "      <td>8.620964</td>\n",
       "      <td>-1.332816</td>\n",
       "      <td>3.999904</td>\n",
       "      <td>107.813044</td>\n",
       "    </tr>\n",
       "    <tr>\n",
       "      <td>max</td>\n",
       "      <td>29.421755</td>\n",
       "      <td>18.734063</td>\n",
       "      <td>5.019721</td>\n",
       "      <td>137.945408</td>\n",
       "    </tr>\n",
       "  </tbody>\n",
       "</table>\n",
       "</div>"
      ],
      "text/plain": [
       "                 f0            f1            f2       product\n",
       "count  99996.000000  99996.000000  99996.000000  99996.000000\n",
       "mean       1.141209     -4.796608      2.494501     68.823916\n",
       "std        8.965815      5.119906      1.703579     45.944663\n",
       "min      -31.609576    -26.358598     -0.018144      0.000000\n",
       "25%       -6.298551     -8.267985      1.000021     26.953261\n",
       "50%        1.153055     -4.813172      2.011475     57.085625\n",
       "75%        8.620964     -1.332816      3.999904    107.813044\n",
       "max       29.421755     18.734063      5.019721    137.945408"
      ]
     },
     "metadata": {},
     "output_type": "display_data"
    },
    {
     "name": "stdout",
     "output_type": "stream",
     "text": [
      "<class 'pandas.core.frame.DataFrame'>\n",
      "Int64Index: 99996 entries, 0 to 99999\n",
      "Data columns (total 5 columns):\n",
      "id         99996 non-null object\n",
      "f0         99996 non-null float64\n",
      "f1         99996 non-null float64\n",
      "f2         99996 non-null float64\n",
      "product    99996 non-null float64\n",
      "dtypes: float64(4), object(1)\n",
      "memory usage: 4.6+ MB\n"
     ]
    },
    {
     "data": {
      "text/plain": [
       "None"
      ]
     },
     "metadata": {},
     "output_type": "display_data"
    },
    {
     "data": {
      "text/html": [
       "<div>\n",
       "<style scoped>\n",
       "    .dataframe tbody tr th:only-of-type {\n",
       "        vertical-align: middle;\n",
       "    }\n",
       "\n",
       "    .dataframe tbody tr th {\n",
       "        vertical-align: top;\n",
       "    }\n",
       "\n",
       "    .dataframe thead th {\n",
       "        text-align: right;\n",
       "    }\n",
       "</style>\n",
       "<table border=\"1\" class=\"dataframe\">\n",
       "  <thead>\n",
       "    <tr style=\"text-align: right;\">\n",
       "      <th></th>\n",
       "      <th>f0</th>\n",
       "      <th>f1</th>\n",
       "      <th>f2</th>\n",
       "      <th>product</th>\n",
       "    </tr>\n",
       "  </thead>\n",
       "  <tbody>\n",
       "    <tr>\n",
       "      <td>count</td>\n",
       "      <td>99996.000000</td>\n",
       "      <td>99996.000000</td>\n",
       "      <td>99996.000000</td>\n",
       "      <td>99996.000000</td>\n",
       "    </tr>\n",
       "    <tr>\n",
       "      <td>mean</td>\n",
       "      <td>0.002002</td>\n",
       "      <td>-0.002159</td>\n",
       "      <td>2.495084</td>\n",
       "      <td>94.998342</td>\n",
       "    </tr>\n",
       "    <tr>\n",
       "      <td>std</td>\n",
       "      <td>1.732052</td>\n",
       "      <td>1.730397</td>\n",
       "      <td>3.473482</td>\n",
       "      <td>44.749573</td>\n",
       "    </tr>\n",
       "    <tr>\n",
       "      <td>min</td>\n",
       "      <td>-8.760004</td>\n",
       "      <td>-7.084020</td>\n",
       "      <td>-11.970335</td>\n",
       "      <td>0.000000</td>\n",
       "    </tr>\n",
       "    <tr>\n",
       "      <td>25%</td>\n",
       "      <td>-1.162328</td>\n",
       "      <td>-1.174841</td>\n",
       "      <td>0.130269</td>\n",
       "      <td>59.450028</td>\n",
       "    </tr>\n",
       "    <tr>\n",
       "      <td>50%</td>\n",
       "      <td>0.009424</td>\n",
       "      <td>-0.009661</td>\n",
       "      <td>2.484236</td>\n",
       "      <td>94.925026</td>\n",
       "    </tr>\n",
       "    <tr>\n",
       "      <td>75%</td>\n",
       "      <td>1.158477</td>\n",
       "      <td>1.163523</td>\n",
       "      <td>4.858720</td>\n",
       "      <td>130.586815</td>\n",
       "    </tr>\n",
       "    <tr>\n",
       "      <td>max</td>\n",
       "      <td>7.238262</td>\n",
       "      <td>7.844801</td>\n",
       "      <td>16.739402</td>\n",
       "      <td>190.029838</td>\n",
       "    </tr>\n",
       "  </tbody>\n",
       "</table>\n",
       "</div>"
      ],
      "text/plain": [
       "                 f0            f1            f2       product\n",
       "count  99996.000000  99996.000000  99996.000000  99996.000000\n",
       "mean       0.002002     -0.002159      2.495084     94.998342\n",
       "std        1.732052      1.730397      3.473482     44.749573\n",
       "min       -8.760004     -7.084020    -11.970335      0.000000\n",
       "25%       -1.162328     -1.174841      0.130269     59.450028\n",
       "50%        0.009424     -0.009661      2.484236     94.925026\n",
       "75%        1.158477      1.163523      4.858720    130.586815\n",
       "max        7.238262      7.844801     16.739402    190.029838"
      ]
     },
     "metadata": {},
     "output_type": "display_data"
    },
    {
     "name": "stdout",
     "output_type": "stream",
     "text": [
      "<class 'pandas.core.frame.DataFrame'>\n",
      "Int64Index: 99996 entries, 0 to 99999\n",
      "Data columns (total 5 columns):\n",
      "id         99996 non-null object\n",
      "f0         99996 non-null float64\n",
      "f1         99996 non-null float64\n",
      "f2         99996 non-null float64\n",
      "product    99996 non-null float64\n",
      "dtypes: float64(4), object(1)\n",
      "memory usage: 4.6+ MB\n"
     ]
    },
    {
     "data": {
      "text/plain": [
       "None"
      ]
     },
     "metadata": {},
     "output_type": "display_data"
    }
   ],
   "source": [
    "for data in [data_1, data_2, data_3]:\n",
    "    data.drop_duplicates(subset=['id'], inplace=True)\n",
    "    display(data.describe())\n",
    "    display(data.info())"
   ]
  },
  {
   "cell_type": "markdown",
   "metadata": {},
   "source": [
    "### Вывод\n",
    "\n",
    "* Пропуски и ошибки в данных отсутствуют;\n",
    "* Присутствующие дубликаты были удалены уникальных `id` были удалены."
   ]
  },
  {
   "cell_type": "markdown",
   "metadata": {},
   "source": [
    "## Обучение и проверка модели для каждого региона:"
   ]
  },
  {
   "cell_type": "code",
   "execution_count": 4,
   "metadata": {},
   "outputs": [],
   "source": [
    "def get_train_valid_split(data):\n",
    "    \n",
    "    \"\"\"Создание обучающей и валидационной выборок\"\"\"\n",
    "    \n",
    "    features = data.drop(['product', 'id'], axis=1)\n",
    "    target = data['product']\n",
    "\n",
    "    features_train, features_valid, target_train, target_valid = train_test_split(\n",
    "        features, target, test_size=0.25, random_state=12345, shuffle=True)\n",
    "    \n",
    "    return (features_train, target_train), (features_valid, target_valid)"
   ]
  },
  {
   "cell_type": "code",
   "execution_count": 5,
   "metadata": {},
   "outputs": [],
   "source": [
    "def build_model(data):\n",
    "    \n",
    "    \"\"\"Создание и обучение модели на переданных данных\n",
    "        Вывод RMSE модели и среднее количество сырья\n",
    "        Возвращает модель, настроенный StandardScaler и \n",
    "        результаты предсказаний на валидационной выборке\"\"\"\n",
    "    \n",
    "    train, valid = get_train_valid_split(data)\n",
    "    ssc = StandardScaler()\n",
    "    ssc.fit(train[0])\n",
    "    columns = ['f0', 'f1', 'f2']\n",
    "    train[0].loc[:, columns] = ssc.transform(train[0])\n",
    "    valid[0].loc[:, columns] = ssc.transform(valid[0])\n",
    "    \n",
    "    model = LinearRegression(n_jobs=-1)\n",
    "    model.fit(*train)\n",
    "    prediction = model.predict(valid[0])\n",
    "    rmse = mean_squared_error(valid[1], prediction)**0.5\n",
    "    \n",
    "    result = np.zeros(shape=(len(prediction), 2))\n",
    "    result[:, 0] = valid[1]\n",
    "    result[:, 1] = prediction\n",
    "    \n",
    "    print(f'RMSE of the model is {rmse :.3f}')\n",
    "    print(f'Средний запас предсказанного сырья: {result[:, 1].mean() : .3f}')\n",
    "    print(f'Средний запас реального сырья: {result[:, 0].mean() : .3f}')\n",
    "\n",
    "    return model, ssc, result"
   ]
  },
  {
   "cell_type": "code",
   "execution_count": 6,
   "metadata": {
    "scrolled": true
   },
   "outputs": [
    {
     "name": "stdout",
     "output_type": "stream",
     "text": [
      "RMSE of the model is 37.854\n",
      "Средний запас предсказанного сырья:  92.789\n",
      "Средний запас реального сырья:  92.158\n"
     ]
    }
   ],
   "source": [
    "model_1, ssc_1, result_1 = build_model(data_1)"
   ]
  },
  {
   "cell_type": "code",
   "execution_count": 7,
   "metadata": {},
   "outputs": [
    {
     "name": "stdout",
     "output_type": "stream",
     "text": [
      "RMSE of the model is 0.892\n",
      "Средний запас предсказанного сырья:  69.178\n",
      "Средний запас реального сырья:  69.186\n"
     ]
    }
   ],
   "source": [
    "model_2, ssc_2, result_2 = build_model(data_2)"
   ]
  },
  {
   "cell_type": "code",
   "execution_count": 8,
   "metadata": {},
   "outputs": [
    {
     "name": "stdout",
     "output_type": "stream",
     "text": [
      "RMSE of the model is 40.076\n",
      "Средний запас предсказанного сырья:  94.866\n",
      "Средний запас реального сырья:  94.785\n"
     ]
    }
   ],
   "source": [
    "model_3, ssc_3, result_3 = build_model(data_3)"
   ]
  },
  {
   "cell_type": "markdown",
   "metadata": {},
   "source": [
    "### Вывод\n",
    "\n",
    "* Первая и третья модели демонстрируют большой показатель RMSE, модель предсказывает достаточно неточно.\n",
    "* Средний запас предсказанного сырья в этих регионах 92 и 94 единицы запасов, соответственно.\n",
    "* RMSE второй модели (модели второго региона) кажется идеальным, судя по всему один из признаков сильно коррелирует с предсказываемой величиной.\n",
    "* Средний запас предсказанного сырья во втором регионе равен 69 единиц запасов."
   ]
  },
  {
   "cell_type": "markdown",
   "metadata": {},
   "source": [
    "## Подготовка к расчету прибыли"
   ]
  },
  {
   "cell_type": "code",
   "execution_count": 9,
   "metadata": {},
   "outputs": [],
   "source": [
    "developing_cost = 10**10\n",
    "income_per_unit = 4.5 * 10**5\n",
    "num_of_well = 200"
   ]
  },
  {
   "cell_type": "code",
   "execution_count": 10,
   "metadata": {},
   "outputs": [
    {
     "name": "stdout",
     "output_type": "stream",
     "text": [
      "Необходмое количество сырья для безубыточной разработки новой скажины = 112\n"
     ]
    }
   ],
   "source": [
    "minimum_units = math.ceil(developing_cost / income_per_unit / num_of_well)\n",
    "print('Необходмое количество сырья для безубыточной разработки новой скажины =', minimum_units)"
   ]
  },
  {
   "cell_type": "markdown",
   "metadata": {},
   "source": [
    "### Вывод\n",
    "\n",
    "* Необходимое количество сырья для безубыточной разработки новой скажины с учетом данного бюджета на 200 скважин составило 112 единиц запасов.\n",
    "* Это значение больше любого среднего предсказанного по трем регионам.\n",
    "* Нужно будет смотреть на топ скажин."
   ]
  },
  {
   "cell_type": "markdown",
   "metadata": {},
   "source": [
    "## Функцию для расчёта прибыли по выбранным скважинам и предсказаниям модели:"
   ]
  },
  {
   "cell_type": "code",
   "execution_count": 11,
   "metadata": {},
   "outputs": [],
   "source": [
    "def get_maximum_revenue(result):\n",
    "    df = pd.DataFrame(result)\n",
    "    df.columns = ['real', 'pred']\n",
    "    df = df.sort_values(by='pred', ascending=False)\n",
    "    return df['real'][:200].sum() * income_per_unit - developing_cost"
   ]
  },
  {
   "cell_type": "code",
   "execution_count": 12,
   "metadata": {},
   "outputs": [
    {
     "name": "stdout",
     "output_type": "stream",
     "text": [
      "Суммарная максимальная прибыль\n",
      "Регион №1: 3,365.19 млн. рублей\n",
      "Регион №2: 2,415.09 млн. рублей\n",
      "Регион №3: 2,501.28 млн. рублей\n"
     ]
    }
   ],
   "source": [
    "total_income_1 = get_maximum_revenue(result_1)\n",
    "total_income_2 = get_maximum_revenue(result_2)\n",
    "total_income_3 = get_maximum_revenue(result_3)\n",
    "\n",
    "print('Суммарная максимальная прибыль')\n",
    "for income, name in zip([total_income_1, total_income_2, total_income_3], np.arange(1, 4)):\n",
    "    print(f'Регион №{name}: {income / 10**6:n} млн. рублей')"
   ]
  },
  {
   "cell_type": "code",
   "execution_count": 13,
   "metadata": {},
   "outputs": [],
   "source": [
    "def get_confidence_interval(result, region):\n",
    "    income_real = []\n",
    "    for i in range(1000):\n",
    "        random_indices = np.random.choice(np.arange(0, len(result[:, 1])), (500, ),replace=True)\n",
    "        random_points = result[random_indices]\n",
    "        income_real.append(get_maximum_revenue(random_points) / 10**6)\n",
    "\n",
    "    plt.hist(income_real)\n",
    "    plt.title(f'[Регион {region}] Распределение выручки по реальным значениям')\n",
    "    plt.show()\n",
    "    \n",
    "    print(f'[Регион {region}] Ожидаемая прибыль = {np.array(income_real).mean():n} млн. рублей')\n",
    "    print(f'[Регион {region}] 95% доверительный интервал, млн. рублей: ({np.quantile(income_real, 0.025):n}; {np.quantile(income_real, 0.975):n})')\n",
    "\n",
    "    for i in np.arange(0, 1, 0.0001):\n",
    "        if(np.quantile(income_real, i) >= 0):\n",
    "            print(f'[Регион {region}] Вероятность убытка: {i*100:.1f}%')\n",
    "            break"
   ]
  },
  {
   "cell_type": "code",
   "execution_count": 14,
   "metadata": {
    "scrolled": false
   },
   "outputs": [
    {
     "data": {
      "image/png": "[encoded data removed]",
      "text/plain": [
       "<Figure size 432x288 with 1 Axes>"
      ]
     },
     "metadata": {
      "needs_background": "light"
     },
     "output_type": "display_data"
    },
    {
     "name": "stdout",
     "output_type": "stream",
     "text": [
      "[Регион 1] Ожидаемая прибыль = 397.005 млн. рублей\n",
      "[Регион 1] 95% доверительный интервал, млн. рублей: (-105.134; 872.952)\n",
      "[Регион 1] Вероятность убытка: 6.6%\n",
      "\n",
      "\n",
      "-.--.--.--.--.--.--.--.--.--.--.--.--.--.--.--.--.--.--.--.--.--.--.--.--.--.--.--.--.--.--.--.--.--.--.--.--.--.--.--.-\n",
      "\n"
     ]
    },
    {
     "data": {
      "image/png": "[encoded data removed]",
      "text/plain": [
       "<Figure size 432x288 with 1 Axes>"
      ]
     },
     "metadata": {
      "needs_background": "light"
     },
     "output_type": "display_data"
    },
    {
     "name": "stdout",
     "output_type": "stream",
     "text": [
      "[Регион 2] Ожидаемая прибыль = 464.046 млн. рублей\n",
      "[Регион 2] 95% доверительный интервал, млн. рублей: (85.9968; 867.297)\n",
      "[Регион 2] Вероятность убытка: 1.1%\n",
      "\n",
      "\n",
      "-.--.--.--.--.--.--.--.--.--.--.--.--.--.--.--.--.--.--.--.--.--.--.--.--.--.--.--.--.--.--.--.--.--.--.--.--.--.--.--.-\n",
      "\n"
     ]
    },
    {
     "data": {
      "image/png": "[encoded data removed]",
      "text/plain": [
       "<Figure size 432x288 with 1 Axes>"
      ]
     },
     "metadata": {
      "needs_background": "light"
     },
     "output_type": "display_data"
    },
    {
     "name": "stdout",
     "output_type": "stream",
     "text": [
      "[Регион 3] Ожидаемая прибыль = 329.032 млн. рублей\n",
      "[Регион 3] 95% доверительный интервал, млн. рублей: (-189.824; 853.928)\n",
      "[Регион 3] Вероятность убытка: 10.1%\n",
      "\n",
      "\n",
      "-.--.--.--.--.--.--.--.--.--.--.--.--.--.--.--.--.--.--.--.--.--.--.--.--.--.--.--.--.--.--.--.--.--.--.--.--.--.--.--.-\n",
      "\n"
     ]
    }
   ],
   "source": [
    "for result, i in zip([result_1, result_2, result_3], np.arange(1, 4)):\n",
    "    get_confidence_interval(result, i)\n",
    "    print('\\n\\n'+'-.-'*40+'\\n')"
   ]
  },
  {
   "cell_type": "markdown",
   "metadata": {},
   "source": [
    "### Вывод\n",
    "\n",
    "* Единственным регионом, где вероятность убытков меньше 2.5%, является второй.\n",
    "* С 95%-ой вероятностью разработка скажин во втором регионе принесет больше прибыли, чем было вложено в разработку."
   ]
  }
 ],
 "metadata": {
  "kernelspec": {
   "display_name": "Python 3",
   "language": "python",
   "name": "python3"
  },
  "language_info": {
   "codemirror_mode": {
    "name": "ipython",
    "version": 3
   },
   "file_extension": ".py",
   "mimetype": "text/x-python",
   "name": "python",
   "nbconvert_exporter": "python",
   "pygments_lexer": "ipython3",
   "version": "3.8.3"
  },
  "toc": {
   "base_numbering": 1,
   "nav_menu": {},
   "number_sections": true,
   "sideBar": true,
   "skip_h1_title": true,
   "title_cell": "Содержание",
   "title_sidebar": "Contents",
   "toc_cell": true,
   "toc_position": {},
   "toc_section_display": true,
   "toc_window_display": false
  }
 },
 "nbformat": 4,
 "nbformat_minor": 4
}
