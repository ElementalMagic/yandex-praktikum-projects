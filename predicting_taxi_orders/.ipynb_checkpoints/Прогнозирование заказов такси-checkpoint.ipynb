{
 "cells": [
  {
   "cell_type": "markdown",
   "metadata": {},
   "source": [
    "#  Прогнозирование заказов такси"
   ]
  },
  {
   "cell_type": "markdown",
   "metadata": {
    "toc": true
   },
   "source": [
    "<h1>Содержание<span class=\"tocSkip\"></span></h1>\n",
    "<div class=\"toc\"><ul class=\"toc-item\"><li><span><a href=\"#Подготовка\" data-toc-modified-id=\"Подготовка-1\"><span class=\"toc-item-num\">1&nbsp;&nbsp;</span>Подготовка</a></span></li><li><span><a href=\"#Анализ\" data-toc-modified-id=\"Анализ-2\"><span class=\"toc-item-num\">2&nbsp;&nbsp;</span>Анализ</a></span></li><li><span><a href=\"#Обучение\" data-toc-modified-id=\"Обучение-3\"><span class=\"toc-item-num\">3&nbsp;&nbsp;</span>Обучение</a></span></li><li><span><a href=\"#Тестирование\" data-toc-modified-id=\"Тестирование-4\"><span class=\"toc-item-num\">4&nbsp;&nbsp;</span>Тестирование</a></span></li></ul></div>"
   ]
  },
  {
   "cell_type": "markdown",
   "metadata": {},
   "source": [
    "В распоряжении исторические данные о заказах такси. Нужно разработать модель для прогнозирования количества заказов на следующий час."
   ]
  },
  {
   "cell_type": "markdown",
   "metadata": {},
   "source": [
    "## Подготовка"
   ]
  },
  {
   "cell_type": "code",
   "execution_count": 1,
   "metadata": {},
   "outputs": [],
   "source": [
    "import numpy as np\n",
    "import pandas as pd\n",
    "import matplotlib.pyplot as plt\n",
    "from sklearn.model_selection import train_test_split\n",
    "from sklearn.linear_model import LinearRegression\n",
    "from sklearn.metrics import mean_squared_error\n",
    "from sklearn.ensemble import RandomForestRegressor\n",
    "from sklearn.model_selection import GridSearchCV\n",
    "from sklearn.ensemble import GradientBoostingRegressor\n",
    "from statsmodels.tsa.seasonal import seasonal_decompose\n",
    "import itertools"
   ]
  },
  {
   "cell_type": "code",
   "execution_count": 2,
   "metadata": {},
   "outputs": [
    {
     "data": {
      "text/html": [
       "<div>\n",
       "<style scoped>\n",
       "    .dataframe tbody tr th:only-of-type {\n",
       "        vertical-align: middle;\n",
       "    }\n",
       "\n",
       "    .dataframe tbody tr th {\n",
       "        vertical-align: top;\n",
       "    }\n",
       "\n",
       "    .dataframe thead th {\n",
       "        text-align: right;\n",
       "    }\n",
       "</style>\n",
       "<table border=\"1\" class=\"dataframe\">\n",
       "  <thead>\n",
       "    <tr style=\"text-align: right;\">\n",
       "      <th></th>\n",
       "      <th>datetime</th>\n",
       "      <th>num_orders</th>\n",
       "    </tr>\n",
       "  </thead>\n",
       "  <tbody>\n",
       "    <tr>\n",
       "      <td>0</td>\n",
       "      <td>2018-03-01 00:00:00</td>\n",
       "      <td>9</td>\n",
       "    </tr>\n",
       "    <tr>\n",
       "      <td>1</td>\n",
       "      <td>2018-03-01 00:10:00</td>\n",
       "      <td>14</td>\n",
       "    </tr>\n",
       "    <tr>\n",
       "      <td>2</td>\n",
       "      <td>2018-03-01 00:20:00</td>\n",
       "      <td>28</td>\n",
       "    </tr>\n",
       "    <tr>\n",
       "      <td>3</td>\n",
       "      <td>2018-03-01 00:30:00</td>\n",
       "      <td>20</td>\n",
       "    </tr>\n",
       "    <tr>\n",
       "      <td>4</td>\n",
       "      <td>2018-03-01 00:40:00</td>\n",
       "      <td>32</td>\n",
       "    </tr>\n",
       "  </tbody>\n",
       "</table>\n",
       "</div>"
      ],
      "text/plain": [
       "              datetime  num_orders\n",
       "0  2018-03-01 00:00:00           9\n",
       "1  2018-03-01 00:10:00          14\n",
       "2  2018-03-01 00:20:00          28\n",
       "3  2018-03-01 00:30:00          20\n",
       "4  2018-03-01 00:40:00          32"
      ]
     },
     "execution_count": 2,
     "metadata": {},
     "output_type": "execute_result"
    }
   ],
   "source": [
    "df = pd.read_csv('taxi.csv')\n",
    "df.head()"
   ]
  },
  {
   "cell_type": "code",
   "execution_count": 3,
   "metadata": {},
   "outputs": [
    {
     "name": "stdout",
     "output_type": "stream",
     "text": [
      "<class 'pandas.core.frame.DataFrame'>\n",
      "RangeIndex: 26496 entries, 0 to 26495\n",
      "Data columns (total 2 columns):\n",
      "datetime      26496 non-null object\n",
      "num_orders    26496 non-null int64\n",
      "dtypes: int64(1), object(1)\n",
      "memory usage: 414.1+ KB\n"
     ]
    }
   ],
   "source": [
    "df.info()"
   ]
  },
  {
   "cell_type": "markdown",
   "metadata": {},
   "source": [
    "Приведем столбец `datetime` в типу `Datetime` и сделаем его индексом таблицы."
   ]
  },
  {
   "cell_type": "code",
   "execution_count": 4,
   "metadata": {},
   "outputs": [],
   "source": [
    "df['datetime'] = pd.to_datetime(df['datetime'])\n",
    "df.set_index('datetime', inplace=True)\n",
    "df.sort_index(inplace=True)"
   ]
  },
  {
   "cell_type": "markdown",
   "metadata": {},
   "source": [
    "Выполним кумулятивное ресемплирование по одному часу для отражения общего количества заказов в течение часа."
   ]
  },
  {
   "cell_type": "code",
   "execution_count": 5,
   "metadata": {},
   "outputs": [
    {
     "data": {
      "text/html": [
       "<div>\n",
       "<style scoped>\n",
       "    .dataframe tbody tr th:only-of-type {\n",
       "        vertical-align: middle;\n",
       "    }\n",
       "\n",
       "    .dataframe tbody tr th {\n",
       "        vertical-align: top;\n",
       "    }\n",
       "\n",
       "    .dataframe thead th {\n",
       "        text-align: right;\n",
       "    }\n",
       "</style>\n",
       "<table border=\"1\" class=\"dataframe\">\n",
       "  <thead>\n",
       "    <tr style=\"text-align: right;\">\n",
       "      <th></th>\n",
       "      <th>num_orders</th>\n",
       "    </tr>\n",
       "    <tr>\n",
       "      <th>datetime</th>\n",
       "      <th></th>\n",
       "    </tr>\n",
       "  </thead>\n",
       "  <tbody>\n",
       "    <tr>\n",
       "      <td>2018-03-01 00:00:00</td>\n",
       "      <td>124</td>\n",
       "    </tr>\n",
       "    <tr>\n",
       "      <td>2018-03-01 01:00:00</td>\n",
       "      <td>85</td>\n",
       "    </tr>\n",
       "    <tr>\n",
       "      <td>2018-03-01 02:00:00</td>\n",
       "      <td>71</td>\n",
       "    </tr>\n",
       "    <tr>\n",
       "      <td>2018-03-01 03:00:00</td>\n",
       "      <td>66</td>\n",
       "    </tr>\n",
       "    <tr>\n",
       "      <td>2018-03-01 04:00:00</td>\n",
       "      <td>43</td>\n",
       "    </tr>\n",
       "  </tbody>\n",
       "</table>\n",
       "</div>"
      ],
      "text/plain": [
       "                     num_orders\n",
       "datetime                       \n",
       "2018-03-01 00:00:00         124\n",
       "2018-03-01 01:00:00          85\n",
       "2018-03-01 02:00:00          71\n",
       "2018-03-01 03:00:00          66\n",
       "2018-03-01 04:00:00          43"
      ]
     },
     "execution_count": 5,
     "metadata": {},
     "output_type": "execute_result"
    }
   ],
   "source": [
    "df = df.resample('1H').sum()\n",
    "df.head()"
   ]
  },
  {
   "cell_type": "code",
   "execution_count": 6,
   "metadata": {},
   "outputs": [
    {
     "data": {
      "text/html": [
       "<div>\n",
       "<style scoped>\n",
       "    .dataframe tbody tr th:only-of-type {\n",
       "        vertical-align: middle;\n",
       "    }\n",
       "\n",
       "    .dataframe tbody tr th {\n",
       "        vertical-align: top;\n",
       "    }\n",
       "\n",
       "    .dataframe thead th {\n",
       "        text-align: right;\n",
       "    }\n",
       "</style>\n",
       "<table border=\"1\" class=\"dataframe\">\n",
       "  <thead>\n",
       "    <tr style=\"text-align: right;\">\n",
       "      <th></th>\n",
       "      <th>num_orders</th>\n",
       "    </tr>\n",
       "    <tr>\n",
       "      <th>datetime</th>\n",
       "      <th></th>\n",
       "    </tr>\n",
       "  </thead>\n",
       "  <tbody>\n",
       "    <tr>\n",
       "      <td>2018-08-31 19:00:00</td>\n",
       "      <td>136</td>\n",
       "    </tr>\n",
       "    <tr>\n",
       "      <td>2018-08-31 20:00:00</td>\n",
       "      <td>154</td>\n",
       "    </tr>\n",
       "    <tr>\n",
       "      <td>2018-08-31 21:00:00</td>\n",
       "      <td>159</td>\n",
       "    </tr>\n",
       "    <tr>\n",
       "      <td>2018-08-31 22:00:00</td>\n",
       "      <td>223</td>\n",
       "    </tr>\n",
       "    <tr>\n",
       "      <td>2018-08-31 23:00:00</td>\n",
       "      <td>205</td>\n",
       "    </tr>\n",
       "  </tbody>\n",
       "</table>\n",
       "</div>"
      ],
      "text/plain": [
       "                     num_orders\n",
       "datetime                       \n",
       "2018-08-31 19:00:00         136\n",
       "2018-08-31 20:00:00         154\n",
       "2018-08-31 21:00:00         159\n",
       "2018-08-31 22:00:00         223\n",
       "2018-08-31 23:00:00         205"
      ]
     },
     "execution_count": 6,
     "metadata": {},
     "output_type": "execute_result"
    }
   ],
   "source": [
    "df.tail()"
   ]
  },
  {
   "cell_type": "markdown",
   "metadata": {},
   "source": [
    "## Анализ"
   ]
  },
  {
   "cell_type": "markdown",
   "metadata": {},
   "source": [
    "Посмотрим на тренд и сезонность заказов в рамках 7 дней."
   ]
  },
  {
   "cell_type": "code",
   "execution_count": 7,
   "metadata": {},
   "outputs": [
    {
     "data": {
      "image/png": "[encoded data removed]",
      "text/plain": [
       "<Figure size 720x720 with 3 Axes>"
      ]
     },
     "metadata": {
      "needs_background": "light"
     },
     "output_type": "display_data"
    }
   ],
   "source": [
    "decomposed = seasonal_decompose(df['2018-03': '2018-03-07'])\n",
    "\n",
    "plt.figure(figsize=(10, 10))\n",
    "plt.subplot(311)\n",
    "\n",
    "decomposed.trend.plot(ax=plt.gca())\n",
    "plt.title('Trend')\n",
    "plt.subplot(312)\n",
    "\n",
    "decomposed.seasonal.plot(ax=plt.gca())\n",
    "plt.title('Seasonality')\n",
    "plt.subplot(313)\n",
    "\n",
    "decomposed.resid.plot(ax=plt.gca())\n",
    "plt.title('Residuals')\n",
    "plt.tight_layout()"
   ]
  },
  {
   "cell_type": "markdown",
   "metadata": {},
   "source": [
    "Пиковая нагрузка возникает в ночные часы и достигает минимума в 6 утра. Затем количество заказов начинает расти, достигая локального максимума в 10 часов. Вероятно, это связано с тем, что многие люди едут в это время на работу. Следующий локальный максимум происходит в районе 16-17 часов, когда многие люди заканчивают рабочий день."
   ]
  },
  {
   "cell_type": "markdown",
   "metadata": {},
   "source": [
    "Теперь посмотрим на временной ряд целиком."
   ]
  },
  {
   "cell_type": "code",
   "execution_count": 8,
   "metadata": {},
   "outputs": [
    {
     "data": {
      "image/png": "[encoded data removed]",
      "text/plain": [
       "<Figure size 720x720 with 3 Axes>"
      ]
     },
     "metadata": {
      "needs_background": "light"
     },
     "output_type": "display_data"
    }
   ],
   "source": [
    "decomposed = seasonal_decompose(df)\n",
    "\n",
    "plt.figure(figsize=(10, 10))\n",
    "plt.subplot(311)\n",
    "\n",
    "decomposed.trend.plot(ax=plt.gca())\n",
    "plt.title('Trend')\n",
    "plt.subplot(312)\n",
    "\n",
    "decomposed.seasonal.plot(ax=plt.gca())\n",
    "plt.title('Seasonality')\n",
    "plt.subplot(313)\n",
    "\n",
    "decomposed.resid.plot(ax=plt.gca())\n",
    "plt.title('Residuals')\n",
    "plt.tight_layout()"
   ]
  },
  {
   "cell_type": "markdown",
   "metadata": {},
   "source": [
    "Сезонность в данном масштабе не репрезентативна, зато четко виден тренд на увеличения количества заказов с начала к концу наблюдений. На мой взгляд, причинами здесь являются рост популярности сервисов такси и рост рассматриваемого сервиса в целом. "
   ]
  },
  {
   "cell_type": "markdown",
   "metadata": {},
   "source": [
    "Для прогнозирования количества заказов будем использовать данные о нагрузке в предыдущие часы, скользящее среднее и признаки, связанные с датой: час, день недели, день месяца, месяц."
   ]
  },
  {
   "cell_type": "code",
   "execution_count": 9,
   "metadata": {},
   "outputs": [
    {
     "data": {
      "text/html": [
       "<div>\n",
       "<style scoped>\n",
       "    .dataframe tbody tr th:only-of-type {\n",
       "        vertical-align: middle;\n",
       "    }\n",
       "\n",
       "    .dataframe tbody tr th {\n",
       "        vertical-align: top;\n",
       "    }\n",
       "\n",
       "    .dataframe thead th {\n",
       "        text-align: right;\n",
       "    }\n",
       "</style>\n",
       "<table border=\"1\" class=\"dataframe\">\n",
       "  <thead>\n",
       "    <tr style=\"text-align: right;\">\n",
       "      <th></th>\n",
       "      <th>num_orders</th>\n",
       "      <th>hour</th>\n",
       "      <th>day_of_month</th>\n",
       "      <th>day_of_week</th>\n",
       "      <th>month</th>\n",
       "      <th>lag_1</th>\n",
       "      <th>lag_2</th>\n",
       "      <th>lag_3</th>\n",
       "      <th>lag_4</th>\n",
       "      <th>lag_5</th>\n",
       "      <th>rolling_mean</th>\n",
       "    </tr>\n",
       "    <tr>\n",
       "      <th>datetime</th>\n",
       "      <th></th>\n",
       "      <th></th>\n",
       "      <th></th>\n",
       "      <th></th>\n",
       "      <th></th>\n",
       "      <th></th>\n",
       "      <th></th>\n",
       "      <th></th>\n",
       "      <th></th>\n",
       "      <th></th>\n",
       "      <th></th>\n",
       "    </tr>\n",
       "  </thead>\n",
       "  <tbody>\n",
       "    <tr>\n",
       "      <td>2018-03-01 00:00:00</td>\n",
       "      <td>124</td>\n",
       "      <td>0</td>\n",
       "      <td>1</td>\n",
       "      <td>3</td>\n",
       "      <td>3</td>\n",
       "      <td>NaN</td>\n",
       "      <td>NaN</td>\n",
       "      <td>NaN</td>\n",
       "      <td>NaN</td>\n",
       "      <td>NaN</td>\n",
       "      <td>NaN</td>\n",
       "    </tr>\n",
       "    <tr>\n",
       "      <td>2018-03-01 01:00:00</td>\n",
       "      <td>85</td>\n",
       "      <td>1</td>\n",
       "      <td>1</td>\n",
       "      <td>3</td>\n",
       "      <td>3</td>\n",
       "      <td>124.0</td>\n",
       "      <td>NaN</td>\n",
       "      <td>NaN</td>\n",
       "      <td>NaN</td>\n",
       "      <td>NaN</td>\n",
       "      <td>NaN</td>\n",
       "    </tr>\n",
       "    <tr>\n",
       "      <td>2018-03-01 02:00:00</td>\n",
       "      <td>71</td>\n",
       "      <td>2</td>\n",
       "      <td>1</td>\n",
       "      <td>3</td>\n",
       "      <td>3</td>\n",
       "      <td>85.0</td>\n",
       "      <td>124.0</td>\n",
       "      <td>NaN</td>\n",
       "      <td>NaN</td>\n",
       "      <td>NaN</td>\n",
       "      <td>NaN</td>\n",
       "    </tr>\n",
       "    <tr>\n",
       "      <td>2018-03-01 03:00:00</td>\n",
       "      <td>66</td>\n",
       "      <td>3</td>\n",
       "      <td>1</td>\n",
       "      <td>3</td>\n",
       "      <td>3</td>\n",
       "      <td>71.0</td>\n",
       "      <td>85.0</td>\n",
       "      <td>124.0</td>\n",
       "      <td>NaN</td>\n",
       "      <td>NaN</td>\n",
       "      <td>NaN</td>\n",
       "    </tr>\n",
       "    <tr>\n",
       "      <td>2018-03-01 04:00:00</td>\n",
       "      <td>43</td>\n",
       "      <td>4</td>\n",
       "      <td>1</td>\n",
       "      <td>3</td>\n",
       "      <td>3</td>\n",
       "      <td>66.0</td>\n",
       "      <td>71.0</td>\n",
       "      <td>85.0</td>\n",
       "      <td>124.0</td>\n",
       "      <td>NaN</td>\n",
       "      <td>86.50</td>\n",
       "    </tr>\n",
       "    <tr>\n",
       "      <td>2018-03-01 05:00:00</td>\n",
       "      <td>6</td>\n",
       "      <td>5</td>\n",
       "      <td>1</td>\n",
       "      <td>3</td>\n",
       "      <td>3</td>\n",
       "      <td>43.0</td>\n",
       "      <td>66.0</td>\n",
       "      <td>71.0</td>\n",
       "      <td>85.0</td>\n",
       "      <td>124.0</td>\n",
       "      <td>66.25</td>\n",
       "    </tr>\n",
       "    <tr>\n",
       "      <td>2018-03-01 06:00:00</td>\n",
       "      <td>12</td>\n",
       "      <td>6</td>\n",
       "      <td>1</td>\n",
       "      <td>3</td>\n",
       "      <td>3</td>\n",
       "      <td>6.0</td>\n",
       "      <td>43.0</td>\n",
       "      <td>66.0</td>\n",
       "      <td>71.0</td>\n",
       "      <td>85.0</td>\n",
       "      <td>46.50</td>\n",
       "    </tr>\n",
       "    <tr>\n",
       "      <td>2018-03-01 07:00:00</td>\n",
       "      <td>15</td>\n",
       "      <td>7</td>\n",
       "      <td>1</td>\n",
       "      <td>3</td>\n",
       "      <td>3</td>\n",
       "      <td>12.0</td>\n",
       "      <td>6.0</td>\n",
       "      <td>43.0</td>\n",
       "      <td>66.0</td>\n",
       "      <td>71.0</td>\n",
       "      <td>31.75</td>\n",
       "    </tr>\n",
       "    <tr>\n",
       "      <td>2018-03-01 08:00:00</td>\n",
       "      <td>34</td>\n",
       "      <td>8</td>\n",
       "      <td>1</td>\n",
       "      <td>3</td>\n",
       "      <td>3</td>\n",
       "      <td>15.0</td>\n",
       "      <td>12.0</td>\n",
       "      <td>6.0</td>\n",
       "      <td>43.0</td>\n",
       "      <td>66.0</td>\n",
       "      <td>19.00</td>\n",
       "    </tr>\n",
       "    <tr>\n",
       "      <td>2018-03-01 09:00:00</td>\n",
       "      <td>69</td>\n",
       "      <td>9</td>\n",
       "      <td>1</td>\n",
       "      <td>3</td>\n",
       "      <td>3</td>\n",
       "      <td>34.0</td>\n",
       "      <td>15.0</td>\n",
       "      <td>12.0</td>\n",
       "      <td>6.0</td>\n",
       "      <td>43.0</td>\n",
       "      <td>16.75</td>\n",
       "    </tr>\n",
       "  </tbody>\n",
       "</table>\n",
       "</div>"
      ],
      "text/plain": [
       "                     num_orders  hour  day_of_month  day_of_week  month  \\\n",
       "datetime                                                                  \n",
       "2018-03-01 00:00:00         124     0             1            3      3   \n",
       "2018-03-01 01:00:00          85     1             1            3      3   \n",
       "2018-03-01 02:00:00          71     2             1            3      3   \n",
       "2018-03-01 03:00:00          66     3             1            3      3   \n",
       "2018-03-01 04:00:00          43     4             1            3      3   \n",
       "2018-03-01 05:00:00           6     5             1            3      3   \n",
       "2018-03-01 06:00:00          12     6             1            3      3   \n",
       "2018-03-01 07:00:00          15     7             1            3      3   \n",
       "2018-03-01 08:00:00          34     8             1            3      3   \n",
       "2018-03-01 09:00:00          69     9             1            3      3   \n",
       "\n",
       "                     lag_1  lag_2  lag_3  lag_4  lag_5  rolling_mean  \n",
       "datetime                                                              \n",
       "2018-03-01 00:00:00    NaN    NaN    NaN    NaN    NaN           NaN  \n",
       "2018-03-01 01:00:00  124.0    NaN    NaN    NaN    NaN           NaN  \n",
       "2018-03-01 02:00:00   85.0  124.0    NaN    NaN    NaN           NaN  \n",
       "2018-03-01 03:00:00   71.0   85.0  124.0    NaN    NaN           NaN  \n",
       "2018-03-01 04:00:00   66.0   71.0   85.0  124.0    NaN         86.50  \n",
       "2018-03-01 05:00:00   43.0   66.0   71.0   85.0  124.0         66.25  \n",
       "2018-03-01 06:00:00    6.0   43.0   66.0   71.0   85.0         46.50  \n",
       "2018-03-01 07:00:00   12.0    6.0   43.0   66.0   71.0         31.75  \n",
       "2018-03-01 08:00:00   15.0   12.0    6.0   43.0   66.0         19.00  \n",
       "2018-03-01 09:00:00   34.0   15.0   12.0    6.0   43.0         16.75  "
      ]
     },
     "execution_count": 9,
     "metadata": {},
     "output_type": "execute_result"
    }
   ],
   "source": [
    "def create_features(df, max_lags=5, rolling_mean_size=4):\n",
    "    df['hour'] = df.index.hour\n",
    "    df['day_of_month'] = df.index.day\n",
    "    df['day_of_week'] = df.index.dayofweek\n",
    "    df['month'] = df.index.month\n",
    "\n",
    "    for lag in range(1, max_lags+1):\n",
    "        df[f'lag_{lag}'] = df['num_orders'].shift(lag)\n",
    "\n",
    "    df['rolling_mean'] = df['num_orders'].shift().rolling(rolling_mean_size).mean()\n",
    "\n",
    "create_features(df)\n",
    "df.head(10)"
   ]
  },
  {
   "cell_type": "markdown",
   "metadata": {},
   "source": [
    "## Обучение"
   ]
  },
  {
   "cell_type": "markdown",
   "metadata": {},
   "source": [
    "Создадим обучающую, валидационную и тестовую выборки."
   ]
  },
  {
   "cell_type": "code",
   "execution_count": 10,
   "metadata": {},
   "outputs": [],
   "source": [
    "df.dropna(inplace=True)\n",
    "\n",
    "target = df['num_orders']\n",
    "features = df.drop(['num_orders'], axis=1)\n",
    "\n",
    "features_train, features_valid, target_train, target_valid = train_test_split(features, target, test_size=0.2, shuffle=False)\n",
    "features_valid, features_test, target_valid, target_test = train_test_split(features_valid, target_valid, test_size=0.5, shuffle=False)"
   ]
  },
  {
   "cell_type": "markdown",
   "metadata": {},
   "source": [
    "Модель линейной регрессии."
   ]
  },
  {
   "cell_type": "code",
   "execution_count": 11,
   "metadata": {},
   "outputs": [],
   "source": [
    "def rmse(true_vals, pred_vals, msg='модели', _print=True):\n",
    "    res = mean_squared_error(true_vals, pred_vals)**0.5\n",
    "    if(_print):\n",
    "        print(f'RMSE {msg} = {res:.2f}\\n')\n",
    "    return res"
   ]
  },
  {
   "cell_type": "code",
   "execution_count": 12,
   "metadata": {},
   "outputs": [
    {
     "name": "stdout",
     "output_type": "stream",
     "text": [
      "Обучающая выборка:\n",
      "RMSE модели = 29.01\n",
      "\n",
      "Валидационная выборка:\n",
      "RMSE модели = 40.67\n",
      "\n"
     ]
    }
   ],
   "source": [
    "LR = LinearRegression()\n",
    "LR.fit(features_train, target_train)\n",
    "print('Обучающая выборка:')\n",
    "rmse(target_train, LR.predict(features_train))\n",
    "\n",
    "print('Валидационная выборка:')\n",
    "rmse(target_valid, LR.predict(features_valid));"
   ]
  },
  {
   "cell_type": "markdown",
   "metadata": {},
   "source": [
    "Модель случайного леса."
   ]
  },
  {
   "cell_type": "code",
   "execution_count": 13,
   "metadata": {},
   "outputs": [
    {
     "name": "stdout",
     "output_type": "stream",
     "text": [
      "Обучающая выборка:\n",
      "RMSE модели = 14.48\n",
      "\n",
      "Валидационная выборка:\n",
      "RMSE модели = 33.38\n",
      "\n"
     ]
    }
   ],
   "source": [
    "RFR = RandomForestRegressor(n_estimators=100, criterion='mse', n_jobs=-1, random_state=12345, max_depth=10)\n",
    "RFR.fit(features_train, target_train)\n",
    "print('Обучающая выборка:')\n",
    "rmse(target_train, RFR.predict(features_train))\n",
    "\n",
    "print('Валидационная выборка:')\n",
    "rmse(target_valid, RFR.predict(features_valid));"
   ]
  },
  {
   "cell_type": "markdown",
   "metadata": {},
   "source": [
    "Градиентный бустинг."
   ]
  },
  {
   "cell_type": "code",
   "execution_count": 14,
   "metadata": {},
   "outputs": [],
   "source": [
    "def comb_count(grid):\n",
    "    mult = 1\n",
    "    for i in range(len(param_grid)):\n",
    "        mult *= len(param_grid[i])\n",
    "    return mult"
   ]
  },
  {
   "cell_type": "code",
   "execution_count": 15,
   "metadata": {},
   "outputs": [
    {
     "name": "stdout",
     "output_type": "stream",
     "text": [
      "[216/216] ready\n",
      "Best valid score = 32.700052168009364\n",
      "\n",
      "\n",
      "Best Params:\n",
      " n_est=200\n",
      " learning_rate=0.05\n",
      " max_depth=5\n",
      " min_samples_split=2\n",
      " min_samples_leaf=2\n"
     ]
    }
   ],
   "source": [
    "from IPython.display import clear_output\n",
    "\n",
    "gbr = GradientBoostingRegressor()\n",
    "best_score = 1000\n",
    "best_params = {}\n",
    "learning_history = []\n",
    "\n",
    "param_grid = ([50, 100, 200], [0.05, 0.1], [2, 3, 4, 5], [2, 3, 4], [1, 2, 3])\n",
    "combinations = comb_count(param_grid)\n",
    "i = 1\n",
    "\n",
    "for params in itertools.product(*param_grid):\n",
    "    clear_output(wait=True)\n",
    "    n_est, learning_rate, max_depth, min_samples_split, min_samples_leaf = params\n",
    "    \n",
    "    print(f'[{i}/{combinations}] ready')\n",
    "    print(f'Best valid score = {best_score}')\n",
    "    i += 1\n",
    "    \n",
    "    gbr.set_params(n_estimators=n_est, random_state=0, max_depth=max_depth, learning_rate=learning_rate, \n",
    "                   min_samples_leaf=min_samples_leaf, min_samples_split=min_samples_split)\n",
    "    gbr.fit(features_train, target_train)\n",
    "    \n",
    "    rmse(target_train, gbr.predict(features_train), 'train', _print=False)\n",
    "    _score = rmse(target_valid, gbr.predict(features_valid), 'valid',  _print=False)\n",
    "    \n",
    "    learning_history.append(_score)\n",
    "    if(_score < best_score):\n",
    "        best_score = _score\n",
    "        best_params = params\n",
    "\n",
    "n_est, learning_rate, max_depth, min_samples_split, min_samples_leaf = best_params        \n",
    "print(f'\\n\\nBest Params:\\n n_est={n_est}\\n learning_rate={learning_rate}\\n'+ \n",
    "      f' max_depth={max_depth}\\n min_samples_split={min_samples_split}\\n min_samples_leaf={min_samples_leaf}')"
   ]
  },
  {
   "cell_type": "code",
   "execution_count": 16,
   "metadata": {},
   "outputs": [
    {
     "data": {
      "text/plain": [
       "Text(0, 0.5, 'RMSE')"
      ]
     },
     "execution_count": 16,
     "metadata": {},
     "output_type": "execute_result"
    },
    {
     "data": {
      "image/png": "[encoded data removed]",
      "text/plain": [
       "<Figure size 432x288 with 1 Axes>"
      ]
     },
     "metadata": {
      "needs_background": "light"
     },
     "output_type": "display_data"
    }
   ],
   "source": [
    "plt.plot(learning_history)\n",
    "plt.title('RMSE во время подбора параметров')\n",
    "plt.xlabel('fits')\n",
    "plt.ylabel('RMSE')"
   ]
  },
  {
   "cell_type": "markdown",
   "metadata": {},
   "source": [
    "Модель градиентного бустинга кажется мне наиболее удачной."
   ]
  },
  {
   "cell_type": "markdown",
   "metadata": {},
   "source": [
    "## Тестирование"
   ]
  },
  {
   "cell_type": "code",
   "execution_count": 17,
   "metadata": {},
   "outputs": [],
   "source": [
    "features_train = pd.concat([features_train, features_valid])\n",
    "target_train = pd.concat([target_train, target_valid])"
   ]
  },
  {
   "cell_type": "code",
   "execution_count": 18,
   "metadata": {},
   "outputs": [
    {
     "name": "stdout",
     "output_type": "stream",
     "text": [
      "RMSE модели = 15.27\n",
      "\n",
      "RMSE модели = 45.19\n",
      "\n"
     ]
    },
    {
     "data": {
      "text/plain": [
       "45.19216161358011"
      ]
     },
     "execution_count": 18,
     "metadata": {},
     "output_type": "execute_result"
    }
   ],
   "source": [
    "gbr.set_params(n_estimators=n_est, random_state=0, max_depth=max_depth, learning_rate=learning_rate, \n",
    "                   min_samples_leaf=min_samples_leaf, min_samples_split=min_samples_split)\n",
    "gbr.fit(features_train, target_train)\n",
    "rmse(target_train, gbr.predict(features_train))\n",
    "rmse(target_test, gbr.predict(features_test))"
   ]
  },
  {
   "cell_type": "markdown",
   "metadata": {},
   "source": [
    "**Вывод**"
   ]
  },
  {
   "cell_type": "markdown",
   "metadata": {},
   "source": [
    "В дневной динамике заказов можно проследить \"сезонность\". Люди больше пользуются такси ночью, а также в часы, когда необходимо ехать на работу. Так же необходимо отметить, что наблюдается тренд на увеличение количества заказов с самого начала по конец наблюдений.         \n",
    "         \n",
    "В качестве признаков для предсказания были использваны предыдущие значения заказов, скользящее среднее и параметры, связанные с датой.       \n",
    "Лучшие результаты по прогнозированию показала модель градиентного бустинга с RMSE на тестовой выборке равным `45.19`    \n",
    "Не смотря на это, RMSE модели все еще достаточно высокий, хоть и удовлетворяет заданным условиям."
   ]
  }
 ],
 "metadata": {
  "ExecuteTimeLog": [
   {
    "duration": 865,
    "start_time": "2021-06-23T15:21:57.867Z"
   },
   {
    "duration": 166,
    "start_time": "2021-06-23T15:22:15.109Z"
   },
   {
    "duration": 10,
    "start_time": "2021-06-23T15:22:18.671Z"
   },
   {
    "duration": 104,
    "start_time": "2021-06-23T15:22:30.554Z"
   },
   {
    "duration": 18,
    "start_time": "2021-06-23T15:24:19.723Z"
   },
   {
    "duration": 6,
    "start_time": "2021-06-23T15:24:23.161Z"
   },
   {
    "duration": 10,
    "start_time": "2021-06-23T15:24:26.915Z"
   },
   {
    "duration": 16,
    "start_time": "2021-06-23T15:24:45.565Z"
   },
   {
    "duration": 6739,
    "start_time": "2021-06-23T15:27:43.687Z"
   },
   {
    "duration": 4,
    "start_time": "2021-06-23T15:27:52.540Z"
   },
   {
    "duration": 88,
    "start_time": "2021-06-23T15:27:52.741Z"
   },
   {
    "duration": 10,
    "start_time": "2021-06-23T15:27:53.183Z"
   },
   {
    "duration": 13,
    "start_time": "2021-06-23T15:27:54.703Z"
   },
   {
    "duration": 21,
    "start_time": "2021-06-23T15:28:35.265Z"
   },
   {
    "duration": 21,
    "start_time": "2021-06-23T15:28:41.191Z"
   },
   {
    "duration": 16,
    "start_time": "2021-06-23T15:30:29.692Z"
   },
   {
    "duration": 298,
    "start_time": "2021-06-23T15:31:10.194Z"
   },
   {
    "duration": 422,
    "start_time": "2021-06-23T15:31:20.288Z"
   },
   {
    "duration": 10,
    "start_time": "2021-06-23T15:31:45.411Z"
   },
   {
    "duration": 586,
    "start_time": "2021-06-23T15:32:00.577Z"
   },
   {
    "duration": 294,
    "start_time": "2021-06-23T15:32:20.302Z"
   },
   {
    "duration": 301,
    "start_time": "2021-06-23T15:32:23.663Z"
   },
   {
    "duration": 285,
    "start_time": "2021-06-23T15:32:52.501Z"
   },
   {
    "duration": 306,
    "start_time": "2021-06-23T15:32:57.543Z"
   },
   {
    "duration": 6,
    "start_time": "2021-06-23T15:34:05.430Z"
   },
   {
    "duration": 15,
    "start_time": "2021-06-23T15:34:10.825Z"
   },
   {
    "duration": 21,
    "start_time": "2021-06-23T15:34:58.607Z"
   },
   {
    "duration": 332,
    "start_time": "2021-06-23T15:35:03.754Z"
   },
   {
    "duration": 21,
    "start_time": "2021-06-23T15:35:16.943Z"
   },
   {
    "duration": 476,
    "start_time": "2021-06-23T15:35:32.964Z"
   },
   {
    "duration": 276,
    "start_time": "2021-06-23T15:35:40.245Z"
   },
   {
    "duration": 278,
    "start_time": "2021-06-23T15:35:42.427Z"
   },
   {
    "duration": 21,
    "start_time": "2021-06-23T15:40:41.607Z"
   },
   {
    "duration": 9,
    "start_time": "2021-06-23T15:44:36.275Z"
   },
   {
    "duration": 16,
    "start_time": "2021-06-23T15:44:40.340Z"
   },
   {
    "duration": 4,
    "start_time": "2021-06-23T15:46:15.547Z"
   },
   {
    "duration": 10,
    "start_time": "2021-06-23T15:48:28.087Z"
   },
   {
    "duration": 14,
    "start_time": "2021-06-23T15:48:37.405Z"
   },
   {
    "duration": 14,
    "start_time": "2021-06-23T15:48:49.572Z"
   },
   {
    "duration": 7,
    "start_time": "2021-06-23T15:49:05.758Z"
   },
   {
    "duration": 7,
    "start_time": "2021-06-23T15:49:12.249Z"
   },
   {
    "duration": 32,
    "start_time": "2021-06-23T15:50:22.640Z"
   },
   {
    "duration": 33,
    "start_time": "2021-06-23T15:50:27.163Z"
   },
   {
    "duration": 28,
    "start_time": "2021-06-23T15:50:30.991Z"
   },
   {
    "duration": 28,
    "start_time": "2021-06-23T15:50:31.450Z"
   },
   {
    "duration": 27,
    "start_time": "2021-06-23T15:50:31.795Z"
   },
   {
    "duration": 28,
    "start_time": "2021-06-23T15:50:32.021Z"
   },
   {
    "duration": 28,
    "start_time": "2021-06-23T15:54:21.566Z"
   },
   {
    "duration": 17,
    "start_time": "2021-06-23T15:55:40.264Z"
   },
   {
    "duration": 4,
    "start_time": "2021-06-23T15:55:52.987Z"
   },
   {
    "duration": 152,
    "start_time": "2021-06-23T15:55:52.993Z"
   },
   {
    "duration": 9,
    "start_time": "2021-06-23T15:55:53.148Z"
   },
   {
    "duration": 13,
    "start_time": "2021-06-23T15:55:53.159Z"
   },
   {
    "duration": 23,
    "start_time": "2021-06-23T15:55:53.174Z"
   },
   {
    "duration": 11,
    "start_time": "2021-06-23T15:55:53.200Z"
   },
   {
    "duration": 285,
    "start_time": "2021-06-23T15:55:53.214Z"
   },
   {
    "duration": 36,
    "start_time": "2021-06-23T15:55:53.503Z"
   },
   {
    "duration": 43,
    "start_time": "2021-06-23T15:55:53.543Z"
   },
   {
    "duration": 8,
    "start_time": "2021-06-23T15:55:53.589Z"
   },
   {
    "duration": 21,
    "start_time": "2021-06-23T15:57:15.892Z"
   },
   {
    "duration": 22,
    "start_time": "2021-06-23T15:57:22.259Z"
   },
   {
    "duration": 4,
    "start_time": "2021-06-23T15:58:47.397Z"
   },
   {
    "duration": 111,
    "start_time": "2021-06-23T15:58:47.404Z"
   },
   {
    "duration": 10,
    "start_time": "2021-06-23T15:58:47.518Z"
   },
   {
    "duration": 16,
    "start_time": "2021-06-23T15:58:47.531Z"
   },
   {
    "duration": 41,
    "start_time": "2021-06-23T15:58:47.549Z"
   },
   {
    "duration": 9,
    "start_time": "2021-06-23T15:58:47.592Z"
   },
   {
    "duration": 292,
    "start_time": "2021-06-23T15:58:47.603Z"
   },
   {
    "duration": 34,
    "start_time": "2021-06-23T15:58:47.897Z"
   },
   {
    "duration": 11,
    "start_time": "2021-06-23T15:58:47.935Z"
   },
   {
    "duration": 46,
    "start_time": "2021-06-23T15:58:47.949Z"
   },
   {
    "duration": 12,
    "start_time": "2021-06-23T16:01:00.762Z"
   },
   {
    "duration": 13,
    "start_time": "2021-06-23T16:01:01.884Z"
   },
   {
    "duration": 21,
    "start_time": "2021-06-23T16:01:06.807Z"
   },
   {
    "duration": 344,
    "start_time": "2021-06-23T16:01:12.969Z"
   },
   {
    "duration": 22,
    "start_time": "2021-06-23T16:01:16.688Z"
   },
   {
    "duration": 21,
    "start_time": "2021-06-23T16:01:31.111Z"
   },
   {
    "duration": 15,
    "start_time": "2021-06-23T16:02:00.704Z"
   },
   {
    "duration": 23,
    "start_time": "2021-06-23T16:02:04.391Z"
   },
   {
    "duration": 15,
    "start_time": "2021-06-23T16:04:06.140Z"
   },
   {
    "duration": 4,
    "start_time": "2021-06-23T16:04:42.176Z"
   },
   {
    "duration": 4,
    "start_time": "2021-06-23T16:06:35.308Z"
   },
   {
    "duration": 51,
    "start_time": "2021-06-23T16:07:05.635Z"
   },
   {
    "duration": 103,
    "start_time": "2021-06-23T16:08:10.580Z"
   },
   {
    "duration": 640,
    "start_time": "2021-06-23T16:08:28.904Z"
   },
   {
    "duration": 103,
    "start_time": "2021-06-23T16:08:36.288Z"
   },
   {
    "duration": 92,
    "start_time": "2021-06-23T16:09:18.892Z"
   },
   {
    "duration": 4,
    "start_time": "2021-06-23T16:09:33.446Z"
   },
   {
    "duration": 4,
    "start_time": "2021-06-23T16:09:33.914Z"
   },
   {
    "duration": 122,
    "start_time": "2021-06-23T16:09:34.068Z"
   },
   {
    "duration": 19,
    "start_time": "2021-06-23T16:09:51.077Z"
   },
   {
    "duration": 5,
    "start_time": "2021-06-23T16:10:53.400Z"
   },
   {
    "duration": 1989,
    "start_time": "2021-06-23T16:12:19.888Z"
   },
   {
    "duration": 4,
    "start_time": "2021-06-23T16:13:01.810Z"
   },
   {
    "duration": 355,
    "start_time": "2021-06-23T16:17:56.243Z"
   },
   {
    "duration": 295,
    "start_time": "2021-06-23T16:18:02.957Z"
   },
   {
    "duration": 357,
    "start_time": "2021-06-23T16:18:08.080Z"
   },
   {
    "duration": 291,
    "start_time": "2021-06-23T16:18:43.760Z"
   },
   {
    "duration": 767118,
    "start_time": "2021-06-23T16:18:52.849Z"
   },
   {
    "duration": 284,
    "start_time": "2021-06-23T18:03:38.169Z"
   },
   {
    "duration": 5,
    "start_time": "2021-06-23T18:04:02.839Z"
   },
   {
    "duration": 1931,
    "start_time": "2021-06-23T18:04:08.997Z"
   },
   {
    "duration": 222,
    "start_time": "2021-06-23T18:04:26.872Z"
   },
   {
    "duration": 266,
    "start_time": "2021-06-23T18:04:30.500Z"
   },
   {
    "duration": 271,
    "start_time": "2021-06-23T18:04:33.479Z"
   },
   {
    "duration": 400,
    "start_time": "2021-06-23T18:05:12.276Z"
   },
   {
    "duration": 3127,
    "start_time": "2021-06-23T18:05:16.765Z"
   },
   {
    "duration": 3209,
    "start_time": "2021-06-23T18:05:24.989Z"
   },
   {
    "duration": 3084,
    "start_time": "2021-06-23T18:05:31.774Z"
   },
   {
    "duration": 2291,
    "start_time": "2021-06-23T18:05:40.425Z"
   },
   {
    "duration": 2085,
    "start_time": "2021-06-23T18:05:45.478Z"
   },
   {
    "duration": 2126,
    "start_time": "2021-06-23T18:05:54.599Z"
   },
   {
    "duration": 10224,
    "start_time": "2021-06-23T18:06:01.206Z"
   },
   {
    "duration": 3223,
    "start_time": "2021-06-23T18:06:36.928Z"
   },
   {
    "duration": 642,
    "start_time": "2021-06-23T18:10:08.177Z"
   },
   {
    "duration": 535,
    "start_time": "2021-06-23T18:10:11.177Z"
   },
   {
    "duration": 392,
    "start_time": "2021-06-23T18:10:14.159Z"
   },
   {
    "duration": 1244,
    "start_time": "2021-06-23T18:10:19.152Z"
   },
   {
    "duration": 1342,
    "start_time": "2021-06-23T18:10:24.045Z"
   },
   {
    "duration": 15552,
    "start_time": "2021-06-23T18:10:32.690Z"
   },
   {
    "duration": 2898,
    "start_time": "2021-06-23T18:11:05.214Z"
   },
   {
    "duration": 1388,
    "start_time": "2021-06-23T18:11:11.238Z"
   },
   {
    "duration": 13329,
    "start_time": "2021-06-23T18:11:16.189Z"
   },
   {
    "duration": 18847,
    "start_time": "2021-06-23T18:11:39.110Z"
   },
   {
    "duration": 3135,
    "start_time": "2021-06-23T18:12:02.605Z"
   },
   {
    "duration": 3037,
    "start_time": "2021-06-23T18:12:24.122Z"
   },
   {
    "duration": 2027,
    "start_time": "2021-06-23T18:12:32.027Z"
   },
   {
    "duration": 1324,
    "start_time": "2021-06-23T18:12:39.376Z"
   },
   {
    "duration": 2075,
    "start_time": "2021-06-23T18:12:46.155Z"
   },
   {
    "duration": 3121,
    "start_time": "2021-06-23T18:12:57.898Z"
   },
   {
    "duration": 18,
    "start_time": "2021-06-23T18:13:17.706Z"
   },
   {
    "duration": 8,
    "start_time": "2021-06-23T18:14:30.464Z"
   },
   {
    "duration": 3564,
    "start_time": "2021-06-23T18:14:33.994Z"
   },
   {
    "duration": 3446,
    "start_time": "2021-06-23T18:14:46.076Z"
   },
   {
    "duration": 3531,
    "start_time": "2021-06-23T18:14:55.166Z"
   },
   {
    "duration": 3377,
    "start_time": "2021-06-23T18:15:12.339Z"
   },
   {
    "duration": 3259,
    "start_time": "2021-06-23T18:15:17.115Z"
   },
   {
    "duration": 3504,
    "start_time": "2021-06-23T18:15:21.567Z"
   },
   {
    "duration": 3217,
    "start_time": "2021-06-23T18:15:27.942Z"
   },
   {
    "duration": 3423,
    "start_time": "2021-06-23T18:15:39.563Z"
   },
   {
    "duration": 3290,
    "start_time": "2021-06-23T18:15:44.463Z"
   },
   {
    "duration": 3423,
    "start_time": "2021-06-23T18:16:01.406Z"
   },
   {
    "duration": 7,
    "start_time": "2021-06-23T18:16:04.833Z"
   },
   {
    "duration": 7,
    "start_time": "2021-06-23T18:16:06.414Z"
   },
   {
    "duration": 171,
    "start_time": "2021-06-23T18:16:06.424Z"
   },
   {
    "duration": 14,
    "start_time": "2021-06-23T18:16:06.600Z"
   },
   {
    "duration": 24,
    "start_time": "2021-06-23T18:16:06.618Z"
   },
   {
    "duration": 23,
    "start_time": "2021-06-23T18:16:06.645Z"
   },
   {
    "duration": 11,
    "start_time": "2021-06-23T18:16:06.683Z"
   },
   {
    "duration": 292,
    "start_time": "2021-06-23T18:16:06.697Z"
   },
   {
    "duration": 34,
    "start_time": "2021-06-23T18:16:06.992Z"
   },
   {
    "duration": 15,
    "start_time": "2021-06-23T18:16:07.030Z"
   },
   {
    "duration": 35,
    "start_time": "2021-06-23T18:16:07.048Z"
   },
   {
    "duration": 99,
    "start_time": "2021-06-23T18:16:07.086Z"
   },
   {
    "duration": 1497,
    "start_time": "2021-06-23T18:16:07.191Z"
   },
   {
    "duration": 3173,
    "start_time": "2021-06-23T18:16:08.690Z"
   },
   {
    "duration": 18,
    "start_time": "2021-06-23T18:16:11.865Z"
   },
   {
    "duration": 3601,
    "start_time": "2021-06-23T18:16:11.886Z"
   },
   {
    "duration": 5,
    "start_time": "2021-06-23T18:16:43.248Z"
   },
   {
    "duration": 111,
    "start_time": "2021-06-23T18:16:43.256Z"
   },
   {
    "duration": 10,
    "start_time": "2021-06-23T18:16:43.370Z"
   },
   {
    "duration": 21,
    "start_time": "2021-06-23T18:16:43.383Z"
   },
   {
    "duration": 17,
    "start_time": "2021-06-23T18:16:43.407Z"
   },
   {
    "duration": 9,
    "start_time": "2021-06-23T18:16:43.427Z"
   },
   {
    "duration": 310,
    "start_time": "2021-06-23T18:16:43.439Z"
   },
   {
    "duration": 53,
    "start_time": "2021-06-23T18:16:43.752Z"
   },
   {
    "duration": 15,
    "start_time": "2021-06-23T18:16:43.810Z"
   },
   {
    "duration": 5,
    "start_time": "2021-06-23T18:16:43.829Z"
   },
   {
    "duration": 148,
    "start_time": "2021-06-23T18:16:43.836Z"
   },
   {
    "duration": 1512,
    "start_time": "2021-06-23T18:16:43.988Z"
   },
   {
    "duration": 1937,
    "start_time": "2021-06-23T18:16:45.502Z"
   },
   {
    "duration": 7,
    "start_time": "2021-06-23T18:16:47.441Z"
   },
   {
    "duration": 2357,
    "start_time": "2021-06-23T18:16:47.450Z"
   },
   {
    "duration": 5,
    "start_time": "2021-06-23T18:16:54.334Z"
   },
   {
    "duration": 107,
    "start_time": "2021-06-23T18:16:54.342Z"
   },
   {
    "duration": 9,
    "start_time": "2021-06-23T18:16:54.452Z"
   },
   {
    "duration": 17,
    "start_time": "2021-06-23T18:16:54.464Z"
   },
   {
    "duration": 17,
    "start_time": "2021-06-23T18:16:54.484Z"
   },
   {
    "duration": 9,
    "start_time": "2021-06-23T18:16:54.504Z"
   },
   {
    "duration": 303,
    "start_time": "2021-06-23T18:16:54.516Z"
   },
   {
    "duration": 35,
    "start_time": "2021-06-23T18:16:54.821Z"
   },
   {
    "duration": 35,
    "start_time": "2021-06-23T18:16:54.859Z"
   },
   {
    "duration": 13,
    "start_time": "2021-06-23T18:16:54.897Z"
   },
   {
    "duration": 77,
    "start_time": "2021-06-23T18:16:54.912Z"
   },
   {
    "duration": 1512,
    "start_time": "2021-06-23T18:16:54.992Z"
   },
   {
    "duration": 1960,
    "start_time": "2021-06-23T18:16:56.507Z"
   },
   {
    "duration": 14,
    "start_time": "2021-06-23T18:16:58.469Z"
   },
   {
    "duration": 2203,
    "start_time": "2021-06-23T18:16:58.486Z"
   },
   {
    "duration": 5,
    "start_time": "2021-06-23T18:17:08.740Z"
   },
   {
    "duration": 115,
    "start_time": "2021-06-23T18:17:08.748Z"
   },
   {
    "duration": 9,
    "start_time": "2021-06-23T18:17:08.866Z"
   },
   {
    "duration": 23,
    "start_time": "2021-06-23T18:17:08.878Z"
   },
   {
    "duration": 17,
    "start_time": "2021-06-23T18:17:08.903Z"
   },
   {
    "duration": 9,
    "start_time": "2021-06-23T18:17:08.923Z"
   },
   {
    "duration": 322,
    "start_time": "2021-06-23T18:17:08.934Z"
   },
   {
    "duration": 46,
    "start_time": "2021-06-23T18:17:09.258Z"
   },
   {
    "duration": 16,
    "start_time": "2021-06-23T18:17:09.308Z"
   },
   {
    "duration": 4,
    "start_time": "2021-06-23T18:17:09.327Z"
   },
   {
    "duration": 58,
    "start_time": "2021-06-23T18:17:09.333Z"
   },
   {
    "duration": 1493,
    "start_time": "2021-06-23T18:17:09.393Z"
   },
   {
    "duration": 274,
    "start_time": "2021-06-23T18:17:10.888Z"
   },
   {
    "duration": 5,
    "start_time": "2021-06-23T18:17:11.164Z"
   },
   {
    "duration": 337,
    "start_time": "2021-06-23T18:17:11.171Z"
   },
   {
    "duration": 5,
    "start_time": "2021-06-23T18:18:43.456Z"
   },
   {
    "duration": 97,
    "start_time": "2021-06-23T18:18:43.464Z"
   },
   {
    "duration": 9,
    "start_time": "2021-06-23T18:18:43.564Z"
   },
   {
    "duration": 21,
    "start_time": "2021-06-23T18:18:43.576Z"
   },
   {
    "duration": 15,
    "start_time": "2021-06-23T18:18:43.599Z"
   },
   {
    "duration": 8,
    "start_time": "2021-06-23T18:18:43.617Z"
   },
   {
    "duration": 283,
    "start_time": "2021-06-23T18:18:43.627Z"
   },
   {
    "duration": 34,
    "start_time": "2021-06-23T18:18:43.913Z"
   },
   {
    "duration": 39,
    "start_time": "2021-06-23T18:18:43.951Z"
   },
   {
    "duration": 4,
    "start_time": "2021-06-23T18:18:43.993Z"
   },
   {
    "duration": 93,
    "start_time": "2021-06-23T18:18:43.999Z"
   },
   {
    "duration": 1512,
    "start_time": "2021-06-23T18:18:44.095Z"
   },
   {
    "duration": 262,
    "start_time": "2021-06-23T18:18:47.812Z"
   },
   {
    "duration": 6,
    "start_time": "2021-06-23T18:18:57.403Z"
   },
   {
    "duration": 294,
    "start_time": "2021-06-23T18:18:57.954Z"
   },
   {
    "duration": 5,
    "start_time": "2021-06-23T18:19:04.961Z"
   },
   {
    "duration": 118,
    "start_time": "2021-06-23T18:19:04.969Z"
   },
   {
    "duration": 10,
    "start_time": "2021-06-23T18:19:05.090Z"
   },
   {
    "duration": 15,
    "start_time": "2021-06-23T18:19:05.103Z"
   },
   {
    "duration": 20,
    "start_time": "2021-06-23T18:19:05.120Z"
   },
   {
    "duration": 42,
    "start_time": "2021-06-23T18:19:05.143Z"
   },
   {
    "duration": 753,
    "start_time": "2021-06-23T18:19:05.187Z"
   },
   {
    "duration": 47,
    "start_time": "2021-06-23T18:19:05.943Z"
   },
   {
    "duration": 16,
    "start_time": "2021-06-23T18:19:05.993Z"
   },
   {
    "duration": 4,
    "start_time": "2021-06-23T18:19:06.011Z"
   },
   {
    "duration": 67,
    "start_time": "2021-06-23T18:19:06.018Z"
   },
   {
    "duration": 1463,
    "start_time": "2021-06-23T18:19:06.088Z"
   },
   {
    "duration": 393,
    "start_time": "2021-06-23T18:19:18.682Z"
   },
   {
    "duration": 7,
    "start_time": "2021-06-23T18:19:24.140Z"
   },
   {
    "duration": 413,
    "start_time": "2021-06-23T18:19:25.010Z"
   },
   {
    "duration": 1391,
    "start_time": "2021-06-23T18:22:53.500Z"
   },
   {
    "duration": 104,
    "start_time": "2021-06-23T18:22:54.894Z"
   },
   {
    "duration": 11,
    "start_time": "2021-06-23T18:22:55.001Z"
   },
   {
    "duration": 20,
    "start_time": "2021-06-23T18:22:55.015Z"
   },
   {
    "duration": 24,
    "start_time": "2021-06-23T18:22:55.038Z"
   },
   {
    "duration": 10,
    "start_time": "2021-06-23T18:22:55.083Z"
   },
   {
    "duration": 318,
    "start_time": "2021-06-23T18:22:55.095Z"
   },
   {
    "duration": 36,
    "start_time": "2021-06-23T18:22:55.415Z"
   },
   {
    "duration": 35,
    "start_time": "2021-06-23T18:22:55.454Z"
   },
   {
    "duration": 4,
    "start_time": "2021-06-23T18:22:55.492Z"
   },
   {
    "duration": 185,
    "start_time": "2021-06-23T18:22:55.499Z"
   },
   {
    "duration": 1459,
    "start_time": "2021-06-23T18:22:55.688Z"
   },
   {
    "duration": 417,
    "start_time": "2021-06-23T18:22:57.151Z"
   },
   {
    "duration": 14,
    "start_time": "2021-06-23T18:22:57.570Z"
   },
   {
    "duration": 455,
    "start_time": "2021-06-23T18:22:57.586Z"
   },
   {
    "duration": 1593,
    "start_time": "2021-06-24T09:16:30.998Z"
   },
   {
    "duration": 5,
    "start_time": "2021-06-24T09:17:05.051Z"
   },
   {
    "duration": 121,
    "start_time": "2021-06-24T09:17:05.058Z"
   },
   {
    "duration": 13,
    "start_time": "2021-06-24T09:17:05.183Z"
   },
   {
    "duration": 52,
    "start_time": "2021-06-24T09:17:05.198Z"
   },
   {
    "duration": 19,
    "start_time": "2021-06-24T09:17:05.253Z"
   },
   {
    "duration": 14,
    "start_time": "2021-06-24T09:17:05.274Z"
   },
   {
    "duration": 304,
    "start_time": "2021-06-24T09:17:05.290Z"
   },
   {
    "duration": 1853,
    "start_time": "2021-06-24T09:17:09.719Z"
   },
   {
    "duration": 5,
    "start_time": "2021-06-24T09:17:52.456Z"
   },
   {
    "duration": 107,
    "start_time": "2021-06-24T09:17:52.464Z"
   },
   {
    "duration": 9,
    "start_time": "2021-06-24T09:17:52.575Z"
   },
   {
    "duration": 20,
    "start_time": "2021-06-24T09:17:52.587Z"
   },
   {
    "duration": 25,
    "start_time": "2021-06-24T09:17:52.609Z"
   },
   {
    "duration": 8,
    "start_time": "2021-06-24T09:17:52.636Z"
   },
   {
    "duration": 1664,
    "start_time": "2021-06-24T09:17:54.165Z"
   },
   {
    "duration": 2326,
    "start_time": "2021-06-24T09:18:30.214Z"
   },
   {
    "duration": 1809,
    "start_time": "2021-06-24T09:18:41.657Z"
   },
   {
    "duration": 1656,
    "start_time": "2021-06-24T09:18:55.927Z"
   },
   {
    "duration": 1879,
    "start_time": "2021-06-24T09:19:03.961Z"
   },
   {
    "duration": 2377,
    "start_time": "2021-06-24T09:20:21.476Z"
   },
   {
    "duration": 1181,
    "start_time": "2021-06-24T09:20:36.593Z"
   },
   {
    "duration": 1861,
    "start_time": "2021-06-24T09:24:22.032Z"
   },
   {
    "duration": 37,
    "start_time": "2021-06-24T09:31:30.963Z"
   },
   {
    "duration": 4,
    "start_time": "2021-06-24T09:44:43.736Z"
   },
   {
    "duration": 339,
    "start_time": "2021-06-24T09:49:13.650Z"
   },
   {
    "duration": 5,
    "start_time": "2021-06-24T09:49:20.116Z"
   },
   {
    "duration": 83,
    "start_time": "2021-06-24T09:49:20.124Z"
   },
   {
    "duration": 10,
    "start_time": "2021-06-24T09:49:20.210Z"
   },
   {
    "duration": 33,
    "start_time": "2021-06-24T09:49:20.222Z"
   },
   {
    "duration": 20,
    "start_time": "2021-06-24T09:49:20.257Z"
   },
   {
    "duration": 9,
    "start_time": "2021-06-24T09:49:20.279Z"
   },
   {
    "duration": 1139,
    "start_time": "2021-06-24T09:49:20.290Z"
   },
   {
    "duration": 1662,
    "start_time": "2021-06-24T09:49:21.431Z"
   },
   {
    "duration": 118051,
    "start_time": "2021-06-24T09:47:25.046Z"
   },
   {
    "duration": 118051,
    "start_time": "2021-06-24T09:47:25.047Z"
   },
   {
    "duration": 118060,
    "start_time": "2021-06-24T09:47:25.048Z"
   },
   {
    "duration": 118061,
    "start_time": "2021-06-24T09:47:25.049Z"
   },
   {
    "duration": 118062,
    "start_time": "2021-06-24T09:47:25.050Z"
   },
   {
    "duration": 7,
    "start_time": "2021-06-24T09:50:07.218Z"
   },
   {
    "duration": 182,
    "start_time": "2021-06-24T09:50:07.228Z"
   },
   {
    "duration": 10,
    "start_time": "2021-06-24T09:50:07.412Z"
   },
   {
    "duration": 32,
    "start_time": "2021-06-24T09:50:07.425Z"
   },
   {
    "duration": 19,
    "start_time": "2021-06-24T09:50:07.459Z"
   },
   {
    "duration": 10,
    "start_time": "2021-06-24T09:50:07.481Z"
   },
   {
    "duration": 1119,
    "start_time": "2021-06-24T09:50:07.493Z"
   },
   {
    "duration": 1849,
    "start_time": "2021-06-24T09:50:08.615Z"
   },
   {
    "duration": 55,
    "start_time": "2021-06-24T09:50:10.466Z"
   },
   {
    "duration": 15,
    "start_time": "2021-06-24T09:50:10.524Z"
   },
   {
    "duration": 3,
    "start_time": "2021-06-24T09:50:10.541Z"
   },
   {
    "duration": 164,
    "start_time": "2021-06-24T09:50:10.547Z"
   },
   {
    "duration": 1597,
    "start_time": "2021-06-24T09:50:10.713Z"
   },
   {
    "duration": 102981,
    "start_time": "2021-06-24T09:50:16.703Z"
   },
   {
    "duration": 6,
    "start_time": "2021-06-24T09:52:45.779Z"
   },
   {
    "duration": 6,
    "start_time": "2021-06-24T09:52:58.604Z"
   },
   {
    "duration": 6,
    "start_time": "2021-06-24T09:53:08.049Z"
   },
   {
    "duration": 4775,
    "start_time": "2021-06-24T09:53:08.420Z"
   },
   {
    "duration": 747,
    "start_time": "2021-06-24T09:54:10.852Z"
   },
   {
    "duration": 5,
    "start_time": "2021-06-24T09:56:13.664Z"
   },
   {
    "duration": 68,
    "start_time": "2021-06-24T09:56:13.672Z"
   },
   {
    "duration": 9,
    "start_time": "2021-06-24T09:56:13.743Z"
   },
   {
    "duration": 19,
    "start_time": "2021-06-24T09:56:13.755Z"
   },
   {
    "duration": 37,
    "start_time": "2021-06-24T09:56:13.776Z"
   },
   {
    "duration": 8,
    "start_time": "2021-06-24T09:56:13.815Z"
   },
   {
    "duration": 1119,
    "start_time": "2021-06-24T09:56:13.825Z"
   },
   {
    "duration": 1824,
    "start_time": "2021-06-24T09:56:14.946Z"
   },
   {
    "duration": 53,
    "start_time": "2021-06-24T09:56:16.775Z"
   },
   {
    "duration": 15,
    "start_time": "2021-06-24T09:56:16.830Z"
   },
   {
    "duration": 3,
    "start_time": "2021-06-24T09:56:16.848Z"
   },
   {
    "duration": 61,
    "start_time": "2021-06-24T09:56:16.853Z"
   },
   {
    "duration": 1718,
    "start_time": "2021-06-24T09:56:16.918Z"
   },
   {
    "duration": 4,
    "start_time": "2021-06-24T09:56:51.112Z"
   },
   {
    "duration": 4,
    "start_time": "2021-06-24T09:56:57.312Z"
   },
   {
    "duration": 4,
    "start_time": "2021-06-24T09:57:00.646Z"
   },
   {
    "duration": 4,
    "start_time": "2021-06-24T09:57:03.896Z"
   },
   {
    "duration": 4,
    "start_time": "2021-06-24T09:57:08.980Z"
   },
   {
    "duration": 4,
    "start_time": "2021-06-24T09:57:16.137Z"
   },
   {
    "duration": 4,
    "start_time": "2021-06-24T09:58:44.236Z"
   },
   {
    "duration": 135,
    "start_time": "2021-06-24T10:05:16.899Z"
   },
   {
    "duration": 116,
    "start_time": "2021-06-24T10:05:20.685Z"
   },
   {
    "duration": 324,
    "start_time": "2021-06-24T10:05:25.700Z"
   },
   {
    "duration": 349,
    "start_time": "2021-06-24T10:05:30.067Z"
   },
   {
    "duration": 5,
    "start_time": "2021-06-24T10:05:33.711Z"
   },
   {
    "duration": 69,
    "start_time": "2021-06-24T10:05:41.303Z"
   },
   {
    "duration": 5,
    "start_time": "2021-06-24T10:06:02.344Z"
   },
   {
    "duration": 779,
    "start_time": "2021-06-24T10:06:11.491Z"
   },
   {
    "duration": 7,
    "start_time": "2021-06-24T10:06:40.643Z"
   },
   {
    "duration": 6,
    "start_time": "2021-06-24T10:06:49.810Z"
   },
   {
    "duration": 338,
    "start_time": "2021-06-24T10:06:56.618Z"
   },
   {
    "duration": 7,
    "start_time": "2021-06-24T10:07:02.581Z"
   },
   {
    "duration": 6,
    "start_time": "2021-06-24T10:07:05.592Z"
   },
   {
    "duration": 42,
    "start_time": "2021-06-24T10:07:20.132Z"
   },
   {
    "duration": 346,
    "start_time": "2021-06-24T10:07:28.988Z"
   },
   {
    "duration": 6,
    "start_time": "2021-06-24T10:07:42.438Z"
   },
   {
    "duration": 357,
    "start_time": "2021-06-24T10:08:19.552Z"
   },
   {
    "duration": 6,
    "start_time": "2021-06-24T10:08:32.638Z"
   },
   {
    "duration": 8,
    "start_time": "2021-06-24T10:09:27.180Z"
   },
   {
    "duration": 4,
    "start_time": "2021-06-24T10:09:32.126Z"
   },
   {
    "duration": 511863,
    "start_time": "2021-06-24T10:10:34.405Z"
   },
   {
    "duration": 6,
    "start_time": "2021-06-24T10:19:12.353Z"
   },
   {
    "duration": 6,
    "start_time": "2021-06-24T10:19:25.715Z"
   },
   {
    "duration": 338,
    "start_time": "2021-06-24T10:19:26.819Z"
   },
   {
    "duration": 896,
    "start_time": "2021-06-24T10:19:59.348Z"
   },
   {
    "duration": 48192,
    "start_time": "2021-06-24T10:20:25.087Z"
   },
   {
    "duration": 5,
    "start_time": "2021-06-24T10:21:52.945Z"
   },
   {
    "duration": 25578,
    "start_time": "2021-06-24T10:23:31.136Z"
   },
   {
    "duration": 42399,
    "start_time": "2021-06-24T10:24:12.318Z"
   },
   {
    "duration": 5,
    "start_time": "2021-06-24T10:24:56.787Z"
   },
   {
    "duration": 119,
    "start_time": "2021-06-24T10:24:56.795Z"
   },
   {
    "duration": 9,
    "start_time": "2021-06-24T10:24:56.917Z"
   },
   {
    "duration": 15,
    "start_time": "2021-06-24T10:24:56.929Z"
   },
   {
    "duration": 20,
    "start_time": "2021-06-24T10:24:56.946Z"
   },
   {
    "duration": 9,
    "start_time": "2021-06-24T10:24:56.968Z"
   },
   {
    "duration": 1133,
    "start_time": "2021-06-24T10:24:56.980Z"
   },
   {
    "duration": 1720,
    "start_time": "2021-06-24T10:24:58.115Z"
   },
   {
    "duration": 38,
    "start_time": "2021-06-24T10:24:59.838Z"
   },
   {
    "duration": 32,
    "start_time": "2021-06-24T10:24:59.879Z"
   },
   {
    "duration": 4,
    "start_time": "2021-06-24T10:24:59.913Z"
   },
   {
    "duration": 93,
    "start_time": "2021-06-24T10:24:59.919Z"
   },
   {
    "duration": 1659,
    "start_time": "2021-06-24T10:25:00.016Z"
   },
   {
    "duration": 4,
    "start_time": "2021-06-24T10:25:01.678Z"
   },
   {
    "duration": 316391,
    "start_time": "2021-06-24T10:25:05.866Z"
   },
   {
    "duration": 6,
    "start_time": "2021-06-24T10:35:34.777Z"
   },
   {
    "duration": 6,
    "start_time": "2021-06-24T10:35:38.029Z"
   },
   {
    "duration": 378,
    "start_time": "2021-06-24T10:35:38.362Z"
   },
   {
    "duration": 5,
    "start_time": "2021-06-24T10:35:44.328Z"
   },
   {
    "duration": 76,
    "start_time": "2021-06-24T10:35:44.335Z"
   },
   {
    "duration": 9,
    "start_time": "2021-06-24T10:35:44.414Z"
   },
   {
    "duration": 16,
    "start_time": "2021-06-24T10:35:44.425Z"
   },
   {
    "duration": 17,
    "start_time": "2021-06-24T10:35:44.443Z"
   },
   {
    "duration": 8,
    "start_time": "2021-06-24T10:35:44.462Z"
   },
   {
    "duration": 1106,
    "start_time": "2021-06-24T10:35:44.509Z"
   },
   {
    "duration": 1764,
    "start_time": "2021-06-24T10:35:45.617Z"
   },
   {
    "duration": 49,
    "start_time": "2021-06-24T10:35:47.385Z"
   },
   {
    "duration": 16,
    "start_time": "2021-06-24T10:35:47.437Z"
   },
   {
    "duration": 4,
    "start_time": "2021-06-24T10:35:47.456Z"
   },
   {
    "duration": 147,
    "start_time": "2021-06-24T10:35:47.463Z"
   },
   {
    "duration": 1543,
    "start_time": "2021-06-24T10:35:47.614Z"
   },
   {
    "duration": 496,
    "start_time": "2021-06-24T10:36:07.281Z"
   },
   {
    "duration": 320264,
    "start_time": "2021-06-24T10:36:14.587Z"
   },
   {
    "duration": 244,
    "start_time": "2021-06-24T10:43:24.270Z"
   },
   {
    "duration": 268,
    "start_time": "2021-06-24T10:44:27.780Z"
   },
   {
    "duration": 254,
    "start_time": "2021-06-24T10:45:10.924Z"
   },
   {
    "duration": 78377,
    "start_time": "2021-06-24T10:47:12.131Z"
   },
   {
    "duration": 286,
    "start_time": "2021-06-24T10:48:30.510Z"
   },
   {
    "duration": 264,
    "start_time": "2021-06-24T10:48:47.385Z"
   },
   {
    "duration": 6,
    "start_time": "2021-06-24T10:49:03.771Z"
   },
   {
    "duration": 1042,
    "start_time": "2021-06-24T10:49:04.123Z"
   },
   {
    "duration": 1425,
    "start_time": "2021-06-24T10:51:52.743Z"
   },
   {
    "duration": 88,
    "start_time": "2021-06-24T10:51:54.171Z"
   },
   {
    "duration": 13,
    "start_time": "2021-06-24T10:51:54.263Z"
   },
   {
    "duration": 38,
    "start_time": "2021-06-24T10:51:54.280Z"
   },
   {
    "duration": 18,
    "start_time": "2021-06-24T10:51:54.321Z"
   },
   {
    "duration": 9,
    "start_time": "2021-06-24T10:51:54.341Z"
   },
   {
    "duration": 1110,
    "start_time": "2021-06-24T10:51:54.352Z"
   },
   {
    "duration": 1924,
    "start_time": "2021-06-24T10:51:55.466Z"
   },
   {
    "duration": 59,
    "start_time": "2021-06-24T10:51:57.394Z"
   },
   {
    "duration": 121,
    "start_time": "2021-06-24T10:51:57.456Z"
   },
   {
    "duration": 4,
    "start_time": "2021-06-24T10:51:57.579Z"
   },
   {
    "duration": 38,
    "start_time": "2021-06-24T10:51:57.586Z"
   },
   {
    "duration": 1591,
    "start_time": "2021-06-24T10:51:57.713Z"
   },
   {
    "duration": 5,
    "start_time": "2021-06-24T10:51:59.309Z"
   },
   {
    "duration": 76662,
    "start_time": "2021-06-24T10:51:59.316Z"
   },
   {
    "duration": 302,
    "start_time": "2021-06-24T10:53:15.980Z"
   },
   {
    "duration": 6,
    "start_time": "2021-06-24T10:53:16.285Z"
   },
   {
    "duration": 1106,
    "start_time": "2021-06-24T10:53:16.309Z"
   }
  ],
  "kernelspec": {
   "display_name": "Python 3",
   "language": "python",
   "name": "python3"
  },
  "language_info": {
   "codemirror_mode": {
    "name": "ipython",
    "version": 3
   },
   "file_extension": ".py",
   "mimetype": "text/x-python",
   "name": "python",
   "nbconvert_exporter": "python",
   "pygments_lexer": "ipython3",
   "version": "3.8.3"
  },
  "toc": {
   "base_numbering": 1,
   "nav_menu": {},
   "number_sections": true,
   "sideBar": true,
   "skip_h1_title": true,
   "title_cell": "Содержание",
   "title_sidebar": "Contents",
   "toc_cell": true,
   "toc_position": {},
   "toc_section_display": true,
   "toc_window_display": false
  }
 },
 "nbformat": 4,
 "nbformat_minor": 2
}
