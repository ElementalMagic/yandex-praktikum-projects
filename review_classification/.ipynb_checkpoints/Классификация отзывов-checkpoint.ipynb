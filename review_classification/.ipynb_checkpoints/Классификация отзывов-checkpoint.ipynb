{
 "cells": [
  {
   "cell_type": "markdown",
   "metadata": {
    "toc": true
   },
   "source": [
    "<h1>Содержание<span class=\"tocSkip\"></span></h1>\n",
    "<div class=\"toc\"><ul class=\"toc-item\"><li><span><a href=\"#Подготовка\" data-toc-modified-id=\"Подготовка-1\"><span class=\"toc-item-num\">1&nbsp;&nbsp;</span>Подготовка</a></span></li><li><span><a href=\"#Обучение\" data-toc-modified-id=\"Обучение-2\"><span class=\"toc-item-num\">2&nbsp;&nbsp;</span>Обучение</a></span></li><li><span><a href=\"#Выводы\" data-toc-modified-id=\"Выводы-3\"><span class=\"toc-item-num\">3&nbsp;&nbsp;</span>Выводы</a></span></li></ul></div>"
   ]
  },
  {
   "cell_type": "markdown",
   "metadata": {},
   "source": [
    "# Анализ токсичности комментариев с GloVe"
   ]
  },
  {
   "cell_type": "markdown",
   "metadata": {},
   "source": [
    "Ускорить модерацию комментариев в сообществе, автоматизировав оценку их токсичности.\n",
    "Обучить модель классифицировать комментарии на позитивные и негативные.\n",
    "\n",
    "**Описание данных**\n",
    "\n",
    "Данные находятся в файле `toxic_comments.csv`. Столбец *text* в нём содержит текст комментария, а *toxic* — целевой признак."
   ]
  },
  {
   "cell_type": "markdown",
   "metadata": {},
   "source": [
    "## Подготовка"
   ]
  },
  {
   "cell_type": "code",
   "execution_count": 6,
   "metadata": {},
   "outputs": [],
   "source": [
    "import numpy as np\n",
    "import pandas as pd\n",
    "import os\n",
    "\n",
    "from nltk.corpus import stopwords\n",
    "from nltk.tokenize import word_tokenize\n",
    "from sklearn.model_selection import train_test_split\n",
    "from sklearn.metrics import accuracy_score, f1_score\n",
    "\n",
    "import matplotlib.pyplot as plt\n",
    "%matplotlib inline\n",
    "\n",
    "from keras.preprocessing.text import Tokenizer\n",
    "from keras.preprocessing.sequence import pad_sequences\n",
    "from keras import backend as K\n",
    "from keras import layers, Input\n",
    "from keras.models import Model"
   ]
  },
  {
   "cell_type": "code",
   "execution_count": 7,
   "metadata": {
    "scrolled": true
   },
   "outputs": [
    {
     "data": {
      "text/html": [
       "<div>\n",
       "<style scoped>\n",
       "    .dataframe tbody tr th:only-of-type {\n",
       "        vertical-align: middle;\n",
       "    }\n",
       "\n",
       "    .dataframe tbody tr th {\n",
       "        vertical-align: top;\n",
       "    }\n",
       "\n",
       "    .dataframe thead th {\n",
       "        text-align: right;\n",
       "    }\n",
       "</style>\n",
       "<table border=\"1\" class=\"dataframe\">\n",
       "  <thead>\n",
       "    <tr style=\"text-align: right;\">\n",
       "      <th></th>\n",
       "      <th>text</th>\n",
       "      <th>toxic</th>\n",
       "    </tr>\n",
       "  </thead>\n",
       "  <tbody>\n",
       "    <tr>\n",
       "      <th>0</th>\n",
       "      <td>Explanation\\nWhy the edits made under my usern...</td>\n",
       "      <td>0</td>\n",
       "    </tr>\n",
       "    <tr>\n",
       "      <th>1</th>\n",
       "      <td>D'aww! He matches this background colour I'm s...</td>\n",
       "      <td>0</td>\n",
       "    </tr>\n",
       "    <tr>\n",
       "      <th>2</th>\n",
       "      <td>Hey man, I'm really not trying to edit war. It...</td>\n",
       "      <td>0</td>\n",
       "    </tr>\n",
       "    <tr>\n",
       "      <th>3</th>\n",
       "      <td>\"\\nMore\\nI can't make any real suggestions on ...</td>\n",
       "      <td>0</td>\n",
       "    </tr>\n",
       "    <tr>\n",
       "      <th>4</th>\n",
       "      <td>You, sir, are my hero. Any chance you remember...</td>\n",
       "      <td>0</td>\n",
       "    </tr>\n",
       "  </tbody>\n",
       "</table>\n",
       "</div>"
      ],
      "text/plain": [
       "                                                text  toxic\n",
       "0  Explanation\\nWhy the edits made under my usern...      0\n",
       "1  D'aww! He matches this background colour I'm s...      0\n",
       "2  Hey man, I'm really not trying to edit war. It...      0\n",
       "3  \"\\nMore\\nI can't make any real suggestions on ...      0\n",
       "4  You, sir, are my hero. Any chance you remember...      0"
      ]
     },
     "execution_count": 7,
     "metadata": {},
     "output_type": "execute_result"
    }
   ],
   "source": [
    "_path = ''\n",
    "df = pd.read_csv(_path + '/datasets/toxic_comments.csv')\n",
    "df.head()"
   ]
  },
  {
   "cell_type": "code",
   "execution_count": 8,
   "metadata": {},
   "outputs": [
    {
     "name": "stdout",
     "output_type": "stream",
     "text": [
      "<class 'pandas.core.frame.DataFrame'>\n",
      "RangeIndex: 159571 entries, 0 to 159570\n",
      "Data columns (total 2 columns):\n",
      " #   Column  Non-Null Count   Dtype \n",
      "---  ------  --------------   ----- \n",
      " 0   text    159571 non-null  object\n",
      " 1   toxic   159571 non-null  int64 \n",
      "dtypes: int64(1), object(1)\n",
      "memory usage: 2.4+ MB\n"
     ]
    }
   ],
   "source": [
    "df.info()"
   ]
  },
  {
   "cell_type": "markdown",
   "metadata": {},
   "source": [
    "На диаграмме ниже видно, что в выборке преобладают нетоксичные комментарии."
   ]
  },
  {
   "cell_type": "code",
   "execution_count": 9,
   "metadata": {},
   "outputs": [
    {
     "data": {
      "image/png": "[encoded data removed]",
      "text/plain": [
       "<Figure size 432x288 with 1 Axes>"
      ]
     },
     "metadata": {
      "needs_background": "light"
     },
     "output_type": "display_data"
    }
   ],
   "source": [
    "df['toxic'].value_counts().plot(kind='bar')\n",
    "plt.title('Баланс классов')\n",
    "plt.xlabel('Toxic')\n",
    "plt.ylabel('Count');"
   ]
  },
  {
   "cell_type": "markdown",
   "metadata": {},
   "source": [
    "Удалим стоп-слова из комментариев."
   ]
  },
  {
   "cell_type": "code",
   "execution_count": 10,
   "metadata": {},
   "outputs": [],
   "source": [
    "stop_words = set(stopwords.words('english'))\n",
    "\n",
    "def delete_stop_words(row):\n",
    "    text = row['text']\n",
    "    tokens = word_tokenize(text, language=\"english\")\n",
    "    filtered_tokens = []\n",
    "    for token in tokens:\n",
    "        if token not in stop_words:\n",
    "            filtered_tokens.append(token)\n",
    "    return ' '.join(filtered_tokens)"
   ]
  },
  {
   "cell_type": "code",
   "execution_count": 11,
   "metadata": {},
   "outputs": [],
   "source": [
    "df['text'] = df.apply(delete_stop_words, axis=1)"
   ]
  },
  {
   "cell_type": "markdown",
   "metadata": {},
   "source": [
    "Введем новые списковые переменные."
   ]
  },
  {
   "cell_type": "code",
   "execution_count": 12,
   "metadata": {},
   "outputs": [],
   "source": [
    "texts = df['text'].tolist()\n",
    "labels = df['toxic'].tolist()"
   ]
  },
  {
   "cell_type": "markdown",
   "metadata": {},
   "source": [
    "Токенизируем текст с ограничениями:\n",
    "* Каждый комментарий ограничен 150 словами;\n",
    "* В словаре будут 10.000 самых часто встречающихся слов."
   ]
  },
  {
   "cell_type": "code",
   "execution_count": 13,
   "metadata": {},
   "outputs": [
    {
     "name": "stdout",
     "output_type": "stream",
     "text": [
      "Found 194213 unique tokens.\n",
      "Shape of data tensor: (159571, 150)\n",
      "Shape of label tensor: (159571,)\n"
     ]
    }
   ],
   "source": [
    "maxlen = 150 # Отсечение остатка отзывов после 100-го слова\n",
    "max_words = 10000 # Рассмотрение только 10 000 наиболее часто используемых слов\n",
    "tokenizer = Tokenizer(num_words=max_words)\n",
    "tokenizer.fit_on_texts(texts)\n",
    "sequences = tokenizer.texts_to_sequences(texts)\n",
    "word_index = tokenizer.word_index\n",
    "print('Found %s unique tokens.' % len(word_index))\n",
    "data = pad_sequences(sequences, maxlen=maxlen)\n",
    "labels = np.asarray(labels)\n",
    "print('Shape of data tensor:', data.shape)\n",
    "print('Shape of label tensor:', labels.shape)"
   ]
  },
  {
   "cell_type": "markdown",
   "metadata": {},
   "source": [
    "**Вывод**\n",
    "\n",
    "Классы сильно дисбалансированы, но можно будет стратифицировать выборки.    \n",
    "Были удалены стоп-слова.     \n",
    "Текст был токенизирован с ограничениями:\n",
    "* Каждый комментарий ограничен 150 словами;\n",
    "* В словаре будут 10.000 самых часто встречающихся слов."
   ]
  },
  {
   "cell_type": "markdown",
   "metadata": {},
   "source": [
    "## Обучение"
   ]
  },
  {
   "cell_type": "markdown",
   "metadata": {},
   "source": [
    "Разобьем выборку на обучающую и валидационную в соотношении 9:1 (стратифицируя по целевому признаку)"
   ]
  },
  {
   "cell_type": "code",
   "execution_count": 14,
   "metadata": {},
   "outputs": [],
   "source": [
    "x_train, x_val, y_train, y_val = train_test_split(data, labels, test_size=0.1, random_state=12345, stratify=labels)"
   ]
  },
  {
   "cell_type": "markdown",
   "metadata": {},
   "source": [
    "Вместо BERT я решил попробовать модель `GloVe`. Была взята преодобученная модель с размерностью векторного пространства признаков равной 100."
   ]
  },
  {
   "cell_type": "markdown",
   "metadata": {},
   "source": [
    "Модель GloVe похожа на Word2vec, тоже создает эмбединг векторы для слов, но сильно упирает на совместную статистику встречаемости слов.      \n",
    "\n",
    "Отличие модели GloVe от Bert в том, что она является контекстно независимой и генерирует один эмбединг вектор, а Bert может генерировать различные эмбединги для слова в зависимости от его контекста. "
   ]
  },
  {
   "cell_type": "markdown",
   "metadata": {},
   "source": [
    "Сохраним в словарь `embeddings_index` векторы слов, полученные с помощью предобученной модели GloVe."
   ]
  },
  {
   "cell_type": "code",
   "execution_count": 15,
   "metadata": {},
   "outputs": [
    {
     "name": "stdout",
     "output_type": "stream",
     "text": [
      "Found 400000 word vectors.\n"
     ]
    }
   ],
   "source": [
    "glove_dir = _path + '/datasets/glove.6B'\n",
    "embeddings_index = {}\n",
    "f = open(os.path.join(glove_dir, 'glove.6B.100d.txt'), encoding='utf8')\n",
    "for line in f:\n",
    "    values = line.split()\n",
    "    word = values[0]\n",
    "    coefs = np.asarray(values[1:], dtype='float32')\n",
    "    embeddings_index[word] = coefs\n",
    "f.close()\n",
    "print('Found %s word vectors.' % len(embeddings_index))"
   ]
  },
  {
   "cell_type": "markdown",
   "metadata": {},
   "source": [
    "Создание матрицы `embedding`: создаем матрицу `embedding_matrix` с формой (10.000, 100), где каждая строчка - это одно уникальное слова из словаря, а столбцы этой строчки образуют вектор данного слова.    \n",
    "Заполнение матрицы происходит при проходе по циклу и поиска нужно слова в словаре `embeddings_index`."
   ]
  },
  {
   "cell_type": "code",
   "execution_count": 16,
   "metadata": {},
   "outputs": [],
   "source": [
    "embedding_dim = 100\n",
    "embedding_matrix = np.zeros((max_words, embedding_dim))\n",
    "for word, i in word_index.items():\n",
    "    if i < max_words:\n",
    "        embedding_vector = embeddings_index.get(word)\n",
    "        if embedding_vector is not None:\n",
    "            embedding_matrix[i] = embedding_vector"
   ]
  },
  {
   "cell_type": "markdown",
   "metadata": {},
   "source": [
    "Для расчета F1-меры во время обучения, необходимо также рассчитать `recall` и `precision`. Объявим три функции, которые будут рассчитывать полноту, точность или F1-меру при передаче, в качестве параметров, истинные ответы и предсказания модели."
   ]
  },
  {
   "cell_type": "code",
   "execution_count": 17,
   "metadata": {},
   "outputs": [],
   "source": [
    "def recall_m(y_true, y_pred):\n",
    "    true_positives = K.sum(K.round(K.clip(y_true * y_pred, 0, 1)))\n",
    "    possible_positives = K.sum(K.round(K.clip(y_true, 0, 1)))\n",
    "    recall = true_positives / (possible_positives + K.epsilon())\n",
    "    return recall\n",
    "\n",
    "def precision_m(y_true, y_pred):\n",
    "    true_positives = K.sum(K.round(K.clip(y_true * y_pred, 0, 1)))\n",
    "    predicted_positives = K.sum(K.round(K.clip(y_pred, 0, 1)))\n",
    "    precision = true_positives / (predicted_positives + K.epsilon())\n",
    "    return precision\n",
    "\n",
    "def f1_m(y_true, y_pred):\n",
    "    precision = precision_m(y_true, y_pred)\n",
    "    recall = recall_m(y_true, y_pred)\n",
    "    return 2*((precision*recall)/(precision+recall+K.epsilon()))"
   ]
  },
  {
   "cell_type": "markdown",
   "metadata": {},
   "source": [
    "Небольшая нейронная сеть. В основе LSTM слои и 3 ветви. Идея получить то же, что делает сеть `Inception` для сверточных нейросетей, только с рекуррентными. \n",
    "\n",
    "Каждая ветвь обладает различным уровнем нейронов и слоев, чтобы (*в теории*) улавливать признаки различного уровня абстракции. Каждая ветвь заканчивается слоем прореживания, чтобы уменьшить эффект переобучаемости и увеличить репрезентативность результатов."
   ]
  },
  {
   "cell_type": "code",
   "execution_count": 18,
   "metadata": {
    "scrolled": true
   },
   "outputs": [
    {
     "name": "stdout",
     "output_type": "stream",
     "text": [
      "Model: \"model\"\n",
      "__________________________________________________________________________________________________\n",
      "Layer (type)                    Output Shape         Param #     Connected to                     \n",
      "==================================================================================================\n",
      "texts (InputLayer)              [(None, None)]       0                                            \n",
      "__________________________________________________________________________________________________\n",
      "embedding (Embedding)           (None, None, 100)    1000000     texts[0][0]                      \n",
      "__________________________________________________________________________________________________\n",
      "lstm_3 (LSTM)                   (None, None, 128)    117248      embedding[0][0]                  \n",
      "__________________________________________________________________________________________________\n",
      "lstm_1 (LSTM)                   (None, None, 32)     17024       embedding[0][0]                  \n",
      "__________________________________________________________________________________________________\n",
      "lstm_4 (LSTM)                   (None, None, 64)     49408       lstm_3[0][0]                     \n",
      "__________________________________________________________________________________________________\n",
      "lstm (LSTM)                     (None, 16)           7488        embedding[0][0]                  \n",
      "__________________________________________________________________________________________________\n",
      "lstm_2 (LSTM)                   (None, 16)           3136        lstm_1[0][0]                     \n",
      "__________________________________________________________________________________________________\n",
      "lstm_5 (LSTM)                   (None, 32)           12416       lstm_4[0][0]                     \n",
      "__________________________________________________________________________________________________\n",
      "dropout (Dropout)               (None, 16)           0           lstm[0][0]                       \n",
      "__________________________________________________________________________________________________\n",
      "dropout_1 (Dropout)             (None, 16)           0           lstm_2[0][0]                     \n",
      "__________________________________________________________________________________________________\n",
      "dropout_2 (Dropout)             (None, 32)           0           lstm_5[0][0]                     \n",
      "__________________________________________________________________________________________________\n",
      "concatenate (Concatenate)       (None, 64)           0           dropout[0][0]                    \n",
      "                                                                 dropout_1[0][0]                  \n",
      "                                                                 dropout_2[0][0]                  \n",
      "__________________________________________________________________________________________________\n",
      "product (Dense)                 (None, 1)            65          concatenate[0][0]                \n",
      "==================================================================================================\n",
      "Total params: 1,206,785\n",
      "Trainable params: 1,206,785\n",
      "Non-trainable params: 0\n",
      "__________________________________________________________________________________________________\n"
     ]
    }
   ],
   "source": [
    "text_input = Input(shape=(None, ), dtype='int32', name='texts')\n",
    "embedded_posts = layers.Embedding(max_words, embedding_dim)(text_input)\n",
    "\n",
    "x_1 = layers.LSTM(16)(embedded_posts)\n",
    "x_1 = layers.Dropout(0.5)(x_1)\n",
    "\n",
    "\n",
    "x_2 = layers.LSTM(32, return_sequences=True)(embedded_posts)\n",
    "x_2 = layers.LSTM(16)(x_2)\n",
    "x_2 = layers.Dropout(0.5)(x_2)\n",
    "\n",
    "\n",
    "x_3 = layers.LSTM(128, return_sequences=True)(embedded_posts)\n",
    "x_3 = layers.LSTM(64, return_sequences=True)(x_3)\n",
    "x_3 = layers.LSTM(32)(x_3)\n",
    "x_3 = layers.Dropout(0.5)(x_3)\n",
    "\n",
    "concatted = layers.concatenate([x_1, x_2, x_3], axis=-1)\n",
    "product_prediction = layers.Dense(1, name='product', activation='sigmoid')(concatted)\n",
    "model = Model(text_input, product_prediction)\n",
    "model.summary()"
   ]
  },
  {
   "cell_type": "markdown",
   "metadata": {},
   "source": [
    "Веса, полученные от предобученной модели GloVe изменять не нужно, поэтому их нужно заморозить."
   ]
  },
  {
   "cell_type": "code",
   "execution_count": 19,
   "metadata": {},
   "outputs": [],
   "source": [
    "model.layers[1].set_weights([embedding_matrix])\n",
    "model.layers[1].trainable = False"
   ]
  },
  {
   "cell_type": "markdown",
   "metadata": {},
   "source": [
    "Обучение будет происходит на протяжении 4 эпох, пакетам по 128 комментариев."
   ]
  },
  {
   "cell_type": "code",
   "execution_count": 20,
   "metadata": {},
   "outputs": [
    {
     "name": "stdout",
     "output_type": "stream",
     "text": [
      "Epoch 1/4\n",
      "1122/1122 [==============================] - 513s 451ms/step - loss: 0.1997 - f1_m: 0.5311 - val_loss: 0.1215 - val_f1_m: 0.7492\n",
      "Epoch 2/4\n",
      "1122/1122 [==============================] - 500s 445ms/step - loss: 0.1245 - f1_m: 0.7495 - val_loss: 0.1161 - val_f1_m: 0.7686\n",
      "Epoch 3/4\n",
      "1122/1122 [==============================] - 514s 458ms/step - loss: 0.1121 - f1_m: 0.7786 - val_loss: 0.1119 - val_f1_m: 0.7670\n",
      "Epoch 4/4\n",
      "1122/1122 [==============================] - 532s 474ms/step - loss: 0.1040 - f1_m: 0.7962 - val_loss: 0.1091 - val_f1_m: 0.7892\n"
     ]
    }
   ],
   "source": [
    "model.compile(optimizer='rmsprop', loss='binary_crossentropy', metrics=[f1_m])\n",
    "history = model.fit(x_train,\n",
    "                    y_train,\n",
    "                    epochs=4,\n",
    "                    batch_size=128,\n",
    "                    validation_data=(x_val, y_val))"
   ]
  },
  {
   "cell_type": "markdown",
   "metadata": {},
   "source": [
    "Теперь определим лучшее значение порога для решения о присуждении комментарию метки токсичности или нет, делать это будем на трейне:    \n",
    "\n",
    "Метод предикт вернет для каждого образца число от 0 до 1, который можно интерпретировать как вероятность принадлежности модели к классу `toxic`. Мы можем выбрать такое значение вероятности, которое будет достаточным для присвоения образцу метки `toxic`. \n",
    "\n",
    "Метрикой лучшего значения для порога будет F1-мера.\n",
    "\n",
    "Данное действие проводится на трейне, чтобы внутрь модели не просачивались информация о валидационной выборке."
   ]
  },
  {
   "cell_type": "code",
   "execution_count": 21,
   "metadata": {},
   "outputs": [
    {
     "name": "stdout",
     "output_type": "stream",
     "text": [
      "Best F1 on train = 0.8274380638693971 if delimiter = 0.5\n"
     ]
    }
   ],
   "source": [
    "prediction = model.predict(x_train)\n",
    "\n",
    "max_f1 = 0\n",
    "best_del = 0\n",
    "for i in np.arange(0, 1, 0.05):\n",
    "    _pred = np.where(prediction < i, 0, 1)\n",
    "    _f1 = f1_score(y_train, _pred)\n",
    "    \n",
    "    if(_f1 > max_f1):\n",
    "        max_f1 = _f1\n",
    "        best_del = i\n",
    "    \n",
    "print(f'Best F1 on train = {max_f1} if delimiter = {best_del}')"
   ]
  },
  {
   "cell_type": "markdown",
   "metadata": {},
   "source": [
    "Теперь можно вычислить `F1-меру`, используя порог, полученный на предыдущем шаге. "
   ]
  },
  {
   "cell_type": "code",
   "execution_count": 22,
   "metadata": {},
   "outputs": [
    {
     "name": "stdout",
     "output_type": "stream",
     "text": [
      "F1 on valid = 0.7979240999026922\n"
     ]
    }
   ],
   "source": [
    "prediction_val = model.predict(x_val)\n",
    "prediction_val = np.where(prediction_val < best_del, 0, 1)\n",
    "print(f'F1 on valid = {f1_score(y_val, prediction_val)}')"
   ]
  },
  {
   "cell_type": "markdown",
   "metadata": {},
   "source": [
    "`F1-мера` выше необходимого порога."
   ]
  },
  {
   "cell_type": "markdown",
   "metadata": {},
   "source": [
    "Проверим модель на адекватность."
   ]
  },
  {
   "cell_type": "code",
   "execution_count": 23,
   "metadata": {},
   "outputs": [
    {
     "name": "stdout",
     "output_type": "stream",
     "text": [
      "Точность = 96.10%\n",
      "Точность константной модели = 89.83%\n"
     ]
    }
   ],
   "source": [
    "print(f'Точность = {accuracy_score(y_val, prediction_val):.2%}')\n",
    "print(f'Точность константной модели = {1-(y_val.sum()/len(y_val)):.2%}')"
   ]
  },
  {
   "cell_type": "markdown",
   "metadata": {},
   "source": [
    "Точность конечной модели выше, чем у константной, модель можно считать адекватной."
   ]
  },
  {
   "cell_type": "markdown",
   "metadata": {},
   "source": [
    "## Выводы"
   ]
  },
  {
   "cell_type": "markdown",
   "metadata": {},
   "source": [
    "Для создания модели оценки токсичности комментария были использованы модели Word2vec и GloVe, а так же рекуррентная нейронная сеть, основанная на слое с долгой-краткосрочной памятью. В выборке виден сильный дисбаланс классов в пользу нетоксичных комментариев. Однако, выборка достаточная большая, чтобы обойтись без создания мнимых образцов или бутстрепинга.    \n",
    "Конечная модель удовлетворяет заданным требованиям и проходит проверку на адекватность."
   ]
  }
 ],
 "metadata": {
  "ExecuteTimeLog": [
   {
    "duration": 1622,
    "start_time": "2021-07-03T19:35:24.881Z"
   },
   {
    "duration": 1807,
    "start_time": "2021-07-04T12:03:45.954Z"
   },
   {
    "duration": 2632,
    "start_time": "2021-07-04T12:03:47.763Z"
   },
   {
    "duration": 1891,
    "start_time": "2021-07-04T12:03:48.510Z"
   },
   {
    "duration": 1893,
    "start_time": "2021-07-04T12:03:48.511Z"
   },
   {
    "duration": 1894,
    "start_time": "2021-07-04T12:03:48.512Z"
   },
   {
    "duration": 1894,
    "start_time": "2021-07-04T12:03:48.514Z"
   },
   {
    "duration": 1895,
    "start_time": "2021-07-04T12:03:48.515Z"
   },
   {
    "duration": 1894,
    "start_time": "2021-07-04T12:03:48.517Z"
   },
   {
    "duration": 1895,
    "start_time": "2021-07-04T12:03:48.518Z"
   },
   {
    "duration": 1895,
    "start_time": "2021-07-04T12:03:48.519Z"
   },
   {
    "duration": 1892,
    "start_time": "2021-07-04T12:03:48.523Z"
   },
   {
    "duration": 1892,
    "start_time": "2021-07-04T12:03:48.525Z"
   },
   {
    "duration": 1891,
    "start_time": "2021-07-04T12:03:48.527Z"
   },
   {
    "duration": 1887,
    "start_time": "2021-07-04T12:03:48.533Z"
   },
   {
    "duration": 1885,
    "start_time": "2021-07-04T12:03:48.536Z"
   },
   {
    "duration": 1885,
    "start_time": "2021-07-04T12:03:48.537Z"
   },
   {
    "duration": 1885,
    "start_time": "2021-07-04T12:03:48.539Z"
   },
   {
    "duration": 1885,
    "start_time": "2021-07-04T12:03:48.540Z"
   },
   {
    "duration": 827,
    "start_time": "2021-07-04T12:05:17.261Z"
   },
   {
    "duration": 32,
    "start_time": "2021-07-04T12:05:19.684Z"
   },
   {
    "duration": 256,
    "start_time": "2021-07-04T12:05:20.353Z"
   },
   {
    "duration": 8,
    "start_time": "2021-07-04T12:05:23.145Z"
   },
   {
    "duration": 153250,
    "start_time": "2021-07-04T12:05:25.302Z"
   },
   {
    "duration": 11,
    "start_time": "2021-07-04T12:07:58.555Z"
   },
   {
    "duration": 13,
    "start_time": "2021-07-04T12:08:25.493Z"
   },
   {
    "duration": 344,
    "start_time": "2021-07-04T12:08:27.584Z"
   }
  ],
  "kernelspec": {
   "display_name": "Python 3",
   "language": "python",
   "name": "python3"
  },
  "language_info": {
   "codemirror_mode": {
    "name": "ipython",
    "version": 3
   },
   "file_extension": ".py",
   "mimetype": "text/x-python",
   "name": "python",
   "nbconvert_exporter": "python",
   "pygments_lexer": "ipython3",
   "version": "3.8.3"
  },
  "toc": {
   "base_numbering": 1,
   "nav_menu": {},
   "number_sections": true,
   "sideBar": true,
   "skip_h1_title": true,
   "title_cell": "Содержание",
   "title_sidebar": "Contents",
   "toc_cell": true,
   "toc_position": {
    "height": "calc(100% - 180px)",
    "left": "10px",
    "top": "150px",
    "width": "302.391px"
   },
   "toc_section_display": true,
   "toc_window_display": false
  }
 },
 "nbformat": 4,
 "nbformat_minor": 2
}
